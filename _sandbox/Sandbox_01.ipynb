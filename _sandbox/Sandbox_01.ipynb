{
 "cells": [
  {
   "cell_type": "markdown",
   "id": "f41dea42",
   "metadata": {},
   "source": [
    "# Sandbox for 3B-C\n",
    "April 11, 2024"
   ]
  },
  {
   "cell_type": "markdown",
   "id": "89fbe35a",
   "metadata": {},
   "source": [
    "## Dict refresher"
   ]
  },
  {
   "cell_type": "code",
   "execution_count": 4,
   "id": "6007e579",
   "metadata": {},
   "outputs": [],
   "source": [
    "x_centre_line = 950"
   ]
  },
  {
   "cell_type": "code",
   "execution_count": 5,
   "id": "89c43c28",
   "metadata": {},
   "outputs": [],
   "source": [
    "boundaries = {\"lf_corner\": (103, 390), \"cf_wall\": (x_centre_line, 35), \"rf_corner\": (1780, 410), \"four_B_tip\": (x_centre_line, 1245)}"
   ]
  },
  {
   "cell_type": "code",
   "execution_count": 9,
   "id": "84378375",
   "metadata": {},
   "outputs": [
    {
     "data": {
      "text/plain": [
       "{'lf_corner': (103, 390),\n",
       " 'cf_wall': (950, 35),\n",
       " 'rf_corner': (1780, 410),\n",
       " 'four_B_tip': (950, 1245)}"
      ]
     },
     "execution_count": 9,
     "metadata": {},
     "output_type": "execute_result"
    }
   ],
   "source": [
    "boundaries"
   ]
  },
  {
   "cell_type": "code",
   "execution_count": 6,
   "id": "8596671b",
   "metadata": {},
   "outputs": [
    {
     "name": "stdout",
     "output_type": "stream",
     "text": [
      "lf_corner\n",
      "cf_wall\n",
      "rf_corner\n",
      "four_B_tip\n"
     ]
    }
   ],
   "source": [
    "for b in boundaries: \n",
    "    print(b)"
   ]
  },
  {
   "cell_type": "code",
   "execution_count": 12,
   "id": "d1730757",
   "metadata": {},
   "outputs": [
    {
     "data": {
      "text/plain": [
       "dict_items([('lf_corner', (103, 390)), ('cf_wall', (950, 35)), ('rf_corner', (1780, 410)), ('four_B_tip', (950, 1245))])"
      ]
     },
     "execution_count": 12,
     "metadata": {},
     "output_type": "execute_result"
    }
   ],
   "source": [
    "boundaries.items()"
   ]
  },
  {
   "cell_type": "code",
   "execution_count": 13,
   "id": "38e77dfc",
   "metadata": {},
   "outputs": [
    {
     "name": "stdout",
     "output_type": "stream",
     "text": [
      "('lf_corner', (103, 390))\n",
      "('cf_wall', (950, 35))\n",
      "('rf_corner', (1780, 410))\n",
      "('four_B_tip', (950, 1245))\n"
     ]
    }
   ],
   "source": [
    "for item in boundaries.items():\n",
    "    print(item)"
   ]
  },
  {
   "cell_type": "code",
   "execution_count": 15,
   "id": "e28c4769",
   "metadata": {},
   "outputs": [
    {
     "data": {
      "text/plain": [
       "(103, 390)"
      ]
     },
     "execution_count": 15,
     "metadata": {},
     "output_type": "execute_result"
    }
   ],
   "source": [
    "boundaries['lf_corner']"
   ]
  },
  {
   "cell_type": "code",
   "execution_count": 16,
   "id": "4e070683",
   "metadata": {},
   "outputs": [
    {
     "name": "stdout",
     "output_type": "stream",
     "text": [
      "(103, 390)\n",
      "(950, 35)\n",
      "(1780, 410)\n",
      "(950, 1245)\n"
     ]
    }
   ],
   "source": [
    "for value in boundaries.values():\n",
    "    print(value)"
   ]
  },
  {
   "cell_type": "code",
   "execution_count": 18,
   "id": "2263cd4a",
   "metadata": {},
   "outputs": [
    {
     "name": "stdout",
     "output_type": "stream",
     "text": [
      "lf_corner --> (103, 390)\n",
      "cf_wall --> (950, 35)\n",
      "rf_corner --> (1780, 410)\n",
      "four_B_tip --> (950, 1245)\n"
     ]
    }
   ],
   "source": [
    "for key, value in boundaries.items():\n",
    "    print(key, \"-->\", value)"
   ]
  },
  {
   "cell_type": "code",
   "execution_count": null,
   "id": "6a0271dd",
   "metadata": {},
   "outputs": [],
   "source": []
  }
 ],
 "metadata": {
  "kernelspec": {
   "display_name": "Python 3 (ipykernel)",
   "language": "python",
   "name": "python3"
  },
  "language_info": {
   "codemirror_mode": {
    "name": "ipython",
    "version": 3
   },
   "file_extension": ".py",
   "mimetype": "text/x-python",
   "name": "python",
   "nbconvert_exporter": "python",
   "pygments_lexer": "ipython3",
   "version": "3.10.5"
  }
 },
 "nbformat": 4,
 "nbformat_minor": 5
}
