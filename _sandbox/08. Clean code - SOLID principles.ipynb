{
 "cells": [
  {
   "cell_type": "markdown",
   "id": "a0257369",
   "metadata": {},
   "source": [
    "## Clean code - SOLID principles\n",
    "April 28, 2024"
   ]
  },
  {
   "cell_type": "markdown",
   "id": "02fb7bf4",
   "metadata": {},
   "source": [
    "## This is a sandbox to experiment with things I've learned in the video below:\n",
    "https://www.youtube.com/watch?v=pTB30aXS77U&t=638s\n",
    "\n",
    "#### Key points:\n",
    "- Have many classes\n",
    "- Push abstract functionality into higher-order classes. Inherit or compose that descending toward subclasses so each class and each level/type has a single responsibility\n",
    "- In doing #2 above, no subclass should use higher-order abstraction in unintended ways. Refactor instead."
   ]
  },
  {
   "cell_type": "markdown",
   "id": "af4f940c",
   "metadata": {},
   "source": [
    "## 1. Creating unique subclasses of abstract base class"
   ]
  },
  {
   "cell_type": "code",
   "execution_count": 7,
   "id": "ddb8fa5f",
   "metadata": {},
   "outputs": [],
   "source": [
    "class ScreenPrinter:\n",
    "    def __init__(self, x, y):\n",
    "        self.x = x\n",
    "        self.y = y\n",
    "        \n",
    "    def print_simple(self, text):\n",
    "        print(f\"Coord: ({self.x},{self.y}) | Text: {text}\")\n",
    "        self.y += 10\n",
    "    \n",
    "    def print_with_rounding(self, var, rouding_digits):\n",
    "        var = str( round( var, rouding_digits) )\n",
    "        print(f\"Coord: ({self.x},{self.y}) | Text: {var}\")\n",
    "        self.y += 10\n",
    "        \n",
    "sp = ScreenPrinter(1000, 400)"
   ]
  },
  {
   "cell_type": "code",
   "execution_count": 9,
   "id": "4a22a17c",
   "metadata": {},
   "outputs": [
    {
     "name": "stdout",
     "output_type": "stream",
     "text": [
      "Coord: (1000,400) | Text: First message\n",
      "Coord: (1000,410) | Text: second message\n",
      "Coord: (1000,420) | Text: third message\n"
     ]
    }
   ],
   "source": [
    "text = [\"First message\", \"second message\", \"third message\"]\n",
    "\n",
    "for msg in text:\n",
    "    sp.print_simple(msg)"
   ]
  },
  {
   "cell_type": "code",
   "execution_count": 12,
   "id": "a563ac00",
   "metadata": {},
   "outputs": [
    {
     "name": "stdout",
     "output_type": "stream",
     "text": [
      "Coord: (1000,460) | Text: First message\n",
      "Coord: (1000,470) | Text: 8.77\n",
      "Coord: (1000,480) | Text: third message\n"
     ]
    }
   ],
   "source": [
    "text = [\"First message\", 8.7675309, \"third message\"]\n",
    "\n",
    "sp.print_simple(text[0])\n",
    "sp.print_with_rounding(text[1], 2)\n",
    "sp.print_simple(text[2])"
   ]
  },
  {
   "cell_type": "code",
   "execution_count": 14,
   "id": "8c923a0a",
   "metadata": {},
   "outputs": [
    {
     "data": {
      "text/plain": [
       "'2'"
      ]
     },
     "execution_count": 14,
     "metadata": {},
     "output_type": "execute_result"
    }
   ],
   "source": [
    "str(\"2\")"
   ]
  },
  {
   "cell_type": "code",
   "execution_count": 17,
   "id": "87fd31dc",
   "metadata": {},
   "outputs": [],
   "source": [
    "text = [\"First message\", (8.5, 6.3), \"third message\"]"
   ]
  },
  {
   "cell_type": "code",
   "execution_count": 18,
   "id": "80c116f2",
   "metadata": {},
   "outputs": [
    {
     "data": {
      "text/plain": [
       "['First message', '(8.5, 6.3)', 'third message']"
      ]
     },
     "execution_count": 18,
     "metadata": {},
     "output_type": "execute_result"
    }
   ],
   "source": [
    "text[1] = str(text[1])\n",
    "text"
   ]
  },
  {
   "cell_type": "code",
   "execution_count": null,
   "id": "1a6e5770",
   "metadata": {},
   "outputs": [],
   "source": []
  }
 ],
 "metadata": {
  "kernelspec": {
   "display_name": "Python 3 (ipykernel)",
   "language": "python",
   "name": "python3"
  },
  "language_info": {
   "codemirror_mode": {
    "name": "ipython",
    "version": 3
   },
   "file_extension": ".py",
   "mimetype": "text/x-python",
   "name": "python",
   "nbconvert_exporter": "python",
   "pygments_lexer": "ipython3",
   "version": "3.10.5"
  }
 },
 "nbformat": 4,
 "nbformat_minor": 5
}
