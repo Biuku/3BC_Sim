{
 "cells": [
  {
   "cell_type": "markdown",
   "id": "220fe798",
   "metadata": {},
   "source": [
    "# 05 -- Diagonal running speed adjustment factor\n",
    "April 23, 2024"
   ]
  },
  {
   "cell_type": "markdown",
   "id": "44e3878a",
   "metadata": {},
   "source": [
    "## Problem statement\n",
    "In coord system like Pygame's, moving an object diagonally (45°, 135°, 225°, or 315°) will be 40% faster than horizontally or vertically (0°, 90°, 180° or 270°). Till now, I've adjusted pure diagonal movement by 0.744.\n",
    "\n",
    "Now, I want to be able to scale this for movement that is not exactly 45°. So, a movement at 5° -- about 11% of 45° -- should re-scale the diagonal adjustment from 0.744 (74.4%) to 0.083 (8.3%). And a movement at 40° should give me a re-scaled diagonal adjustment of 0.661 (66.1%)."
   ]
  },
  {
   "cell_type": "markdown",
   "id": "32499ae1",
   "metadata": {},
   "source": [
    "### A few problems to solve\n",
    "For now, let's only look at diagonal movements between 0° and 180°... my current trigonometry foundation in sandbox --> Pygame_trig_1.py doesn't account for 180° to 360° (South east to South west).\n",
    "\n",
    "1. I need a function that converts a compass direction to an absolute distance on the number line from the nearest multiple of 45°. \n",
    "2. Then I need to scale my diagonal adjustment factor by that.\n",
    "3. Then I need to adjust my speed by that factor."
   ]
  },
  {
   "cell_type": "code",
   "execution_count": 1,
   "id": "8c099cd0",
   "metadata": {},
   "outputs": [],
   "source": [
    "import math"
   ]
  },
  {
   "cell_type": "markdown",
   "id": "507e3cec",
   "metadata": {},
   "source": [
    "### 0. What is the exact 100% diagonal adjustment factor\n",
    "- From $1^2 + 1^2 = hyp^2$ > sqrt(1+1)  "
   ]
  },
  {
   "cell_type": "code",
   "execution_count": 51,
   "id": "9160ee08",
   "metadata": {},
   "outputs": [
    {
     "data": {
      "text/plain": [
       "0.29289321881345254"
      ]
     },
     "execution_count": 51,
     "metadata": {},
     "output_type": "execute_result"
    }
   ],
   "source": [
    "man_diagonal_factor = 1/math.sqrt(2)\n",
    "man_diagonal_factor = 1 - man_diagonal_factor\n",
    "man_diagonal_factor"
   ]
  },
  {
   "cell_type": "markdown",
   "id": "b2a6e1f2",
   "metadata": {},
   "source": [
    "### 0. What is the exact speed?"
   ]
  },
  {
   "cell_type": "code",
   "execution_count": 10,
   "id": "6e897780",
   "metadata": {},
   "outputs": [
    {
     "data": {
      "text/plain": [
       "1.3333333333333333"
      ]
     },
     "execution_count": 10,
     "metadata": {},
     "output_type": "execute_result"
    }
   ],
   "source": [
    "man_speed = 4/3\n",
    "man_speed"
   ]
  },
  {
   "cell_type": "code",
   "execution_count": 49,
   "id": "95df87db",
   "metadata": {},
   "outputs": [
    {
     "data": {
      "text/plain": [
       "0.9428090415820632"
      ]
     },
     "execution_count": 49,
     "metadata": {},
     "output_type": "execute_result"
    }
   ],
   "source": [
    "man_speed * man_diagonal_factor"
   ]
  },
  {
   "cell_type": "markdown",
   "id": "7a812b6e",
   "metadata": {},
   "source": [
    "### 0. Build helper func to test the main func \n",
    "- 'steps' = how granular to look. 15 is optimal."
   ]
  },
  {
   "cell_type": "code",
   "execution_count": 73,
   "id": "2f50cb55",
   "metadata": {},
   "outputs": [],
   "source": [
    "def unit_test(steps):\n",
    "    for deg in range(0, 180, steps):\n",
    "        factor = get_speed_adjustment_factor(deg)"
   ]
  },
  {
   "cell_type": "markdown",
   "id": "e19de080",
   "metadata": {},
   "source": [
    "### 1. Convert compass heading to an absolute distance from a multiple of 45 (0° to 180° for now)\n",
    "\n",
    "### 2. Scale my diagonal adjustment factor by that\n",
    "\n",
    "### 3. Adjust my speed by that factor"
   ]
  },
  {
   "cell_type": "code",
   "execution_count": 59,
   "id": "04c10861",
   "metadata": {},
   "outputs": [
    {
     "name": "stdout",
     "output_type": "stream",
     "text": [
      "Deg: 0  |  Inverse distance from 45: 0  |  Percent of 45: 0.0  | scaled_diagonal_factor: 0.0  |  Scaled_speed: 1.33 \n",
      "Deg: 15  |  Inverse distance from 45: 15  |  Percent of 45: 0.33  | scaled_diagonal_factor: 0.098  |  Scaled_speed: 1.2 \n",
      "Deg: 30  |  Inverse distance from 45: 30  |  Percent of 45: 0.67  | scaled_diagonal_factor: 0.195  |  Scaled_speed: 1.07 \n",
      "Deg: 45  |  Inverse distance from 45: 45  |  Percent of 45: 1.0  | scaled_diagonal_factor: 0.293  |  Scaled_speed: 0.94 \n",
      "Deg: 60  |  Inverse distance from 45: 30  |  Percent of 45: 0.67  | scaled_diagonal_factor: 0.195  |  Scaled_speed: 1.07 \n",
      "Deg: 75  |  Inverse distance from 45: 15  |  Percent of 45: 0.33  | scaled_diagonal_factor: 0.098  |  Scaled_speed: 1.2 \n",
      "Deg: 90  |  Inverse distance from 45: 0  |  Percent of 45: 0.0  | scaled_diagonal_factor: 0.0  |  Scaled_speed: 1.33 \n",
      "Deg: 15  |  Inverse distance from 45: 15  |  Percent of 45: 0.33  | scaled_diagonal_factor: 0.098  |  Scaled_speed: 1.2 \n",
      "Deg: 30  |  Inverse distance from 45: 30  |  Percent of 45: 0.67  | scaled_diagonal_factor: 0.195  |  Scaled_speed: 1.07 \n",
      "Deg: 45  |  Inverse distance from 45: 45  |  Percent of 45: 1.0  | scaled_diagonal_factor: 0.293  |  Scaled_speed: 0.94 \n",
      "Deg: 60  |  Inverse distance from 45: 30  |  Percent of 45: 0.67  | scaled_diagonal_factor: 0.195  |  Scaled_speed: 1.07 \n",
      "Deg: 75  |  Inverse distance from 45: 15  |  Percent of 45: 0.33  | scaled_diagonal_factor: 0.098  |  Scaled_speed: 1.2 \n"
     ]
    }
   ],
   "source": [
    "def get_speed_adjustment_factor(deg):\n",
    "    if deg > 90:\n",
    "        deg -= 90\n",
    "    \n",
    "    \n",
    "    \"\"\"\n",
    "    What if I adjust diagonal factor to be 1-0.71, or 0.2929\n",
    "    \n",
    "    Given 45°, I want to adjust speed by 100% of the diagonal_factor to maximize speed reduction:\n",
    "        - scaled_diagonal_factor * 100% = 0.29 * 1.00 = 0.29\n",
    "        - new_speed = old_speed - (old speed * scaled_diagonal_factor) = 1.33 - (1.33 * 0.29) = 0.94\n",
    "    Now, given 20°, intuitively, I want to adjust speed less -- by only 44% of the diagonal factor\n",
    "        - scaled_diagonal_factor * 44% = 0.71 * 0.44 = 0.13\n",
    "        - new_speed = old_speed * (1 - scaled_diagonal_factor) = 1.33 - (0.87) = 1.16\n",
    "    \"\"\"\n",
    "    \n",
    "    inverse_distance_from_45 = 45 - abs(deg-45)\n",
    "    percent_of_45 = inverse_distance_from_45/45\n",
    "    \n",
    "\n",
    "    \n",
    "    scaled_diagonal_factor = man_diagonal_factor * percent_of_45\n",
    "    \n",
    "    scaled_speed = man_speed * (1 - scaled_diagonal_factor)\n",
    "    \n",
    "    \n",
    "    \n",
    "    \n",
    "    ## Rounding\n",
    "    percent_of_45 = round(percent_of_45, 2)\n",
    "    scaled_diagonal_factor = round(scaled_diagonal_factor, 3)\n",
    "    scaled_speed = round(scaled_speed, 2)\n",
    "\n",
    "    \n",
    "    ## Print results\n",
    "    print(f\"Deg: {deg}  |  Inverse distance from 45: {inverse_distance_from_45}\", end = \"  |  \")\n",
    "    print(f\"Percent of 45: {percent_of_45}  | scaled_diagonal_factor: {scaled_diagonal_factor}\", end = \"  |  \") \n",
    "    print(f\"Scaled_speed: {scaled_speed} \")\n",
    "\n",
    "\n",
    "unit_test(15)"
   ]
  },
  {
   "cell_type": "markdown",
   "id": "c9d02f5a",
   "metadata": {},
   "source": [
    "# ^^^ Yup -- that works\n",
    "- At 0° and 90°, the scaled speed = full speed > 1.33\n",
    "- At 45°, the scaled speed is adjusted by 100% of the adjustment factor = 1.33 - 0.29 = 0.94\n",
    "- At 15° and 75°, the scaled speed is adjusted by only 1/3 of the adjustment factor = 1.33 - 0.1 = 1.23"
   ]
  },
  {
   "cell_type": "markdown",
   "id": "6ec585d7",
   "metadata": {},
   "source": [
    "## Clean version of the code above"
   ]
  },
  {
   "cell_type": "code",
   "execution_count": 65,
   "id": "e60fc2c1",
   "metadata": {},
   "outputs": [
    {
     "data": {
      "text/plain": [
       "1.2031585694162432"
      ]
     },
     "execution_count": 65,
     "metadata": {},
     "output_type": "execute_result"
    }
   ],
   "source": [
    "def get_scaled_speed(deg):\n",
    "    if deg > 90:\n",
    "        deg -= 90\n",
    "    \n",
    "    ## Get value to scale the diagonal factor by\n",
    "    inverse_distance_from_45 = 45 - abs(deg-45)\n",
    "    percent_of_45 = inverse_distance_from_45/45\n",
    "    \n",
    "    ## Scale the diagonal factor\n",
    "    scaled_diagonal_factor = man_diagonal_factor * percent_of_45\n",
    "    \n",
    "    ## Scale the speed\n",
    "    scaled_speed = man_speed * (1 - scaled_diagonal_factor)\n",
    "    \n",
    "    return scaled_speed\n",
    "\n",
    "get_speed_adjustment_factor(15)"
   ]
  },
  {
   "cell_type": "markdown",
   "id": "60b24ee7",
   "metadata": {},
   "source": [
    "## Let's incorporate movement South\n",
    "- Reduce all degress to a number from 0-90"
   ]
  },
  {
   "cell_type": "code",
   "execution_count": 71,
   "id": "ca6b65d4",
   "metadata": {},
   "outputs": [
    {
     "name": "stdout",
     "output_type": "stream",
     "text": [
      "0   |   0\n",
      "15   |   15\n",
      "30   |   30\n",
      "45   |   45\n",
      "60   |   60\n",
      "75   |   75\n",
      "90   |   0\n",
      "105   |   15\n",
      "120   |   30\n",
      "135   |   45\n",
      "150   |   60\n",
      "165   |   75\n",
      "180   |   0\n",
      "195   |   15\n",
      "210   |   30\n",
      "225   |   45\n",
      "240   |   60\n",
      "255   |   75\n",
      "270   |   0\n",
      "285   |   15\n",
      "300   |   30\n",
      "315   |   45\n",
      "330   |   60\n",
      "345   |   75\n",
      "360   |   0\n"
     ]
    }
   ],
   "source": [
    "def reduce_to_under_90(deg):\n",
    "    factor = deg//90\n",
    "    deg -= 90*factor\n",
    "    \n",
    "    return deg\n",
    "    \n",
    "for i in range(0, 361, 15):\n",
    "    x = reduce_to_under_90(i)    \n",
    "    print(i, \"  |  \", x)\n",
    "\n",
    "    #deg = 200"
   ]
  },
  {
   "cell_type": "code",
   "execution_count": 81,
   "id": "32636778",
   "metadata": {},
   "outputs": [
    {
     "data": {
      "text/plain": [
       "(1.2031585694162432, 15)"
      ]
     },
     "execution_count": 81,
     "metadata": {},
     "output_type": "execute_result"
    }
   ],
   "source": [
    "def get_scaled_speed(deg):\n",
    "    factor = deg//90\n",
    "    deg -= 90*factor\n",
    "    \n",
    "    ## Get value to scale the diagonal factor by\n",
    "    inverse_distance_from_45 = 45 - abs(deg-45)\n",
    "    percent_of_45 = inverse_distance_from_45/45\n",
    "    \n",
    "    ## Scale the diagonal factor\n",
    "    scaled_diagonal_factor = man_diagonal_factor * percent_of_45\n",
    "    \n",
    "    ## Scale the speed\n",
    "    scaled_speed = man_speed * (1 - scaled_diagonal_factor)\n",
    "    \n",
    "    return scaled_speed, deg\n",
    "\n",
    "get_scaled_speed(15)"
   ]
  },
  {
   "cell_type": "code",
   "execution_count": 82,
   "id": "4dc37257",
   "metadata": {},
   "outputs": [
    {
     "name": "stdout",
     "output_type": "stream",
     "text": [
      "0   |   1.333\n",
      "15   |   1.203\n",
      "30   |   1.073\n",
      "45   |   0.943\n",
      "60   |   1.073\n",
      "75   |   1.203\n",
      "0   |   1.333\n",
      "15   |   1.203\n",
      "30   |   1.073\n",
      "45   |   0.943\n",
      "60   |   1.073\n",
      "75   |   1.203\n",
      "0   |   1.333\n",
      "15   |   1.203\n",
      "30   |   1.073\n",
      "45   |   0.943\n",
      "60   |   1.073\n",
      "75   |   1.203\n",
      "0   |   1.333\n",
      "15   |   1.203\n",
      "30   |   1.073\n",
      "45   |   0.943\n",
      "60   |   1.073\n",
      "75   |   1.203\n",
      "0   |   1.333\n"
     ]
    }
   ],
   "source": [
    "def unit_test2(steps):\n",
    "    for deg in range(0, 361, steps):\n",
    "        scaled_speed, adjusted_deg = get_scaled_speed(deg)\n",
    "        print(adjusted_deg, \"  |  \", round(scaled_speed, 3))\n",
    "\n",
    "unit_test2(15)"
   ]
  },
  {
   "cell_type": "markdown",
   "id": "0576f2ab",
   "metadata": {},
   "source": [
    "# New problem, convert theta to a direction, Left, Right, other (North/South)"
   ]
  },
  {
   "cell_type": "code",
   "execution_count": 9,
   "id": "d5abca61",
   "metadata": {},
   "outputs": [
    {
     "name": "stdout",
     "output_type": "stream",
     "text": [
      "[0, -15, -30, -45, -60, -75, -90, -105, -120, -135, -150, -165, 180, 165, 150, 135, 120, 105, 90, 75, 60, 45, 30, 15]\n"
     ]
    }
   ],
   "source": [
    "clockwise_thetas = []\n",
    "for theta in range(0, -179, -15):\n",
    "    clockwise_thetas.append(theta)\n",
    "\n",
    "for theta in range(180, 0, -15):\n",
    "    clockwise_thetas.append(theta)\n",
    "\n",
    "print(clockwise_thetas)"
   ]
  },
  {
   "cell_type": "markdown",
   "id": "3960b803",
   "metadata": {},
   "source": [
    "- 0 = right\n",
    "- 90 = North\n",
    "- 180 = left\n",
    "- -135 = SW\n",
    "- -90 = South\n",
    "- -45 = SE"
   ]
  },
  {
   "cell_type": "code",
   "execution_count": 43,
   "id": "5eaf00d8",
   "metadata": {},
   "outputs": [],
   "source": [
    "def get_direction_facing(theta_deg):\n",
    "    \n",
    "    ## Set a constant in deg that says how close I need to be to 90 and 180 for the man to not face North\n",
    "    left_right_threshold = 60\n",
    "    \n",
    "    distance_from_left = abs( 180 - abs(theta_deg) )\n",
    "    distance_from_right = abs( 0 - abs(theta_deg) )\n",
    "    \n",
    "    #print(f\"Deg = {theta_deg}  |  Distance from left = {distance_from_left}  |  Distance from right = {distance_from_right} \")\n",
    "    #return\n",
    "\n",
    "    if distance_from_left < left_right_threshold:\n",
    "        print(f\"  > Deg: {theta_deg}  |  Left, with abs distance from 180 of {distance_from_left}\")\n",
    "        return 1 # 1 = left\n",
    "        \n",
    "    if distance_from_right < left_right_threshold:\n",
    "        print(f\"  > Deg: {theta_deg}  |  Right, with abs distance from 0 of {distance_from_right}\")\n",
    "        return 2 # 2 = right\n",
    "    \n",
    "    print(f\"  > Deg: {theta_deg}  |  North/South\")\n",
    "    return 3"
   ]
  },
  {
   "cell_type": "code",
   "execution_count": 47,
   "id": "48292cbe",
   "metadata": {},
   "outputs": [
    {
     "name": "stdout",
     "output_type": "stream",
     "text": [
      "  > Deg: 0  |  Right, with abs distance from 0 of 0\n",
      "  > Deg: -15  |  Right, with abs distance from 0 of 15\n",
      "  > Deg: -30  |  Right, with abs distance from 0 of 30\n",
      "  > Deg: -45  |  Right, with abs distance from 0 of 45\n",
      "  > Deg: -60  |  North/South\n",
      "  > Deg: -75  |  North/South\n",
      "  > Deg: -90  |  North/South\n",
      "  > Deg: -105  |  North/South\n",
      "  > Deg: -120  |  North/South\n",
      "  > Deg: -135  |  Left, with abs distance from 180 of 45\n",
      "  > Deg: -150  |  Left, with abs distance from 180 of 30\n",
      "  > Deg: -165  |  Left, with abs distance from 180 of 15\n",
      "  > Deg: 180  |  Left, with abs distance from 180 of 0\n",
      "  > Deg: 165  |  Left, with abs distance from 180 of 15\n",
      "  > Deg: 150  |  Left, with abs distance from 180 of 30\n",
      "  > Deg: 135  |  Left, with abs distance from 180 of 45\n",
      "  > Deg: 120  |  North/South\n",
      "  > Deg: 105  |  North/South\n",
      "  > Deg: 90  |  North/South\n",
      "  > Deg: 75  |  North/South\n",
      "  > Deg: 60  |  North/South\n",
      "  > Deg: 45  |  Right, with abs distance from 0 of 45\n",
      "  > Deg: 30  |  Right, with abs distance from 0 of 30\n",
      "  > Deg: 15  |  Right, with abs distance from 0 of 15\n"
     ]
    }
   ],
   "source": [
    "def unit_test3():\n",
    "    for theta in clockwise_thetas:\n",
    "        direction = get_direction_facing(theta)\n",
    "\n",
    "        text = \"North\"\n",
    "\n",
    "        if direction == 1:\n",
    "            text = \"Left\"\n",
    "\n",
    "        elif direction == 2:\n",
    "            text = \"Right\"\n",
    "\n",
    "        #print(f\"Theta: {theta}  |  Direction: {text} \")\n",
    "unit_test3()"
   ]
  },
  {
   "cell_type": "markdown",
   "id": "ec561bf4",
   "metadata": {},
   "source": [
    "## Okay -- that works. Need to clean up the code"
   ]
  },
  {
   "cell_type": "code",
   "execution_count": 54,
   "id": "b56778e4",
   "metadata": {},
   "outputs": [
    {
     "name": "stdout",
     "output_type": "stream",
     "text": [
      "0   |   2\n",
      "-15   |   2\n",
      "-30   |   2\n",
      "-45   |   2\n",
      "-60   |   3\n",
      "-75   |   3\n",
      "-90   |   3\n",
      "-105   |   3\n",
      "-120   |   3\n",
      "-135   |   1\n",
      "-150   |   1\n",
      "-165   |   1\n",
      "180   |   1\n",
      "165   |   1\n",
      "150   |   1\n",
      "135   |   1\n",
      "120   |   3\n",
      "105   |   3\n",
      "90   |   3\n",
      "75   |   3\n",
      "60   |   3\n",
      "45   |   2\n",
      "30   |   2\n",
      "15   |   2\n"
     ]
    }
   ],
   "source": [
    "def get_direction_facing(theta_deg):\n",
    "    \n",
    "    ## Set a constant in deg that says how close I need to be to 90 and 180 for the man to not face North\n",
    "    left_right_threshold = 60\n",
    "    \n",
    "    distance_from_left = abs( 180 - abs(theta_deg) )\n",
    "    distance_from_right = abs( 0 - abs(theta_deg) )\n",
    "    \n",
    "    if distance_from_left < left_right_threshold:\n",
    "        return 1 # 1 = left\n",
    "        \n",
    "    if distance_from_right < left_right_threshold:\n",
    "        return 2 # 2 = right\n",
    "    \n",
    "    return 3 # = North/South\n",
    "\n",
    "\n",
    "\n",
    "for theta in clockwise_thetas:\n",
    "    print(theta, \"  |  \", get_direction_facing(theta))"
   ]
  },
  {
   "cell_type": "code",
   "execution_count": null,
   "id": "89c35cdd",
   "metadata": {},
   "outputs": [],
   "source": []
  }
 ],
 "metadata": {
  "kernelspec": {
   "display_name": "Python 3 (ipykernel)",
   "language": "python",
   "name": "python3"
  },
  "language_info": {
   "codemirror_mode": {
    "name": "ipython",
    "version": 3
   },
   "file_extension": ".py",
   "mimetype": "text/x-python",
   "name": "python",
   "nbconvert_exporter": "python",
   "pygments_lexer": "ipython3",
   "version": "3.10.5"
  }
 },
 "nbformat": 4,
 "nbformat_minor": 5
}
