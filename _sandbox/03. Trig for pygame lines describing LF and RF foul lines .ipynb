{
 "cells": [
  {
   "cell_type": "markdown",
   "id": "53d8eb5e",
   "metadata": {},
   "source": [
    "# Trig for pygame lines describing LF and RF foul lines\n",
    "April 17, 2024"
   ]
  },
  {
   "cell_type": "markdown",
   "id": "596ed65b",
   "metadata": {},
   "source": [
    "## 1. Need to find the centre of the circle comprising the OF wall\n",
    "Call this the Main Centroid"
   ]
  },
  {
   "cell_type": "markdown",
   "id": "5ae5e1c3",
   "metadata": {},
   "source": [
    "### Make a list of trial and error\n",
    "- 0 = y coord\n",
    "- 1 = distance to RF boundary\n",
    "- 2 = distance to CF boundary"
   ]
  },
  {
   "cell_type": "code",
   "execution_count": 4,
   "id": "53ca70b1",
   "metadata": {},
   "outputs": [
    {
     "name": "stdout",
     "output_type": "stream",
     "text": [
      "1100 :  -38\n",
      "800 :  -84\n",
      "1800 :  20\n",
      "2000 :  29\n",
      "1600 :  28\n",
      "1700 :  15\n"
     ]
    }
   ],
   "source": [
    "li = [ \n",
    "    [1100, 414, 376 ],\n",
    "    [800, 355, 271],\n",
    "    [1800, 604, 624 ],\n",
    "    [2000, 666, 695 ],\n",
    "    [1600, 667, 695],\n",
    "    [1700, 574, 589],\n",
    "    [1750, 576, 589]\n",
    "]\n",
    "\n",
    "for row in li:\n",
    "    diff = row[2] - row[1]\n",
    "    print(row[0], \": \", diff)"
   ]
  },
  {
   "cell_type": "code",
   "execution_count": 5,
   "id": "1b1340cb",
   "metadata": {},
   "outputs": [
    {
     "data": {
      "text/plain": [
       "10.12"
      ]
     },
     "execution_count": 5,
     "metadata": {},
     "output_type": "execute_result"
    }
   ],
   "source": [
    "round(10.12239829, 2)"
   ]
  },
  {
   "cell_type": "markdown",
   "id": "4b23617f",
   "metadata": {},
   "source": [
    "## 2. Now, find the angle from the Main Centroid to the LF foul pole\n",
    "- Using law of cosines"
   ]
  },
  {
   "cell_type": "code",
   "execution_count": 7,
   "id": "51936a50",
   "metadata": {},
   "outputs": [
    {
     "name": "stdout",
     "output_type": "stream",
     "text": [
      "898 1395 1406.103836848474\n"
     ]
    }
   ],
   "source": [
    "a = 898\n",
    "b = 1395\n",
    "c = 1406.103836848474\n",
    "\n",
    "print(a, b, c)"
   ]
  },
  {
   "cell_type": "code",
   "execution_count": 10,
   "id": "05a7d494",
   "metadata": {},
   "outputs": [],
   "source": [
    "import math"
   ]
  },
  {
   "cell_type": "code",
   "execution_count": 9,
   "id": "b6bd1500",
   "metadata": {},
   "outputs": [
    {
     "data": {
      "text/plain": [
       "0.3094495134548299"
      ]
     },
     "execution_count": 9,
     "metadata": {},
     "output_type": "execute_result"
    }
   ],
   "source": [
    "cos_C = (a**2 + b**2 - c**2) / (2 * a * b)\n",
    "cos_C"
   ]
  },
  {
   "cell_type": "code",
   "execution_count": 12,
   "id": "04215392",
   "metadata": {},
   "outputs": [
    {
     "data": {
      "text/plain": [
       "71.97394124379416"
      ]
     },
     "execution_count": 12,
     "metadata": {},
     "output_type": "execute_result"
    }
   ],
   "source": [
    "angle_C_rad = math.acos(cos_C)\n",
    "\n",
    "angle_C_deg = math.degrees(angle_C_rad)\n",
    "\n",
    "angle_C_deg"
   ]
  },
  {
   "cell_type": "code",
   "execution_count": 13,
   "id": "7c2a36d6",
   "metadata": {},
   "outputs": [
    {
     "data": {
      "text/plain": [
       "1.2561822503411508"
      ]
     },
     "execution_count": 13,
     "metadata": {},
     "output_type": "execute_result"
    }
   ],
   "source": [
    "angle_C_rad"
   ]
  },
  {
   "cell_type": "markdown",
   "id": "3bb34a9a",
   "metadata": {},
   "source": [
    "## 3. "
   ]
  },
  {
   "cell_type": "code",
   "execution_count": 14,
   "id": "45e3d3a9",
   "metadata": {},
   "outputs": [
    {
     "data": {
      "text/plain": [
       "2.822834645669291"
      ]
     },
     "execution_count": 14,
     "metadata": {},
     "output_type": "execute_result"
    }
   ],
   "source": [
    "p2f = ( (355/127) + (362/127) ) / 2\n",
    "p2f"
   ]
  },
  {
   "cell_type": "code",
   "execution_count": 15,
   "id": "c5e03f09",
   "metadata": {},
   "outputs": [
    {
     "data": {
      "text/plain": [
       "1340.8464566929133"
      ]
     },
     "execution_count": 15,
     "metadata": {},
     "output_type": "execute_result"
    }
   ],
   "source": [
    "475 * p2f"
   ]
  },
  {
   "cell_type": "code",
   "execution_count": 16,
   "id": "7f8ad1e0",
   "metadata": {},
   "outputs": [
    {
     "data": {
      "text/plain": [
       "1411.4173228346456"
      ]
     },
     "execution_count": 16,
     "metadata": {},
     "output_type": "execute_result"
    }
   ],
   "source": [
    "500 * p2f"
   ]
  },
  {
   "cell_type": "markdown",
   "id": "841e8243",
   "metadata": {},
   "source": [
    "### Get min value from a dict"
   ]
  },
  {
   "cell_type": "code",
   "execution_count": 17,
   "id": "b205a06d",
   "metadata": {},
   "outputs": [
    {
     "data": {
      "text/plain": [
       "{1: 765, 2: 65, 3: 7823983, 4: -2}"
      ]
     },
     "execution_count": 17,
     "metadata": {},
     "output_type": "execute_result"
    }
   ],
   "source": [
    "dict = {1: 765, 2: 65, 3: 7823983, 4: -2}\n",
    "dict"
   ]
  },
  {
   "cell_type": "code",
   "execution_count": 18,
   "id": "6571bc1a",
   "metadata": {},
   "outputs": [
    {
     "data": {
      "text/plain": [
       "1"
      ]
     },
     "execution_count": 18,
     "metadata": {},
     "output_type": "execute_result"
    }
   ],
   "source": [
    "min(dict)"
   ]
  },
  {
   "cell_type": "code",
   "execution_count": 19,
   "id": "f35d4c6b",
   "metadata": {},
   "outputs": [
    {
     "data": {
      "text/plain": [
       "-2"
      ]
     },
     "execution_count": 19,
     "metadata": {},
     "output_type": "execute_result"
    }
   ],
   "source": [
    "min(dict.values())"
   ]
  },
  {
   "cell_type": "code",
   "execution_count": 20,
   "id": "2ab41411",
   "metadata": {},
   "outputs": [
    {
     "data": {
      "text/plain": [
       "4"
      ]
     },
     "execution_count": 20,
     "metadata": {},
     "output_type": "execute_result"
    }
   ],
   "source": [
    "min(dict, key=dict.get)"
   ]
  },
  {
   "cell_type": "code",
   "execution_count": null,
   "id": "99548e44",
   "metadata": {},
   "outputs": [],
   "source": [
    "dict = {1: [765, 25], 2: [65, 8], 3: [7823983, 28], 4: [-2, 99]}"
   ]
  }
 ],
 "metadata": {
  "kernelspec": {
   "display_name": "Python 3 (ipykernel)",
   "language": "python",
   "name": "python3"
  },
  "language_info": {
   "codemirror_mode": {
    "name": "ipython",
    "version": 3
   },
   "file_extension": ".py",
   "mimetype": "text/x-python",
   "name": "python",
   "nbconvert_exporter": "python",
   "pygments_lexer": "ipython3",
   "version": "3.10.5"
  }
 },
 "nbformat": 4,
 "nbformat_minor": 5
}
