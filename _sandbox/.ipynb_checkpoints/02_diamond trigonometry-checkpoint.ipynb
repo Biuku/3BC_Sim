{
 "cells": [
  {
   "cell_type": "markdown",
   "id": "b593d3ee",
   "metadata": {},
   "source": [
    "# Diamond trigonometry\n",
    "April 11, 2024\n",
    "\n",
    "I need math that lets me input \"steps over\" and \"steps back\" from a base or other anchor, and it adjusts the coordinates on a diamond rotated 45 degrees.  "
   ]
  },
  {
   "cell_type": "code",
   "execution_count": 5,
   "id": "4c002a9e",
   "metadata": {},
   "outputs": [],
   "source": [
    "import numpy as np"
   ]
  },
  {
   "cell_type": "code",
   "execution_count": 1,
   "id": "87c6558d",
   "metadata": {},
   "outputs": [],
   "source": [
    "old_pos = (1130, 1055)\n",
    "\n",
    "target_pos = (1145, 951)"
   ]
  },
  {
   "cell_type": "markdown",
   "id": "e8d8e1f8",
   "metadata": {},
   "source": [
    "## Let's just test dive numpy"
   ]
  },
  {
   "cell_type": "code",
   "execution_count": 10,
   "id": "0e187267",
   "metadata": {},
   "outputs": [],
   "source": [
    "adjust = np.array([ [6.4, 6.4], [8.5, 8.5]])\n",
    "\n",
    "steps_posNeg = np.array([ [-1, -1], [1, -1] ])"
   ]
  },
  {
   "cell_type": "code",
   "execution_count": 11,
   "id": "9b50c6e2",
   "metadata": {},
   "outputs": [
    {
     "data": {
      "text/plain": [
       "array([[-6.4, -6.4],\n",
       "       [ 8.5, -8.5]])"
      ]
     },
     "execution_count": 11,
     "metadata": {},
     "output_type": "execute_result"
    }
   ],
   "source": [
    "all_xy = adjust * steps_posNeg\n",
    "all_xy"
   ]
  },
  {
   "cell_type": "code",
   "execution_count": 12,
   "id": "97e61081",
   "metadata": {},
   "outputs": [
    {
     "data": {
      "text/plain": [
       "array([  2.1, -14.9])"
      ]
     },
     "execution_count": 12,
     "metadata": {},
     "output_type": "execute_result"
    }
   ],
   "source": [
    "x = np.sum(all_xy[:, 0])\n",
    "y = np.sum(all_xy[:, 1])\n",
    "adjust = np.array([x, y])\n",
    "adjust"
   ]
  },
  {
   "cell_type": "code",
   "execution_count": 13,
   "id": "3fbed94a",
   "metadata": {},
   "outputs": [
    {
     "data": {
      "text/plain": [
       "array([  14.679, -104.151])"
      ]
     },
     "execution_count": 13,
     "metadata": {},
     "output_type": "execute_result"
    }
   ],
   "source": [
    "adjust * 6.99"
   ]
  },
  {
   "cell_type": "markdown",
   "id": "fd0356fc",
   "metadata": {},
   "source": [
    "## Okay, let's do this"
   ]
  },
  {
   "cell_type": "code",
   "execution_count": 5,
   "id": "67b79323",
   "metadata": {},
   "outputs": [],
   "source": [
    "steps = (9, 12) # over_back\n",
    "\n",
    "steps_posNeg = np.array([ [-1, -1], [1, -1] ]) ## second tuple says x moves rightward, y moves up\n",
    "\n",
    "pixels_per_step = 7"
   ]
  },
  {
   "cell_type": "code",
   "execution_count": 20,
   "id": "e34f1eb2",
   "metadata": {},
   "outputs": [
    {
     "data": {
      "text/plain": [
       "array([[-1, -1],\n",
       "       [ 1, -1]])"
      ]
     },
     "execution_count": 20,
     "metadata": {},
     "output_type": "execute_result"
    }
   ],
   "source": [
    "steps_posNeg"
   ]
  },
  {
   "cell_type": "code",
   "execution_count": 16,
   "id": "8b46da0c",
   "metadata": {},
   "outputs": [
    {
     "data": {
      "text/plain": [
       "6.363961030678928"
      ]
     },
     "execution_count": 16,
     "metadata": {},
     "output_type": "execute_result"
    }
   ],
   "source": [
    "# Get the a sides of the 'over' triangle\n",
    "\n",
    "over_a = np.sqrt( (steps[0] **2)/2 ) \n",
    "over_a"
   ]
  },
  {
   "cell_type": "code",
   "execution_count": 17,
   "id": "b84fd0d6",
   "metadata": {},
   "outputs": [
    {
     "data": {
      "text/plain": [
       "8.48528137423857"
      ]
     },
     "execution_count": 17,
     "metadata": {},
     "output_type": "execute_result"
    }
   ],
   "source": [
    "back_a = np.sqrt( (steps[1] **2)/2 ) \n",
    "back_a "
   ]
  },
  {
   "cell_type": "markdown",
   "id": "66708900",
   "metadata": {},
   "source": [
    "## Now as a function"
   ]
  },
  {
   "cell_type": "code",
   "execution_count": 14,
   "id": "2f559b5c",
   "metadata": {},
   "outputs": [],
   "source": [
    "def steps_to_pos(old_pos, steps, steps_posNeg):\n",
    "    over_a = np.sqrt( (steps[0] **2)/2 )\n",
    "    back_a = np.sqrt( (steps[1] **2)/2 )\n",
    "    \n",
    "    adjust = np.array([ [over_a, over_a], [back_a, back_a]])\n",
    "    \n",
    "    all_xy = adjust * steps_posNeg\n",
    "    \n",
    "    #sum x's and y's\n",
    "    x = np.sum(all_xy[:, 0])\n",
    "    y = np.sum(all_xy[:, 1])\n",
    "    \n",
    "    adjust = np.array( [x, y]) * pixels_per_step\n",
    "    \n",
    "    return old_pos + adjust    "
   ]
  },
  {
   "cell_type": "code",
   "execution_count": 15,
   "id": "68d03028",
   "metadata": {},
   "outputs": [
    {
     "data": {
      "text/plain": [
       "array([1144.8492424 ,  951.05530317])"
      ]
     },
     "execution_count": 15,
     "metadata": {},
     "output_type": "execute_result"
    }
   ],
   "source": [
    "steps_to_pos(old_pos, steps, steps_posNeg)"
   ]
  },
  {
   "cell_type": "code",
   "execution_count": 17,
   "id": "decd8220",
   "metadata": {},
   "outputs": [
    {
     "data": {
      "text/plain": [
       "(1145, 951)"
      ]
     },
     "execution_count": 17,
     "metadata": {},
     "output_type": "execute_result"
    }
   ],
   "source": [
    "target_pos"
   ]
  },
  {
   "cell_type": "markdown",
   "id": "443c8a17",
   "metadata": {},
   "source": [
    "## Testing my visual studio code"
   ]
  },
  {
   "cell_type": "code",
   "execution_count": 1,
   "id": "464c578f",
   "metadata": {},
   "outputs": [],
   "source": [
    "steps_adjust = {    \"f3\": [(9, 12), [(-1, -1), (1, -1)] ],\n",
    "                    \"f4\": [(-5, 12), [(1,1), (1,-1)]  ],\n",
    "                    \"f5\": [ (7, 12), [(1,-1), (-1, -1)]  ],\n",
    "                    \"f6\": [ (-7, 15), [(-1, 1), (-1, -1)]  ], \n",
    "                }"
   ]
  },
  {
   "cell_type": "code",
   "execution_count": 6,
   "id": "4ada165c",
   "metadata": {},
   "outputs": [
    {
     "data": {
      "text/plain": [
       "array([[-1, -1],\n",
       "       [ 1, -1]])"
      ]
     },
     "execution_count": 6,
     "metadata": {},
     "output_type": "execute_result"
    }
   ],
   "source": [
    "np.array(steps_adjust['f3'][1])"
   ]
  },
  {
   "cell_type": "code",
   "execution_count": null,
   "id": "160debb5",
   "metadata": {},
   "outputs": [],
   "source": []
  }
 ],
 "metadata": {
  "kernelspec": {
   "display_name": "Python 3 (ipykernel)",
   "language": "python",
   "name": "python3"
  },
  "language_info": {
   "codemirror_mode": {
    "name": "ipython",
    "version": 3
   },
   "file_extension": ".py",
   "mimetype": "text/x-python",
   "name": "python",
   "nbconvert_exporter": "python",
   "pygments_lexer": "ipython3",
   "version": "3.10.5"
  }
 },
 "nbformat": 4,
 "nbformat_minor": 5
}
