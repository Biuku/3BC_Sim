{
 "cells": [
  {
   "cell_type": "markdown",
   "id": "8b53a513",
   "metadata": {},
   "source": [
    "# 05 -- Diagonal running speed adjustment factor\n",
    "April 23, 2024"
   ]
  },
  {
   "cell_type": "markdown",
   "id": "87f1f4ba",
   "metadata": {},
   "source": [
    "## Problem statement\n",
    "In coord system like Pygame's, moving an object diagonally (45°, 135°, 225°, or 315°) will be 40% faster than horizontally or vertically (0°, 90°, 180° or 270°). Till now, I've adjusted pure diagonal movement by 0.744.\n",
    "\n",
    "Now, I want to be able to scale this for movement that is not exactly 45°. So, a movement at 5° -- about 11% of 45° -- should re-scale the diagonal adjustment from 0.744 (74.4%) to 0.083 (8.3%). And a movement at 40° should give me a re-scaled diagonal adjustment of 0.661 (66.1%)."
   ]
  },
  {
   "cell_type": "markdown",
   "id": "9c7e3081",
   "metadata": {},
   "source": [
    "### A few problems to solve\n",
    "For now, let's only look at diagonal movements between 0° and 180°... my current trigonometry foundation in sandbox --> Pygame_trig_1.py doesn't account for 180° to 360° (South east to South west).\n",
    "\n",
    "1. I need a function that converts a compass direction to an absolute distance on the number line from the nearest multiple of 45°. \n",
    "2. Then I need to scale my diagonal adjustment factor by that.\n",
    "3. Then I need to adjust my speed by that factor."
   ]
  },
  {
   "cell_type": "code",
   "execution_count": 1,
   "id": "e4431a4d",
   "metadata": {},
   "outputs": [],
   "source": [
    "import math"
   ]
  },
  {
   "cell_type": "markdown",
   "id": "abed92db",
   "metadata": {},
   "source": [
    "### 0. What is the exact 100% diagonal adjustment factor\n",
    "- From $1^2 + 1^2 = hyp^2$ > sqrt(1+1)  "
   ]
  },
  {
   "cell_type": "code",
   "execution_count": 3,
   "id": "0510d85c",
   "metadata": {},
   "outputs": [
    {
     "data": {
      "text/plain": [
       "1.4142135623730951"
      ]
     },
     "execution_count": 3,
     "metadata": {},
     "output_type": "execute_result"
    }
   ],
   "source": [
    "man_diagonal_factor = math.sqrt(2)\n",
    "man_diagonal_factor"
   ]
  },
  {
   "cell_type": "markdown",
   "id": "6ffaca67",
   "metadata": {},
   "source": [
    "### 0. What is the exact speed?"
   ]
  },
  {
   "cell_type": "code",
   "execution_count": 10,
   "id": "65d59182",
   "metadata": {},
   "outputs": [
    {
     "data": {
      "text/plain": [
       "1.3333333333333333"
      ]
     },
     "execution_count": 10,
     "metadata": {},
     "output_type": "execute_result"
    }
   ],
   "source": [
    "man_speed = 4/3\n",
    "man_speed"
   ]
  },
  {
   "cell_type": "markdown",
   "id": "4483dafc",
   "metadata": {},
   "source": [
    "### 0. Build helper func to test the main func \n",
    "- 'steps' = how granular to look. 15 is optimal."
   ]
  },
  {
   "cell_type": "code",
   "execution_count": 15,
   "id": "efc15e56",
   "metadata": {},
   "outputs": [],
   "source": [
    "def unit_test(steps):\n",
    "    for deg in range(0, 180, steps):\n",
    "        factor = get_speed_adjustment_factor(deg)"
   ]
  },
  {
   "cell_type": "markdown",
   "id": "e46c63f8",
   "metadata": {},
   "source": [
    "### 1. Convert compass heading to an absolute distance from a multiple of 45 (0° to 180° for now)\n",
    "\n",
    "### 2. Scale my diagonal adjustment factor by that\n",
    "\n",
    "### 3. Adjust my speed by that factor"
   ]
  },
  {
   "cell_type": "code",
   "execution_count": 18,
   "id": "39350111",
   "metadata": {},
   "outputs": [
    {
     "name": "stdout",
     "output_type": "stream",
     "text": [
      "Deg: 0  |  Speed_adjustment_factor: 0.0  |  New_speed: 0.0 \n",
      "Deg: 15  |  Speed_adjustment_factor: 0.33  |  New_speed: 0.44 \n",
      "Deg: 30  |  Speed_adjustment_factor: 0.67  |  New_speed: 0.89 \n",
      "Deg: 45  |  Speed_adjustment_factor: 1.0  |  New_speed: 1.33 \n",
      "Deg: 60  |  Speed_adjustment_factor: 0.67  |  New_speed: 0.89 \n",
      "Deg: 75  |  Speed_adjustment_factor: 0.33  |  New_speed: 0.44 \n",
      "Deg: 90  |  Speed_adjustment_factor: 0.0  |  New_speed: 0.0 \n",
      "Deg: 15  |  Speed_adjustment_factor: 0.33  |  New_speed: 0.44 \n",
      "Deg: 30  |  Speed_adjustment_factor: 0.67  |  New_speed: 0.89 \n",
      "Deg: 45  |  Speed_adjustment_factor: 1.0  |  New_speed: 1.33 \n",
      "Deg: 60  |  Speed_adjustment_factor: 0.67  |  New_speed: 0.89 \n",
      "Deg: 75  |  Speed_adjustment_factor: 0.33  |  New_speed: 0.44 \n"
     ]
    }
   ],
   "source": [
    "def get_speed_adjustment_factor(deg = 0):\n",
    "    if deg > 90:\n",
    "        deg -= 90\n",
    "    \n",
    "    adjustment_factor = (45 - abs(deg-45) ) / 45\n",
    "    \n",
    "    speed_adjustment_factor = adjustment_factor * man_diagonal_factor\n",
    "    \n",
    "    new_speed = speed_adjustment_factor * man_speed\n",
    "    \n",
    "    # return new_speed\n",
    "    \n",
    "    ### All the rest is for testing \n",
    "    speed_adjustment_factor = round(speed_adjustment_factor, 2)\n",
    "    new_speed = round(new_speed, 2)\n",
    "    \n",
    "    print(f\"Deg: {deg}  |  Speed_adjustment_factor: {speed_adjustment_factor}  |  New_speed: {new_speed} \")\n",
    "\n",
    "\n",
    "unit_test(15)"
   ]
  },
  {
   "cell_type": "code",
   "execution_count": null,
   "id": "ec5e1136",
   "metadata": {},
   "outputs": [],
   "source": []
  }
 ],
 "metadata": {
  "kernelspec": {
   "display_name": "Python 3 (ipykernel)",
   "language": "python",
   "name": "python3"
  },
  "language_info": {
   "codemirror_mode": {
    "name": "ipython",
    "version": 3
   },
   "file_extension": ".py",
   "mimetype": "text/x-python",
   "name": "python",
   "nbconvert_exporter": "python",
   "pygments_lexer": "ipython3",
   "version": "3.10.5"
  }
 },
 "nbformat": 4,
 "nbformat_minor": 5
}
