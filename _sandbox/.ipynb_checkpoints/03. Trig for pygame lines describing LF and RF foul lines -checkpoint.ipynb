{
 "cells": [
  {
   "cell_type": "markdown",
   "id": "7163c1b7",
   "metadata": {},
   "source": [
    "# Need to find the centre of the circle comprising the OF wall\n",
    "April 17, 2024"
   ]
  },
  {
   "cell_type": "markdown",
   "id": "adba01cb",
   "metadata": {},
   "source": [
    "### Make a list of trial and error\n",
    "- 0 = y coord\n",
    "- 1 = distance to RF boundary\n",
    "- 2 = distance to CF boundary"
   ]
  },
  {
   "cell_type": "code",
   "execution_count": 2,
   "id": "9f30bb97",
   "metadata": {},
   "outputs": [
    {
     "name": "stdout",
     "output_type": "stream",
     "text": [
      "1100 :  -38\n",
      "800 :  -84\n",
      "1800 :  20\n",
      "2000 :  29\n"
     ]
    }
   ],
   "source": [
    "li = [ \n",
    "    [1100, 414, 376 ],\n",
    "    [800, 355, 271],\n",
    "    [1800, 604, 624 ],\n",
    "    [2000, 666, 695 ],\n",
    "    [1600, 667, 695]\n",
    "]\n",
    "\n",
    "for row in li:\n",
    "    diff = row[2] - row[1]\n",
    "    print(row[0], \": \", diff)"
   ]
  },
  {
   "cell_type": "code",
   "execution_count": null,
   "id": "76c233b9",
   "metadata": {},
   "outputs": [],
   "source": []
  }
 ],
 "metadata": {
  "kernelspec": {
   "display_name": "Python 3 (ipykernel)",
   "language": "python",
   "name": "python3"
  },
  "language_info": {
   "codemirror_mode": {
    "name": "ipython",
    "version": 3
   },
   "file_extension": ".py",
   "mimetype": "text/x-python",
   "name": "python",
   "nbconvert_exporter": "python",
   "pygments_lexer": "ipython3",
   "version": "3.10.5"
  }
 },
 "nbformat": 4,
 "nbformat_minor": 5
}
