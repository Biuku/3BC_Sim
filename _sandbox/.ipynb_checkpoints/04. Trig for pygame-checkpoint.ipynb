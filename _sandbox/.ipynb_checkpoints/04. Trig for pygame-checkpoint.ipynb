{
 "cells": [
  {
   "cell_type": "markdown",
   "metadata": {},
   "source": [
    "# Trig for pygame 04\n",
    "April 21, 2024 (Cayman)"
   ]
  },
  {
   "cell_type": "markdown",
   "metadata": {},
   "source": [
    "## Challenge: I want to generate a theta between 180 and 359 degrees\n",
    "- Let's set length of hyp as fixed, and move through various adj lengths"
   ]
  },
  {
   "cell_type": "code",
   "execution_count": 7,
   "metadata": {},
   "outputs": [],
   "source": [
    "import math\n",
    "\n",
    "hyp = 100"
   ]
  },
  {
   "cell_type": "markdown",
   "metadata": {},
   "source": [
    "#### Helper func"
   ]
  },
  {
   "cell_type": "code",
   "execution_count": 10,
   "metadata": {},
   "outputs": [],
   "source": [
    "def rad_to_degrees(rad):\n",
    "    return round(math.degrees(rad), 1)"
   ]
  },
  {
   "cell_type": "markdown",
   "metadata": {},
   "source": [
    "### Adj/Hyp must be between -1 and 1"
   ]
  },
  {
   "cell_type": "code",
   "execution_count": 32,
   "metadata": {},
   "outputs": [
    {
     "name": "stdout",
     "output_type": "stream",
     "text": [
      ">  -200 does not work. ADJ/HYP = -2.0\n",
      ">  -175 does not work. ADJ/HYP = -1.75\n",
      ">  -150 does not work. ADJ/HYP = -1.5\n",
      ">  -125 does not work. ADJ/HYP = -1.25\n",
      ">  ADJ/HYP = -1.0. Theta = 180°\n",
      ">  ADJ/HYP = -0.75. Theta = 138°\n",
      ">  ADJ/HYP = -0.5. Theta = 120°\n",
      ">  ADJ/HYP = -0.25. Theta = 104°\n",
      ">  ADJ/HYP = 0.0. Theta = 90°\n",
      ">  ADJ/HYP = 0.25. Theta = 75°\n",
      ">  ADJ/HYP = 0.5. Theta = 60°\n",
      ">  ADJ/HYP = 0.75. Theta = 41°\n",
      ">  ADJ/HYP = 1.0. Theta = 0°\n",
      ">  125 does not work. ADJ/HYP = 1.25\n",
      ">  150 does not work. ADJ/HYP = 1.5\n",
      ">  175 does not work. ADJ/HYP = 1.75\n"
     ]
    }
   ],
   "source": [
    "for adj in range(-200, 200, 25):\n",
    "    print(\">  \", end = \"\")\n",
    "    try:\n",
    "        theta_rad = math.acos(adj/hyp)\n",
    "    except:\n",
    "        print(f\"{adj} does not work. ADJ/HYP = {round(adj/hyp, 4)}\")\n",
    "    else:\n",
    "        theta_rad = math.acos(adj/hyp)\n",
    "        theta_deg = int(math.degrees(theta_rad))\n",
    "        print(f\"ADJ/HYP = {round(adj/hyp, 4)}. Theta = {theta_deg}\\u00b0\")"
   ]
  },
  {
   "cell_type": "code",
   "execution_count": 2,
   "metadata": {},
   "outputs": [
    {
     "name": "stdout",
     "output_type": "stream",
     "text": [
      "hi\n"
     ]
    }
   ],
   "source": [
    "for _ in range(1):\n",
    "    print(\"hi\")"
   ]
  },
  {
   "cell_type": "markdown",
   "metadata": {},
   "source": [
    "## Get distance from 45°\n",
    "- 0°, 90°, and 180° have 0% speed adjustment\n",
    "- 45° and so on have 100% speed adjustment\n",
    "- In between, adjust per how much\n",
    "\n",
    "What's the formula that gives me how far I am between 90° and 45°?"
   ]
  },
  {
   "cell_type": "code",
   "execution_count": 30,
   "metadata": {},
   "outputs": [
    {
     "data": {
      "text/plain": [
       "44"
      ]
     },
     "execution_count": 30,
     "metadata": {},
     "output_type": "execute_result"
    }
   ],
   "source": [
    "abs(89-45)"
   ]
  },
  {
   "cell_type": "code",
   "execution_count": null,
   "metadata": {},
   "outputs": [],
   "source": [
    "diagonal_factor =  "
   ]
  },
  {
   "cell_type": "code",
   "execution_count": 57,
   "metadata": {},
   "outputs": [
    {
     "name": "stdout",
     "output_type": "stream",
     "text": [
      "i = 0  |  speed adjust factor = 0.0\n",
      "i = 15  |  speed adjust factor = 0.33333\n",
      "i = 30  |  speed adjust factor = 0.66667\n",
      "i = 45  |  speed adjust factor = 1.0\n",
      "i = 60  |  speed adjust factor = 0.66667\n",
      "i = 75  |  speed adjust factor = 0.33333\n",
      "i = 90  |  speed adjust factor = 0.0\n",
      "i = 105  |  speed adjust factor = 0.33333\n",
      "i = 120  |  speed adjust factor = 0.66667\n",
      "i = 135  |  speed adjust factor = 1.0\n",
      "i = 150  |  speed adjust factor = 0.66667\n",
      "i = 165  |  speed adjust factor = 0.33333\n"
     ]
    }
   ],
   "source": [
    "def get_speed_adjustment_factor(deg):\n",
    "    if deg > 90:\n",
    "        deg -= 90\n",
    "\n",
    "    diagonalness = abs(deg-45)\n",
    "\n",
    "    speed_adjustment_factor = (45- diagonalness) / 45\n",
    "\n",
    "    return speed_adjustment_factor\n",
    "\n",
    "\n",
    "for i in range(0, 180, 15):\n",
    "    factor = get_speed_adjustment_factor(i)\n",
    "    \n",
    "    print(f\"i = {i}  |  speed adjust factor = {round(factor, 5)}\")"
   ]
  },
  {
   "cell_type": "code",
   "execution_count": null,
   "metadata": {},
   "outputs": [],
   "source": []
  }
 ],
 "metadata": {
  "kernelspec": {
   "display_name": "Python 3 (ipykernel)",
   "language": "python",
   "name": "python3"
  },
  "language_info": {
   "codemirror_mode": {
    "name": "ipython",
    "version": 3
   },
   "file_extension": ".py",
   "mimetype": "text/x-python",
   "name": "python",
   "nbconvert_exporter": "python",
   "pygments_lexer": "ipython3",
   "version": "3.10.5"
  }
 },
 "nbformat": 4,
 "nbformat_minor": 4
}
