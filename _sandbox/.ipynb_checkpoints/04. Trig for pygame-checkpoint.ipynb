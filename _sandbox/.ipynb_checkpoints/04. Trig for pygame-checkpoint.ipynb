{
 "cells": [
  {
   "cell_type": "markdown",
   "metadata": {},
   "source": [
    "# Trig for pygame 1\n",
    "April 21, 2024"
   ]
  },
  {
   "cell_type": "markdown",
   "metadata": {},
   "source": [
    "## Challenge: I want to generate a theta between 180 and 359 degrees\n",
    "- Let's set length of hyp as fixed, and move through various adj lengths"
   ]
  },
  {
   "cell_type": "code",
   "execution_count": 7,
   "metadata": {},
   "outputs": [],
   "source": [
    "import math\n",
    "\n",
    "hyp = 100"
   ]
  },
  {
   "cell_type": "markdown",
   "metadata": {},
   "source": [
    "#### Helper func"
   ]
  },
  {
   "cell_type": "code",
   "execution_count": 10,
   "metadata": {},
   "outputs": [],
   "source": [
    "def rad_to_degrees(rad):\n",
    "    return round(math.degrees(rad), 1)"
   ]
  },
  {
   "cell_type": "markdown",
   "metadata": {},
   "source": [
    "### Adj/Hyp must be between -1 and 1"
   ]
  },
  {
   "cell_type": "code",
   "execution_count": 32,
   "metadata": {},
   "outputs": [
    {
     "name": "stdout",
     "output_type": "stream",
     "text": [
      ">  -200 does not work. ADJ/HYP = -2.0\n",
      ">  -175 does not work. ADJ/HYP = -1.75\n",
      ">  -150 does not work. ADJ/HYP = -1.5\n",
      ">  -125 does not work. ADJ/HYP = -1.25\n",
      ">  ADJ/HYP = -1.0. Theta = 180°\n",
      ">  ADJ/HYP = -0.75. Theta = 138°\n",
      ">  ADJ/HYP = -0.5. Theta = 120°\n",
      ">  ADJ/HYP = -0.25. Theta = 104°\n",
      ">  ADJ/HYP = 0.0. Theta = 90°\n",
      ">  ADJ/HYP = 0.25. Theta = 75°\n",
      ">  ADJ/HYP = 0.5. Theta = 60°\n",
      ">  ADJ/HYP = 0.75. Theta = 41°\n",
      ">  ADJ/HYP = 1.0. Theta = 0°\n",
      ">  125 does not work. ADJ/HYP = 1.25\n",
      ">  150 does not work. ADJ/HYP = 1.5\n",
      ">  175 does not work. ADJ/HYP = 1.75\n"
     ]
    }
   ],
   "source": [
    "for adj in range(-200, 200, 25):\n",
    "    print(\">  \", end = \"\")\n",
    "    try:\n",
    "        theta_rad = math.acos(adj/hyp)\n",
    "    except:\n",
    "        print(f\"{adj} does not work. ADJ/HYP = {round(adj/hyp, 4)}\")\n",
    "    else:\n",
    "        theta_rad = math.acos(adj/hyp)\n",
    "        theta_deg = int(math.degrees(theta_rad))\n",
    "        print(f\"ADJ/HYP = {round(adj/hyp, 4)}. Theta = {theta_deg}\\u00b0\")"
   ]
  },
  {
   "cell_type": "code",
   "execution_count": null,
   "metadata": {},
   "outputs": [],
   "source": []
  }
 ],
 "metadata": {
  "kernelspec": {
   "display_name": "Python 3 (ipykernel)",
   "language": "python",
   "name": "python3"
  },
  "language_info": {
   "codemirror_mode": {
    "name": "ipython",
    "version": 3
   },
   "file_extension": ".py",
   "mimetype": "text/x-python",
   "name": "python",
   "nbconvert_exporter": "python",
   "pygments_lexer": "ipython3",
   "version": "3.10.5"
  }
 },
 "nbformat": 4,
 "nbformat_minor": 4
}
