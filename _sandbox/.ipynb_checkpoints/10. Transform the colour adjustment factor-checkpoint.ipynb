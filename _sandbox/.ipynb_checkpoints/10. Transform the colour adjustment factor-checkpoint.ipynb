{
 "cells": [
  {
   "cell_type": "markdown",
   "id": "18268c1b",
   "metadata": {},
   "source": [
    "# Transform the colour adjustment factor\n",
    "May 3, 2024"
   ]
  },
  {
   "cell_type": "markdown",
   "id": "fa55f5d8",
   "metadata": {},
   "source": [
    "Problem:\n",
    "- I am adjusting the colour of the shadow based on the height of the ball... \n",
    "- I think colour appears non-linear ... close to the ground I can't see the change, so I want it to change less per foot of height near the top, and more per foot of height near the bottom. \n",
    "- What is the math to do this?"
   ]
  },
  {
   "cell_type": "markdown",
   "id": "00dae568",
   "metadata": {},
   "source": [
    "## 1. Let's start with y = mx^2 + b"
   ]
  },
  {
   "cell_type": "code",
   "execution_count": 89,
   "id": "8956cbcf",
   "metadata": {},
   "outputs": [],
   "source": [
    "\n",
    "b = 0\n",
    "\n",
    "\n",
    "def plot_xy(delta):\n",
    "    \n",
    "    for slope in range(10, 50, 5):\n",
    "        slope /= 10\n",
    "    \n",
    "        for exponent in range(5, 20, 2):\n",
    "            exponent /= 10\n",
    "    \n",
    "            min_ = 1000\n",
    "            max_ = 0\n",
    "    \n",
    "            for x in range(15, 75, 5):\n",
    "\n",
    "                y = (slope * x**exponent) + b \n",
    "                prev_delta = delta\n",
    "                delta = y-x\n",
    "                acceleration = delta-prev_delta\n",
    "\n",
    "                min_ = min(min_, y)\n",
    "                max_ = max(max_, y)\n",
    "\n",
    "            \n",
    "            if min_ > 5 and min_ < 25:\n",
    "                if max_ > 60 and max_ < 80:\n",
    "                    \n",
    "                    print(f\"Slope: {slope} | exponent: {exponent} | Min: {int(min_)} | Max: {int(max_)} | Range: {int(max_ - min_)}\") "
   ]
  },
  {
   "cell_type": "code",
   "execution_count": 87,
   "id": "798f0c4d",
   "metadata": {},
   "outputs": [
    {
     "name": "stdout",
     "output_type": "stream",
     "text": [
      "Slope: 1.5 | exponent: 0.9 | Min: 17 | Max: 68 | Range: 51\n",
      "Slope: 3.5 | exponent: 0.7 | Min: 23 | Max: 68 | Range: 45\n"
     ]
    }
   ],
   "source": [
    "slope = 5.5\n",
    "exponent = 0.6\n",
    "\n",
    "plot_xy(0)"
   ]
  },
  {
   "cell_type": "code",
   "execution_count": 98,
   "id": "a1841b8b",
   "metadata": {},
   "outputs": [],
   "source": [
    "def plot_xy_2(slope, exponent, delta=0):\n",
    "    min_ = 1000\n",
    "    max_ = 0\n",
    "    \n",
    "    for x in range(15, 75, 5):\n",
    "\n",
    "        y = (slope * x**exponent) + b \n",
    "        prev_delta = delta\n",
    "        delta = y-x\n",
    "        acceleration = delta-prev_delta\n",
    "\n",
    "        min_ = min(min_, y)\n",
    "        max_ = max(max_, y)\n",
    "\n",
    "        print(f\" ({x}, {int(y)}) | Delta = {round(delta, 1)} | acceleration = {round(acceleration, 2)}\")\n",
    "\n",
    "    print(f\"Min: {int(min_)} | Max: {int(max_)} | Range: {int(max_ - min_)}\") "
   ]
  },
  {
   "cell_type": "code",
   "execution_count": 99,
   "id": "73e45dbf",
   "metadata": {},
   "outputs": [
    {
     "name": "stdout",
     "output_type": "stream",
     "text": [
      " (15, 17) | Delta = 2.2 | acceleration = 2.16\n",
      " (20, 22) | Delta = 2.2 | acceleration = 0.07\n",
      " (25, 27) | Delta = 2.2 | acceleration = -0.05\n",
      " (30, 32) | Delta = 2.0 | acceleration = -0.15\n",
      " (35, 36) | Delta = 1.8 | acceleration = -0.23\n",
      " (40, 41) | Delta = 1.5 | acceleration = -0.3\n",
      " (45, 46) | Delta = 1.1 | acceleration = -0.36\n",
      " (50, 50) | Delta = 0.7 | acceleration = -0.41\n",
      " (55, 55) | Delta = 0.3 | acceleration = -0.46\n",
      " (60, 59) | Delta = -0.2 | acceleration = -0.5\n",
      " (65, 64) | Delta = -0.8 | acceleration = -0.54\n",
      " (70, 68) | Delta = -1.3 | acceleration = -0.57\n",
      "Min: 17 | Max: 68 | Range: 51\n"
     ]
    }
   ],
   "source": [
    "plot_xy_2(1.5, .9)"
   ]
  },
  {
   "cell_type": "code",
   "execution_count": 100,
   "id": "2050cedd",
   "metadata": {},
   "outputs": [
    {
     "name": "stdout",
     "output_type": "stream",
     "text": [
      " (15, 23) | Delta = 8.3 | acceleration = 8.3\n",
      " (20, 28) | Delta = 8.5 | acceleration = 0.2\n",
      " (25, 33) | Delta = 8.3 | acceleration = -0.18\n",
      " (30, 37) | Delta = 7.8 | acceleration = -0.47\n",
      " (35, 42) | Delta = 7.2 | acceleration = -0.69\n",
      " (40, 46) | Delta = 6.3 | acceleration = -0.87\n",
      " (45, 50) | Delta = 5.3 | acceleration = -1.02\n",
      " (50, 54) | Delta = 4.1 | acceleration = -1.15\n",
      " (55, 57) | Delta = 2.9 | acceleration = -1.27\n",
      " (60, 61) | Delta = 1.5 | acceleration = -1.37\n",
      " (65, 65) | Delta = 0.0 | acceleration = -1.46\n",
      " (70, 68) | Delta = -1.5 | acceleration = -1.54\n",
      "Min: 23 | Max: 68 | Range: 45\n"
     ]
    }
   ],
   "source": [
    "plot_xy_2(3.5, .7)"
   ]
  },
  {
   "cell_type": "markdown",
   "id": "b61c18f3",
   "metadata": {},
   "source": [
    "## Test"
   ]
  },
  {
   "cell_type": "code",
   "execution_count": 101,
   "id": "9528b2a2",
   "metadata": {},
   "outputs": [
    {
     "name": "stdout",
     "output_type": "stream",
     "text": [
      "pygame 2.5.2 (SDL 2.28.3, Python 3.10.5)\n",
      "Hello from the pygame community. https://www.pygame.org/contribute.html\n"
     ]
    },
    {
     "ename": "TypeError",
     "evalue": "'int' object is not iterable",
     "output_type": "error",
     "traceback": [
      "\u001b[1;31m---------------------------------------------------------------------------\u001b[0m",
      "\u001b[1;31mTypeError\u001b[0m                                 Traceback (most recent call last)",
      "Input \u001b[1;32mIn [101]\u001b[0m, in \u001b[0;36m<cell line: 4>\u001b[1;34m()\u001b[0m\n\u001b[0;32m      1\u001b[0m \u001b[38;5;28;01mimport\u001b[39;00m \u001b[38;5;21;01mpygame\u001b[39;00m\n\u001b[0;32m      2\u001b[0m pygame\u001b[38;5;241m.\u001b[39minit()\n\u001b[1;32m----> 4\u001b[0m \u001b[38;5;28;01mfor\u001b[39;00m _ \u001b[38;5;129;01min\u001b[39;00m \u001b[38;5;241m1000\u001b[39m:\n\u001b[0;32m      6\u001b[0m     clock\u001b[38;5;241m.\u001b[39mtick(\u001b[38;5;241m96\u001b[39m)\n\u001b[0;32m      8\u001b[0m     \u001b[38;5;28mprint\u001b[39m(pygame\u001b[38;5;241m.\u001b[39mtime\u001b[38;5;241m.\u001b[39mget_ticks(), end \u001b[38;5;241m=\u001b[39m \u001b[38;5;124m\"\u001b[39m\u001b[38;5;124m | \u001b[39m\u001b[38;5;124m\"\u001b[39m)\n",
      "\u001b[1;31mTypeError\u001b[0m: 'int' object is not iterable"
     ]
    }
   ],
   "source": [
    "import pygame\n",
    "pygame.init()\n",
    "\n",
    "for _ in range(1000):\n",
    "    \n",
    "    clock.tick(96)\n",
    "    \n",
    "    print(pygame.time.get_ticks(), end = \" | \")\n",
    "    "
   ]
  },
  {
   "cell_type": "code",
   "execution_count": null,
   "id": "7261766f",
   "metadata": {},
   "outputs": [],
   "source": []
  }
 ],
 "metadata": {
  "kernelspec": {
   "display_name": "Python 3 (ipykernel)",
   "language": "python",
   "name": "python3"
  },
  "language_info": {
   "codemirror_mode": {
    "name": "ipython",
    "version": 3
   },
   "file_extension": ".py",
   "mimetype": "text/x-python",
   "name": "python",
   "nbconvert_exporter": "python",
   "pygments_lexer": "ipython3",
   "version": "3.10.5"
  }
 },
 "nbformat": 4,
 "nbformat_minor": 5
}
