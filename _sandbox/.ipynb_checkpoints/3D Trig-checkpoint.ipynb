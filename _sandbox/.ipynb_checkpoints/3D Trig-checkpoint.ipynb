{
 "cells": [
  {
   "cell_type": "markdown",
   "id": "6dcbeeb0",
   "metadata": {},
   "source": [
    "# 3D Trig\n",
    "May 4, 2024"
   ]
  },
  {
   "cell_type": "code",
   "execution_count": 7,
   "id": "5887a059",
   "metadata": {},
   "outputs": [],
   "source": [
    "import math"
   ]
  },
  {
   "cell_type": "code",
   "execution_count": 23,
   "id": "f99f239a",
   "metadata": {},
   "outputs": [],
   "source": [
    "curr = [1557, 855, 1325]\n",
    "prev = [1286, 767, 1125]"
   ]
  },
  {
   "cell_type": "code",
   "execution_count": 12,
   "id": "90ee5ae3",
   "metadata": {},
   "outputs": [],
   "source": [
    "def dist_2D(start, end):\n",
    "    distance = math.sqrt( ( end[0] - start[0] )**2  +  ( end[1] - start[1] )**2 )\n",
    "    print(distance)"
   ]
  },
  {
   "cell_type": "code",
   "execution_count": 32,
   "id": "f28fcf68",
   "metadata": {},
   "outputs": [],
   "source": [
    "def dist_3D(start_coord, end_coord):\n",
    "        x1, y1, z1 = start_coord\n",
    "        x2, y2, z2 = end_coord\n",
    "        \n",
    "        ## Step 1 -- Find distance to the middle_coord -- i.e., to the end_coord, but with the same height as the start coord\n",
    "        distance_to_middle_coord_2D = math.sqrt( (x2-x1)**2 + (y2-y1)**2 )\n",
    "        \n",
    "        print(f\"Distance to middle coord: {round(distance_to_middle_coord_2D, 2)}\")\n",
    "        \n",
    "        ## Step 2 -- Use this new value as the base of a triangle with opp = the height\n",
    "        distance_3D = math.sqrt( distance_to_middle_coord_2D**2 + (z2 - z1)**2 )\n",
    "        \n",
    "        print( f\"3D distance: {round(distance_3D, 2)}\" )"
   ]
  },
  {
   "cell_type": "code",
   "execution_count": 26,
   "id": "b0ab02f2",
   "metadata": {},
   "outputs": [
    {
     "name": "stdout",
     "output_type": "stream",
     "text": [
      "Middle coord: 284\n",
      "348\n"
     ]
    }
   ],
   "source": [
    "dist_3D(curr, prev)"
   ]
  },
  {
   "cell_type": "code",
   "execution_count": 13,
   "id": "c38d51f9",
   "metadata": {},
   "outputs": [
    {
     "name": "stdout",
     "output_type": "stream",
     "text": [
      "284.92981591964013\n"
     ]
    }
   ],
   "source": [
    "dist_2D(curr[:2], prev[:2])"
   ]
  },
  {
   "cell_type": "code",
   "execution_count": 16,
   "id": "5ff80de6",
   "metadata": {},
   "outputs": [
    {
     "data": {
      "text/plain": [
       "[1557, 855]"
      ]
     },
     "execution_count": 16,
     "metadata": {},
     "output_type": "execute_result"
    }
   ],
   "source": [
    "curr[:2]"
   ]
  },
  {
   "cell_type": "code",
   "execution_count": 17,
   "id": "60a2429b",
   "metadata": {},
   "outputs": [],
   "source": [
    "def dxdy(start, end):\n",
    "    dx = end[0] - start[0]\n",
    "    dy = end[1] - start[1]\n",
    "    \n",
    "    print(dx, dy)"
   ]
  },
  {
   "cell_type": "code",
   "execution_count": 18,
   "id": "dfbeb3df",
   "metadata": {},
   "outputs": [
    {
     "name": "stdout",
     "output_type": "stream",
     "text": [
      "-271 -88\n"
     ]
    }
   ],
   "source": [
    "dxdy(curr, prev)"
   ]
  },
  {
   "cell_type": "code",
   "execution_count": 27,
   "id": "039a6ab9",
   "metadata": {},
   "outputs": [
    {
     "name": "stdout",
     "output_type": "stream",
     "text": [
      "hi\n"
     ]
    }
   ],
   "source": [
    "if 1 == 1:\n",
    "    pass\n",
    "    print(\"hi\")"
   ]
  },
  {
   "cell_type": "code",
   "execution_count": 29,
   "id": "3357e733",
   "metadata": {},
   "outputs": [],
   "source": [
    "start_coord = (950, 1245, 1, )\n",
    "end_coord = (950, 1243, 2, )"
   ]
  },
  {
   "cell_type": "code",
   "execution_count": 33,
   "id": "b698d1e7",
   "metadata": {},
   "outputs": [
    {
     "name": "stdout",
     "output_type": "stream",
     "text": [
      "Distance to middle coord: (2, 2)\n",
      "3D distance: 2.24\n"
     ]
    }
   ],
   "source": [
    "dist_3D(start_coord, end_coord)"
   ]
  },
  {
   "cell_type": "code",
   "execution_count": null,
   "id": "60891ed3",
   "metadata": {},
   "outputs": [],
   "source": []
  }
 ],
 "metadata": {
  "kernelspec": {
   "display_name": "Python 3 (ipykernel)",
   "language": "python",
   "name": "python3"
  },
  "language_info": {
   "codemirror_mode": {
    "name": "ipython",
    "version": 3
   },
   "file_extension": ".py",
   "mimetype": "text/x-python",
   "name": "python",
   "nbconvert_exporter": "python",
   "pygments_lexer": "ipython3",
   "version": "3.10.5"
  }
 },
 "nbformat": 4,
 "nbformat_minor": 5
}
