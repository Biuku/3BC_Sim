{
 "cells": [
  {
   "cell_type": "markdown",
   "id": "071aaa96",
   "metadata": {},
   "source": [
    "# 3D Trig\n",
    "May 4, 2024"
   ]
  },
  {
   "cell_type": "code",
   "execution_count": 7,
   "id": "8e8949c9",
   "metadata": {},
   "outputs": [],
   "source": [
    "import math"
   ]
  },
  {
   "cell_type": "code",
   "execution_count": 23,
   "id": "b1b2080b",
   "metadata": {},
   "outputs": [],
   "source": [
    "curr = [1557, 855, 1325]\n",
    "prev = [1286, 767, 1125]"
   ]
  },
  {
   "cell_type": "code",
   "execution_count": 12,
   "id": "a51a3b1d",
   "metadata": {},
   "outputs": [],
   "source": [
    "def dist_2D(start, end):\n",
    "    distance = math.sqrt( ( end[0] - start[0] )**2  +  ( end[1] - start[1] )**2 )\n",
    "    print(distance)"
   ]
  },
  {
   "cell_type": "code",
   "execution_count": 35,
   "id": "66d9326b",
   "metadata": {},
   "outputs": [],
   "source": [
    "def dist_3D(start_coord, end_coord):\n",
    "        x1, y1, z1 = start_coord\n",
    "        x2, y2, z2 = end_coord\n",
    "        \n",
    "        ## Step 1 -- Find distance to the middle_coord -- i.e., to the end_coord, but with the same height as the start coord\n",
    "        distance_to_middle_coord_2D = math.sqrt( (x2-x1)**2 + (y2-y1)**2 )\n",
    "        \n",
    "        print(f\"Distance to middle coord: {round(distance_to_middle_coord_2D, 2)}\")\n",
    "        \n",
    "        ## Step 2 -- Use this new value as the base of a triangle with opp = the height\n",
    "        distance_3D = math.sqrt( distance_to_middle_coord_2D**2 + (z2 - z1)**2 )\n",
    "        \n",
    "        print( f\"3D distance: {round(distance_3D, 2)}\" )"
   ]
  },
  {
   "cell_type": "code",
   "execution_count": 26,
   "id": "424a895a",
   "metadata": {},
   "outputs": [
    {
     "name": "stdout",
     "output_type": "stream",
     "text": [
      "Middle coord: 284\n",
      "348\n"
     ]
    }
   ],
   "source": [
    "dist_3D(curr, prev)"
   ]
  },
  {
   "cell_type": "code",
   "execution_count": 13,
   "id": "806fb31c",
   "metadata": {},
   "outputs": [
    {
     "name": "stdout",
     "output_type": "stream",
     "text": [
      "284.92981591964013\n"
     ]
    }
   ],
   "source": [
    "dist_2D(curr[:2], prev[:2])"
   ]
  },
  {
   "cell_type": "code",
   "execution_count": 16,
   "id": "27149d83",
   "metadata": {},
   "outputs": [
    {
     "data": {
      "text/plain": [
       "[1557, 855]"
      ]
     },
     "execution_count": 16,
     "metadata": {},
     "output_type": "execute_result"
    }
   ],
   "source": [
    "curr[:2]"
   ]
  },
  {
   "cell_type": "code",
   "execution_count": 17,
   "id": "79a8f587",
   "metadata": {},
   "outputs": [],
   "source": [
    "def dxdy(start, end):\n",
    "    dx = end[0] - start[0]\n",
    "    dy = end[1] - start[1]\n",
    "    \n",
    "    print(dx, dy)"
   ]
  },
  {
   "cell_type": "code",
   "execution_count": 18,
   "id": "02047334",
   "metadata": {},
   "outputs": [
    {
     "name": "stdout",
     "output_type": "stream",
     "text": [
      "-271 -88\n"
     ]
    }
   ],
   "source": [
    "dxdy(curr, prev)"
   ]
  },
  {
   "cell_type": "code",
   "execution_count": 27,
   "id": "de94123a",
   "metadata": {},
   "outputs": [
    {
     "name": "stdout",
     "output_type": "stream",
     "text": [
      "hi\n"
     ]
    }
   ],
   "source": [
    "if 1 == 1:\n",
    "    pass\n",
    "    print(\"hi\")"
   ]
  },
  {
   "cell_type": "code",
   "execution_count": 29,
   "id": "5d32af7d",
   "metadata": {},
   "outputs": [],
   "source": [
    "start_coord = (950, 1245, 1, )\n",
    "end_coord = (950, 1243, 2, )"
   ]
  },
  {
   "cell_type": "code",
   "execution_count": 36,
   "id": "fe4263fb",
   "metadata": {},
   "outputs": [
    {
     "name": "stdout",
     "output_type": "stream",
     "text": [
      "Distance to middle coord: 2.0\n",
      "3D distance: 2.24\n"
     ]
    }
   ],
   "source": [
    "dist_3D(start_coord, end_coord)"
   ]
  },
  {
   "cell_type": "code",
   "execution_count": 37,
   "id": "cffb3008",
   "metadata": {},
   "outputs": [],
   "source": [
    "a = (1027, 1078, 101, )\n",
    "b = (986, 1167, 68, )"
   ]
  },
  {
   "cell_type": "code",
   "execution_count": 38,
   "id": "8bfd8213",
   "metadata": {},
   "outputs": [
    {
     "name": "stdout",
     "output_type": "stream",
     "text": [
      "Distance to middle coord: 97.99\n",
      "3D distance: 103.4\n"
     ]
    }
   ],
   "source": [
    "dist_3D(a, b)"
   ]
  },
  {
   "cell_type": "code",
   "execution_count": null,
   "id": "f5569ce4",
   "metadata": {},
   "outputs": [],
   "source": []
  }
 ],
 "metadata": {
  "kernelspec": {
   "display_name": "Python 3 (ipykernel)",
   "language": "python",
   "name": "python3"
  },
  "language_info": {
   "codemirror_mode": {
    "name": "ipython",
    "version": 3
   },
   "file_extension": ".py",
   "mimetype": "text/x-python",
   "name": "python",
   "nbconvert_exporter": "python",
   "pygments_lexer": "ipython3",
   "version": "3.10.5"
  }
 },
 "nbformat": 4,
 "nbformat_minor": 5
}
