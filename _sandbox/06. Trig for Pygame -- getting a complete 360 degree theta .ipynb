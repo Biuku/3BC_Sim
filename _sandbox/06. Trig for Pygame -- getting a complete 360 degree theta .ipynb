{
 "cells": [
  {
   "cell_type": "markdown",
   "id": "65a1d105",
   "metadata": {},
   "source": [
    "# 06 Trig for Pygame -- getting a complete 360 degree theta\n",
    "- April 24, 2024"
   ]
  },
  {
   "cell_type": "markdown",
   "id": "24e3a43e",
   "metadata": {},
   "source": [
    "### Problem:\n",
    "In Pygame_trig_1.py,:\n",
    "- My adj and opp values turn negative correctly:\n",
    "    - ADJ goes negative to the left of the origin\n",
    "    - OPP goes negative below the origin\n",
    "- But then theta only runs from 0-180 degrees -- e.g., moving from 20° above X to 20° below X returns a theta of 20° both times. It should change to 340°.\n",
    "\n",
    "Want to play with trig to see why"
   ]
  },
  {
   "cell_type": "code",
   "execution_count": 1,
   "id": "69d7f8f3",
   "metadata": {},
   "outputs": [],
   "source": [
    "import math"
   ]
  },
  {
   "cell_type": "code",
   "execution_count": 6,
   "id": "5ef0426f",
   "metadata": {},
   "outputs": [
    {
     "data": {
      "text/plain": [
       "1.4142135623730951"
      ]
     },
     "execution_count": 6,
     "metadata": {},
     "output_type": "execute_result"
    }
   ],
   "source": [
    "math.sqrt(2)"
   ]
  },
  {
   "cell_type": "code",
   "execution_count": 14,
   "id": "27a8cf41",
   "metadata": {},
   "outputs": [],
   "source": [
    "def get_theta_deg(adj, opp):\n",
    "    hyp = math.sqrt(adj**2 + opp**2)\n",
    "    \n",
    "    theta_rad = math.acos(adj/hyp)\n",
    "    \n",
    "    return math.degrees(theta_rad)"
   ]
  },
  {
   "cell_type": "code",
   "execution_count": 15,
   "id": "2e4e8c61",
   "metadata": {},
   "outputs": [
    {
     "name": "stdout",
     "output_type": "stream",
     "text": [
      "Opp: 50  |  theta_deg: 26.565\n",
      "Opp: 40  |  theta_deg: 21.801\n",
      "Opp: 30  |  theta_deg: 16.699\n",
      "Opp: 20  |  theta_deg: 11.31\n",
      "Opp: 10  |  theta_deg: 5.711\n",
      "Opp: 0  |  theta_deg: 0.0\n",
      "Opp: -10  |  theta_deg: 5.711\n",
      "Opp: -20  |  theta_deg: 11.31\n",
      "Opp: -30  |  theta_deg: 16.699\n",
      "Opp: -40  |  theta_deg: 21.801\n"
     ]
    }
   ],
   "source": [
    "def unit_test(start, stop, step):\n",
    "    adj = 100 # ADJ = dx | OPP = dy\n",
    "\n",
    "    for opp in range(start, stop, step):\n",
    "        theta_deg = get_theta_deg(adj, opp)\n",
    "        theta_deg = round(theta_deg, 3)\n",
    "\n",
    "        print(f\"Opp: {opp}  |  theta_deg: {theta_deg}\")\n",
    "\n",
    "unit_test(50, -50, -10)"
   ]
  },
  {
   "cell_type": "markdown",
   "id": "5d3c1453",
   "metadata": {},
   "source": [
    "## Okay, there's the problem... \n",
    "- Oh, I asked Chat GPT: To ensure that the angle theta corresponds to the correct quadrant when the opposite side is negative, you can use the atan2 function instead of acos. The atan2 function takes both the y and x coordinates of the point and returns the angle in radians, ensuring that the angle is in the correct quadrant. Here's how you can use it in Python:\n",
    "\n",
    "... \n",
    "\n",
    "math.atan2(y, x)\n",
    "\n",
    "...\n"
   ]
  },
  {
   "cell_type": "code",
   "execution_count": 25,
   "id": "06e6ec82",
   "metadata": {},
   "outputs": [
    {
     "name": "stdout",
     "output_type": "stream",
     "text": [
      "Opp: 300  |  theta_deg: 71.565\n",
      "Opp: 275  |  theta_deg: 70.017\n",
      "Opp: 250  |  theta_deg: 68.199\n",
      "Opp: 225  |  theta_deg: 66.038\n",
      "Opp: 200  |  theta_deg: 63.435\n",
      "Opp: 175  |  theta_deg: 60.255\n",
      "Opp: 150  |  theta_deg: 56.31\n",
      "Opp: 125  |  theta_deg: 51.34\n",
      "Opp: 100  |  theta_deg: 45.0\n",
      "Opp: 75  |  theta_deg: 36.87\n",
      "Opp: 50  |  theta_deg: 26.565\n",
      "Opp: 25  |  theta_deg: 14.036\n",
      "Opp: 0  |  theta_deg: 0.0\n",
      "Opp: -25  |  theta_deg: -14.036\n",
      "Opp: -50  |  theta_deg: -26.565\n",
      "Opp: -75  |  theta_deg: -36.87\n",
      "Opp: -100  |  theta_deg: -45.0\n",
      "Opp: -125  |  theta_deg: -51.34\n",
      "Opp: -150  |  theta_deg: -56.31\n",
      "Opp: -175  |  theta_deg: -60.255\n",
      "Opp: -200  |  theta_deg: -63.435\n",
      "Opp: -225  |  theta_deg: -66.038\n",
      "Opp: -250  |  theta_deg: -68.199\n",
      "Opp: -275  |  theta_deg: -70.017\n",
      "Opp: -300  |  theta_deg: -71.565\n"
     ]
    }
   ],
   "source": [
    "def get_theta_deg(adj, opp):\n",
    "    hyp = math.sqrt(adj**2 + opp**2)\n",
    "    \n",
    "    theta_rad = math.atan2(opp, adj)\n",
    "    \n",
    "    return math.degrees(theta_rad)\n",
    "\n",
    "unit_test(300, -301, -25)"
   ]
  },
  {
   "cell_type": "markdown",
   "id": "c13d555e",
   "metadata": {},
   "source": []
  }
 ],
 "metadata": {
  "kernelspec": {
   "display_name": "Python 3 (ipykernel)",
   "language": "python",
   "name": "python3"
  },
  "language_info": {
   "codemirror_mode": {
    "name": "ipython",
    "version": 3
   },
   "file_extension": ".py",
   "mimetype": "text/x-python",
   "name": "python",
   "nbconvert_exporter": "python",
   "pygments_lexer": "ipython3",
   "version": "3.10.5"
  }
 },
 "nbformat": 4,
 "nbformat_minor": 5
}
