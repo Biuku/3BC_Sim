{
 "cells": [
  {
   "cell_type": "markdown",
   "id": "700dc1ec",
   "metadata": {},
   "source": [
    "# Add jitter when rolling\n",
    "May 1, 2024"
   ]
  },
  {
   "cell_type": "code",
   "execution_count": 4,
   "id": "acb34577",
   "metadata": {},
   "outputs": [],
   "source": [
    "import random"
   ]
  },
  {
   "cell_type": "code",
   "execution_count": 6,
   "id": "c9becbbe",
   "metadata": {},
   "outputs": [
    {
     "name": "stdout",
     "output_type": "stream",
     "text": [
      "0.7469970946108608  0.05253684598283248  0.0983057313933412  0.5625514943741822  0.0845200834268437  0.8380432245141547  0.013834745779060409  0.6384249573024066  0.3207386762863005  0.4409775394600508  "
     ]
    }
   ],
   "source": [
    "for _ in range(10):\n",
    "    print(random.random(), end=\"  \")"
   ]
  },
  {
   "cell_type": "markdown",
   "id": "19550a3a",
   "metadata": {},
   "source": [
    "### I probaby just need to have a range of 1-3 pixels"
   ]
  },
  {
   "cell_type": "code",
   "execution_count": 7,
   "id": "4d658d4c",
   "metadata": {},
   "outputs": [
    {
     "name": "stdout",
     "output_type": "stream",
     "text": [
      "2\n",
      "0\n",
      "2\n",
      "2\n",
      "2\n",
      "1\n",
      "1\n",
      "1\n",
      "1\n",
      "0\n"
     ]
    }
   ],
   "source": [
    "for _ in range(10):\n",
    "    jitter = random.random() * 3\n",
    "    print(int(jitter))"
   ]
  },
  {
   "cell_type": "markdown",
   "id": "70346120",
   "metadata": {},
   "source": [
    "### Oh wait, I need it to be -3 to + 3 so it doesn't ascend"
   ]
  },
  {
   "cell_type": "code",
   "execution_count": 13,
   "id": "7ccc85d7",
   "metadata": {},
   "outputs": [
    {
     "data": {
      "text/plain": [
       "-5"
      ]
     },
     "execution_count": 13,
     "metadata": {},
     "output_type": "execute_result"
    }
   ],
   "source": [
    "random.randrange(-5, 5)"
   ]
  },
  {
   "cell_type": "code",
   "execution_count": 16,
   "id": "a5f59356",
   "metadata": {},
   "outputs": [
    {
     "name": "stdout",
     "output_type": "stream",
     "text": [
      "1\n",
      "-3\n",
      "-2\n",
      "1\n",
      "0\n",
      "-1\n",
      "2\n",
      "-2\n",
      "1\n",
      "-3\n"
     ]
    }
   ],
   "source": [
    "for _ in range(10):\n",
    "    jitter = random.randrange(-3, 4)\n",
    "    print(jitter)"
   ]
  },
  {
   "cell_type": "code",
   "execution_count": 17,
   "id": "d19e9ca5",
   "metadata": {},
   "outputs": [],
   "source": [
    "import math"
   ]
  },
  {
   "cell_type": "code",
   "execution_count": 18,
   "id": "e050605a",
   "metadata": {},
   "outputs": [
    {
     "data": {
      "text/plain": [
       "1.0"
      ]
     },
     "execution_count": 18,
     "metadata": {},
     "output_type": "execute_result"
    }
   ],
   "source": [
    "rad = math.radians(90)\n",
    "math.sin(rad)"
   ]
  },
  {
   "cell_type": "code",
   "execution_count": 19,
   "id": "e1227eeb",
   "metadata": {},
   "outputs": [
    {
     "data": {
      "text/plain": [
       "1.5707963267948966"
      ]
     },
     "execution_count": 19,
     "metadata": {},
     "output_type": "execute_result"
    }
   ],
   "source": [
    "rad"
   ]
  },
  {
   "cell_type": "code",
   "execution_count": 24,
   "id": "23494269",
   "metadata": {},
   "outputs": [
    {
     "data": {
      "text/plain": [
       "[0, 1, 2, 3, 4]"
      ]
     },
     "execution_count": 24,
     "metadata": {},
     "output_type": "execute_result"
    }
   ],
   "source": [
    "a = [0, 1, 2, 3, 4]\n",
    "a"
   ]
  },
  {
   "cell_type": "code",
   "execution_count": 25,
   "id": "5428b361",
   "metadata": {},
   "outputs": [],
   "source": [
    "a.append(5)\n",
    "a = a[1:]"
   ]
  },
  {
   "cell_type": "code",
   "execution_count": 26,
   "id": "bb7cc37e",
   "metadata": {},
   "outputs": [
    {
     "data": {
      "text/plain": [
       "[1, 2, 3, 4, 5]"
      ]
     },
     "execution_count": 26,
     "metadata": {},
     "output_type": "execute_result"
    }
   ],
   "source": [
    "a"
   ]
  },
  {
   "cell_type": "code",
   "execution_count": 29,
   "id": "b90cfda6",
   "metadata": {},
   "outputs": [
    {
     "data": {
      "text/plain": [
       "3.0"
      ]
     },
     "execution_count": 29,
     "metadata": {},
     "output_type": "execute_result"
    }
   ],
   "source": [
    "sum(a)/len(a)"
   ]
  },
  {
   "cell_type": "code",
   "execution_count": 30,
   "id": "11941b85",
   "metadata": {},
   "outputs": [
    {
     "data": {
      "text/plain": [
       "44"
      ]
     },
     "execution_count": 30,
     "metadata": {},
     "output_type": "execute_result"
    }
   ],
   "source": [
    "len([-35, -34, -28, -34, -30, -33, -27, -30, -32, -32, -29, -33, -28, -30, -27, -27, -29, -26, -26, -26, -25, -27, -27, -26, -24, -21, -23, -27, -21, -24, -24, -24, -21, -23, -21, -20, -20, -20, -21, -21, -19, -18, -20, -18])\n"
   ]
  },
  {
   "cell_type": "code",
   "execution_count": 31,
   "id": "810a5171",
   "metadata": {},
   "outputs": [
    {
     "data": {
      "text/plain": [
       "5"
      ]
     },
     "execution_count": 31,
     "metadata": {},
     "output_type": "execute_result"
    }
   ],
   "source": [
    "abs(-5)"
   ]
  },
  {
   "cell_type": "code",
   "execution_count": 32,
   "id": "3c1f066e",
   "metadata": {},
   "outputs": [
    {
     "data": {
      "text/plain": [
       "1.5707963267948966"
      ]
     },
     "execution_count": 32,
     "metadata": {},
     "output_type": "execute_result"
    }
   ],
   "source": [
    "math.radians(90)"
   ]
  },
  {
   "cell_type": "code",
   "execution_count": 33,
   "id": "1edd3972",
   "metadata": {},
   "outputs": [
    {
     "data": {
      "text/plain": [
       "1.0"
      ]
     },
     "execution_count": 33,
     "metadata": {},
     "output_type": "execute_result"
    }
   ],
   "source": [
    "math.sin(math.radians(90))"
   ]
  },
  {
   "cell_type": "code",
   "execution_count": null,
   "id": "347c4c6c",
   "metadata": {},
   "outputs": [],
   "source": []
  }
 ],
 "metadata": {
  "kernelspec": {
   "display_name": "Python 3 (ipykernel)",
   "language": "python",
   "name": "python3"
  },
  "language_info": {
   "codemirror_mode": {
    "name": "ipython",
    "version": 3
   },
   "file_extension": ".py",
   "mimetype": "text/x-python",
   "name": "python",
   "nbconvert_exporter": "python",
   "pygments_lexer": "ipython3",
   "version": "3.10.5"
  }
 },
 "nbformat": 4,
 "nbformat_minor": 5
}
