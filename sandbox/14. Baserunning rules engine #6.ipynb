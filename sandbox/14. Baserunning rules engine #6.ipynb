{
 "cells": [
  {
   "cell_type": "markdown",
   "id": "7ae3d48f",
   "metadata": {},
   "source": [
    "# Baseball rules engine VI\n",
    "\n",
    "May 24, 2024"
   ]
  },
  {
   "cell_type": "markdown",
   "id": "fc95ac51",
   "metadata": {},
   "source": [
    "Version V is my first pygame rules engine, which is text based. That got a bit heavy before I had all the functionality in place.\n",
    "Spent May 21-24 re-designing this in other documents.\n",
    "\n",
    "Now, want to implement the leanest possible foundation in Jupyter in order to layer on additional requirements."
   ]
  },
  {
   "cell_type": "markdown",
   "id": "997bee8f",
   "metadata": {},
   "source": [
    "## User input\n",
    "I think I just call user_input( [item 1, item 2... ])\n",
    "\n",
    "#### Type 1\n",
    "- FBC: *['fbc']* >>>>> len = 1 | str\n",
    "\n",
    "#### Type 2\n",
    "- Runner tag out: *['tag r', 'isaac']* >>>>> len = 2 | str, str\n",
    "- Base tag out: *['tag b', 1 or 2 or 3]* >>>>> len = 2 | str, int\n",
    "- Change state: *['state', 0 or 1]* >>>>> len = 2 | str, int\n",
    "\n",
    "#### Type 3\n",
    "- Set goal: *['goal', 'isaac', 1 or 2 or 3 or 4]* >>>>> len = 3 | str, str, int\n",
    "- Occupy base: *['occupy', 'isaac', 1 or 2 or 3 or 4]* >>>>> len = 3 | str, str, int"
   ]
  },
  {
   "cell_type": "code",
   "execution_count": 4,
   "id": "b489d772",
   "metadata": {},
   "outputs": [],
   "source": [
    "class RuEg:\n",
    "    \n",
    "    def __init__(self, runners):\n",
    "        self.runners = runners # dict: {name: object}\n",
    "        self.runners_out = []\n",
    "        self.state = 0 \n",
    "\n",
    "    \n",
    "    def master_do(self, li):\n",
    "        \n",
    "        func_map = {'fbc': self.do_fbc, 'tag r': self.fielder_tags_runner, 'tag b': self.fielder_tags_base,\n",
    "                   'state': self.change_state, 'goal': self.set_goal, 'occupy': self.occupy_attain_base}\n",
    "        \n",
    "\n",
    "        if li[0] not in func_map:\n",
    "            print('Bad input')\n",
    "            return\n",
    "\n",
    "        func_map[ li[0] ](li)\n",
    "       \n",
    "        \n",
    "    def do_fbc(self, li):\n",
    "        print(li[1])\n",
    "        \n",
    "    def fielder_tags_runner(self, x):\n",
    "        pass\n",
    "    \n",
    "    def fielder_tags_base(self, x):\n",
    "        pass\n",
    "    def change_state(self, x):\n",
    "        pass\n",
    "    \n",
    "    def set_goal(self, x):\n",
    "        pass\n",
    "    \n",
    "    def occupy_attain_base(self, x):\n",
    "        pass"
   ]
  },
  {
   "cell_type": "code",
   "execution_count": 6,
   "id": "f985bb58",
   "metadata": {},
   "outputs": [
    {
     "name": "stdout",
     "output_type": "stream",
     "text": [
      "yo you ma\n"
     ]
    }
   ],
   "source": [
    "ru = RuEg('runners')\n",
    "\n",
    "li = ['fbc', 'yo you ma']\n",
    "ru.master_do(li)"
   ]
  },
  {
   "cell_type": "code",
   "execution_count": null,
   "id": "dbc16ab8",
   "metadata": {},
   "outputs": [],
   "source": []
  },
  {
   "cell_type": "code",
   "execution_count": null,
   "id": "f2631211",
   "metadata": {},
   "outputs": [],
   "source": []
  }
 ],
 "metadata": {
  "kernelspec": {
   "display_name": "Python 3 (ipykernel)",
   "language": "python",
   "name": "python3"
  },
  "language_info": {
   "codemirror_mode": {
    "name": "ipython",
    "version": 3
   },
   "file_extension": ".py",
   "mimetype": "text/x-python",
   "name": "python",
   "nbconvert_exporter": "python",
   "pygments_lexer": "ipython3",
   "version": "3.10.5"
  }
 },
 "nbformat": 4,
 "nbformat_minor": 5
}
