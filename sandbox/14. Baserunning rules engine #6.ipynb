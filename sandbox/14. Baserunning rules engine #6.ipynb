{
 "cells": [
  {
   "cell_type": "markdown",
   "id": "7ae3d48f",
   "metadata": {},
   "source": [
    "# Baseball rules engine VI\n",
    "\n",
    "May 24, 2024"
   ]
  },
  {
   "cell_type": "markdown",
   "id": "fc95ac51",
   "metadata": {},
   "source": [
    "Version V is my first pygame rules engine, which is text based. That got a bit heavy before I had all the functionality in place.\n",
    "Spent May 21-24 re-designing this in other documents.\n",
    "\n",
    "Now, want to implement the leanest possible foundation in Jupyter in order to layer on additional requirements."
   ]
  },
  {
   "cell_type": "code",
   "execution_count": 165,
   "id": "bd76f313",
   "metadata": {},
   "outputs": [],
   "source": [
    "import copy"
   ]
  },
  {
   "cell_type": "markdown",
   "id": "fb7f2f79",
   "metadata": {},
   "source": [
    "## 1. Baserunner class"
   ]
  },
  {
   "cell_type": "code",
   "execution_count": 395,
   "id": "6961c6a6",
   "metadata": {},
   "outputs": [],
   "source": [
    "class Baserunner:\n",
    "    \n",
    "    def __init__(self, name, base):\n",
    "        self.name = name\n",
    "        \n",
    "        self.occupied_base = base\n",
    "        self.attained_base = base\n",
    "        \n",
    "        self.f2_base = None\n",
    "        self.tagup_base = None"
   ]
  },
  {
   "cell_type": "markdown",
   "id": "c8c00887",
   "metadata": {},
   "source": [
    "## 2. Apply and remove Forces\n",
    "### Apply Forces\n",
    "Triggered by user input\n",
    "- Called by Main > change_state() > state_bip()\n",
    "- Takes in: \n",
    "    - Baserunner object (the Batter)\n",
    "        - occupied = attained = 0B\n",
    "        - f2_base = 1B\n",
    "    - The dict of BR's -- {name: Baserunner object}\n",
    "- Starting from Batter, identifies Forces and applies to each BR object\n",
    "- Returns the dict of runners -- runners may be changed "
   ]
  },
  {
   "cell_type": "code",
   "execution_count": 391,
   "id": "86fe9e6d",
   "metadata": {},
   "outputs": [],
   "source": [
    "class ApplyForces:\n",
    "\n",
    "        \n",
    "    def apply_forces(self, batter, runners):\n",
    "        \n",
    "        f2bases = {1: batter, 2: False, 3: False, 4: False}\n",
    "        \n",
    "        for base in [1, 2, 3]:\n",
    "        \n",
    "            for runner in runners.values():\n",
    "                attained = runner.attained_base\n",
    "            \n",
    "                if base == attained and f2bases[base]:\n",
    "                    f2bases[ base + 1 ] = runner\n",
    "                    runner.f2_base = base + 1\n",
    "                        \n",
    "        self.print_output(runners)\n",
    "        \n",
    "        return runners\n",
    "\n",
    "    \n",
    "    def print_output(self, runners):\n",
    "        print(\"In Apply Forces:\")\n",
    "        for name, runner in runners.items():\n",
    "            #print(base, runner)\n",
    "            if runner:\n",
    "                print(f\"  > {name} is on {runner.attained_base}B, and forced to {runner.f2_base}B\")\n",
    "                \n",
    "        print()"
   ]
  },
  {
   "cell_type": "markdown",
   "id": "13ef5ce0",
   "metadata": {},
   "source": [
    "### Remove Forces\n",
    "Triggered by FBC or fielder tag (base or BR)\n",
    "- Called by Main > ?(several paths)? > put_out()\n",
    "- Takes in:\n",
    "    - Baserunner object being put out\n",
    "    - The dict of BR's -- {name: Baserunner object}\n",
    "- Starting from base of runner being put out, removes Forces for all preceding BR (e.g., out = 1B, 2B = remove force)\n",
    "- Returns the dict of runners -- runners may be changed "
   ]
  },
  {
   "cell_type": "code",
   "execution_count": 378,
   "id": "08a1ff53",
   "metadata": {},
   "outputs": [],
   "source": [
    "class RemoveForces:\n",
    "    \n",
    "    def remove_forces(self, runner_out, runners):\n",
    "        kill_force_base = runner_out.f2_base ## This is the base the 'runner_out' is forced to\n",
    "        \n",
    "        print(\"In Remove Forces:\")\n",
    "        \n",
    "        for base in range(kill_force_base, 5): ## Make it iterate to 5 to avoid edge cases\n",
    "            \n",
    "            print(f\"  > Attempting to remove force on base {base}.\", end = \" ... \")\n",
    "            \n",
    "            for runner in runners.values():\n",
    "\n",
    "                if base == runner.f2_base:\n",
    "                    runner.f2_base = None\n",
    "                    print(f\"Yes -- {runner.name}'s Force removed\", end = \"\")\n",
    "            print()\n",
    "        \n",
    "        print()\n",
    "            \n",
    "        return runners"
   ]
  },
  {
   "cell_type": "markdown",
   "id": "f6c7cd7f",
   "metadata": {},
   "source": [
    "### 2.5 Unit test for 1.0 and 2.0"
   ]
  },
  {
   "cell_type": "code",
   "execution_count": 393,
   "id": "27a94560",
   "metadata": {},
   "outputs": [
    {
     "name": "stdout",
     "output_type": "stream",
     "text": [
      "In Apply Forces:\n",
      "  > Isaac is on 2B, and forced to 3B\n",
      "  > Jack is on 1B, and forced to 2B\n",
      "  > Mr. Batter is on 0B, and forced to 1B\n",
      "\n",
      "Jack is Out\n",
      "\n",
      "In Remove Forces:\n",
      "  > Attempting to remove force on base 2. ... Yes -- Jack's Force removed\n",
      "  > Attempting to remove force on base 3. ... Yes -- Isaac's Force removed\n",
      "  > Attempting to remove force on base 4. ... \n",
      "\n",
      "In Apply Forces:\n",
      "  > Isaac is on 2B, and forced to NoneB\n",
      "  > Jack is on 1B, and forced to NoneB\n",
      "  > Mr. Batter is on 0B, and forced to 1B\n",
      "\n"
     ]
    }
   ],
   "source": [
    "def test_make_BR():\n",
    "    isaac = Baserunner('Isaac', 2)\n",
    "    jack = Baserunner('Jack', 1)\n",
    "    batter = Baserunner('Mr. Batter', 0)\n",
    "    \n",
    "    batter.f2_base = 1\n",
    "\n",
    "    return {'Isaac': isaac, 'Jack': jack, 'Mr. Batter': batter}\n",
    "\n",
    "\n",
    "def unit_test_2():\n",
    "    af = ApplyForces()\n",
    "    rf = RemoveForces()\n",
    "    \n",
    "    runners = test_make_BR()\n",
    "    batter = runners['Mr. Batter']\n",
    "    \n",
    "    ## Apply Forces\n",
    "    runners = af.apply_forces(batter, runners)\n",
    "    \n",
    "    runner_out_name = 'Jack' ## <-- **** UPDATE HERE ****\n",
    "    print(f\"{runner_out_name} is Out\\n\")\n",
    "    runner_out = runners[runner_out_name]\n",
    "    \n",
    "    ## Remove Forces\n",
    "    runners = rf.remove_forces(runner_out, runners)\n",
    "    \n",
    "    af.print_output(runners)\n",
    "    \n",
    "\n",
    "unit_test_2()"
   ]
  },
  {
   "cell_type": "code",
   "execution_count": null,
   "id": "db0eb5d1",
   "metadata": {},
   "outputs": [],
   "source": []
  },
  {
   "cell_type": "code",
   "execution_count": null,
   "id": "2c17af37",
   "metadata": {},
   "outputs": [],
   "source": []
  },
  {
   "cell_type": "code",
   "execution_count": null,
   "id": "f6118c3a",
   "metadata": {},
   "outputs": [],
   "source": []
  },
  {
   "cell_type": "code",
   "execution_count": null,
   "id": "73f60fa4",
   "metadata": {},
   "outputs": [],
   "source": []
  },
  {
   "cell_type": "code",
   "execution_count": null,
   "id": "f296ddc5",
   "metadata": {},
   "outputs": [],
   "source": []
  },
  {
   "cell_type": "code",
   "execution_count": null,
   "id": "46b1c7b0",
   "metadata": {},
   "outputs": [],
   "source": []
  },
  {
   "cell_type": "code",
   "execution_count": null,
   "id": "4d60c333",
   "metadata": {},
   "outputs": [],
   "source": []
  },
  {
   "cell_type": "code",
   "execution_count": null,
   "id": "7192f1b0",
   "metadata": {},
   "outputs": [],
   "source": []
  },
  {
   "cell_type": "code",
   "execution_count": null,
   "id": "13c69f93",
   "metadata": {},
   "outputs": [],
   "source": []
  },
  {
   "cell_type": "code",
   "execution_count": null,
   "id": "fad5a760",
   "metadata": {},
   "outputs": [],
   "source": []
  },
  {
   "cell_type": "code",
   "execution_count": null,
   "id": "5417b18d",
   "metadata": {},
   "outputs": [],
   "source": []
  },
  {
   "cell_type": "code",
   "execution_count": null,
   "id": "a8fa1546",
   "metadata": {},
   "outputs": [],
   "source": []
  },
  {
   "cell_type": "code",
   "execution_count": null,
   "id": "d0964072",
   "metadata": {},
   "outputs": [],
   "source": []
  },
  {
   "cell_type": "code",
   "execution_count": null,
   "id": "7cddd16a",
   "metadata": {},
   "outputs": [],
   "source": []
  },
  {
   "cell_type": "code",
   "execution_count": null,
   "id": "0e07bc3a",
   "metadata": {},
   "outputs": [],
   "source": []
  },
  {
   "cell_type": "code",
   "execution_count": null,
   "id": "df9990be",
   "metadata": {},
   "outputs": [],
   "source": []
  },
  {
   "cell_type": "markdown",
   "id": "a5489699",
   "metadata": {},
   "source": [
    "## 3. Main"
   ]
  },
  {
   "cell_type": "markdown",
   "id": "997bee8f",
   "metadata": {},
   "source": [
    "### User input\n",
    "I think I just call user_input( [item 1, item 2... ])\n",
    "\n",
    "- Runner tag out: *['tag r', 'isaac']* >>>>> len = 2 | str, str\n",
    "- Base tag out: *['tag b', 1 or 2 or 3]* >>>>> len = 2 | str, int\n",
    "\n",
    "- Occupy base: *['occupy', 'isaac', 1 or 2 or 3 or 4]* >>>>> len = 3 | str, str, int\n",
    "\n",
    "- Change state: *['state', 0 or 1, '' or 'fbc' or 'bip']* >>>>> len = 3 | str, int, str"
   ]
  },
  {
   "cell_type": "code",
   "execution_count": 394,
   "id": "b489d772",
   "metadata": {},
   "outputs": [
    {
     "name": "stdout",
     "output_type": "stream",
     "text": [
      "Call ru.master_do() and pass a list:\n",
      "  > Tag runner: ['tag r', name = str]\n",
      "  > Tag base: ['tag b', base = int]\n",
      "  > Runner occupy a base: ['occupy', name = str, base = int]\n",
      "  > Change state: ['state', int, '' or 'fbc' or 'bip' = str]\n",
      "\n",
      "Create and place runner:\n",
      "  > ru.create_runner(start_base = int)\n"
     ]
    }
   ],
   "source": [
    "class RuEg:\n",
    "    \n",
    "    def __init__(self):\n",
    "        self.names = ['Isaac,', 'Jack,', 'JD', 'Romo', 'Casey', 'Sam', 'Pasma', 'Bradey', 'Kemper', 'Liam']\n",
    "        self.runners = {} # dict: {name: object}\n",
    "        self.runners_out = []\n",
    "        self.state = -1 \n",
    "        self.af = ApplyForces()\n",
    "        self.rf = RemoveForces()\n",
    "        self.batter = None\n",
    "\n",
    "\n",
    "    ### Commanded functions     \n",
    "    def master_do(self, li):\n",
    "        key = li[0]\n",
    "                \n",
    "        func_map = {'tag r': self.fielder_tags_runner, 'tag b': self.fielder_tags_base,\n",
    "                   'occupy': self.occupy_attain_base, 'state': self.change_state}\n",
    "\n",
    "        func_map[ key ]( li )  # Call the function associated with the key and pass the rest of the list.\n",
    "        \n",
    "\n",
    "    def change_state(self, li):\n",
    "        new_state = li[1]\n",
    "        \n",
    "        if new_state == 0:\n",
    "            print(\"State updated to 0: Pre-pitch\")\n",
    "            self.state = 0\n",
    "\n",
    "        elif new_state == 1:\n",
    "            self.state = 1\n",
    "            \n",
    "            self.create_batter() ## Instantiate a new runner at base 0\n",
    "            \n",
    "            for name, runner in self.runners.items():\n",
    "                runner.occupied_base = None\n",
    "            \n",
    "            if li[2] == 'bip':\n",
    "                self.state_bip()\n",
    "\n",
    "            elif li[2] == 'fbc':\n",
    "                self.state_fbc()\n",
    "\n",
    "                \n",
    "    def state_bip(self):\n",
    "        print(\"State updated to 1: BIP\")\n",
    "        self.runners = self.af.apply_forces(self.batter, self.runners)\n",
    "        \n",
    "\n",
    "    def state_fbc(self):\n",
    "        print(\"State updated to 1: FBC\")\n",
    "        #temp_runners = copy.deepcopy( self.runners )\n",
    "        name_of_runner_out = None\n",
    "\n",
    "        for name, runner in self.runners: #temp_runners.items():\n",
    "            if runner.attained_base == 0:\n",
    "                self.put_out(name)\n",
    "                name_of_runner_out = name\n",
    "\n",
    "            else: \n",
    "                runner.f2_base = runner.attained_base\n",
    "         \n",
    "        if name_of_runner_out:\n",
    "            del self.runners[name_of_runner_out]\n",
    "\n",
    "    \n",
    "    def create_batter(self):\n",
    "        self.batter = self.create_runner(0)\n",
    "        self.batter.f2_base = 1\n",
    "        \n",
    "        \n",
    "    def create_runner(self, base):\n",
    "        name = self.names.pop(0)\n",
    "        runner = Baserunner(name, base)\n",
    "        self.runners[name] = runner\n",
    "        \n",
    "        return runner\n",
    "    \n",
    "    \n",
    "    \n",
    "    \"\"\"!!! PUT OUT !!!\"\"\"\n",
    "\n",
    "    def put_out(self, name):\n",
    "        runner_out = self.runners[name]\n",
    "        #self.runners_out.append(runner_out)\n",
    "        self.names.append(name) # Recycle the name        \n",
    "        self.runners = self.rf.remove_forces(runner_out, self.runners)\n",
    "\n",
    "\n",
    "    \n",
    "    \"\"\"!!! UTILITIES !!!\"\"\"\n",
    "    \n",
    "    \n",
    "    def print_status(self):\n",
    "        \n",
    "        for name, runner in self.runners.items():\n",
    "            #print(f\"hi\")\n",
    "            print(f\" {name} on {runner.attained_base} occupies {runner.occupied_base}\", end = \" | \")\n",
    "            print(f\"He is forced to {runner.f2_base} or must tag-up at {runner.tagup_base}\")\n",
    "\n",
    "                  \n",
    "    def print_options(self):\n",
    "        print(\"Call ru.master_do() and pass a list:\")\n",
    "        print(f\"  > Tag runner: ['tag r', name = str]\")\n",
    "        print(f\"  > Tag base: ['tag b', base = int]\")\n",
    "        print(f\"  > Runner occupy a base: ['occupy', name = str, base = int]\")\n",
    "        print(f\"  > Change state: ['state', int, '' or 'fbc' or 'bip' = str]\")\n",
    "        print(\"\\nCreate and place runner:\")\n",
    "        print(f\"  > ru.create_runner(start_base = int)\")\n",
    "\n",
    "ru = RuEg()\n",
    "ru.print_options()"
   ]
  },
  {
   "cell_type": "markdown",
   "id": "c794a414",
   "metadata": {},
   "source": [
    "***"
   ]
  },
  {
   "cell_type": "code",
   "execution_count": 334,
   "id": "1f122843",
   "metadata": {},
   "outputs": [
    {
     "name": "stdout",
     "output_type": "stream",
     "text": [
      "State updated to 0: Pre-pitch\n",
      "\n",
      " Isaac, on 2 occupies 2 | He is forced to None or must tag-up at None\n",
      " Jack, on 0 occupies 0 | He is forced to 1 or must tag-up at None\n"
     ]
    }
   ],
   "source": [
    "ru.create_runner(2)\n",
    "#ru.print_status()\n",
    "\n",
    "#print()\n",
    "\n",
    "li = ['state', 0, '']\n",
    "ru.master_do( li )\n",
    "\n",
    "print()\n",
    "\n",
    "ru.print_status()"
   ]
  },
  {
   "cell_type": "code",
   "execution_count": 335,
   "id": "39f7a319",
   "metadata": {},
   "outputs": [
    {
     "name": "stdout",
     "output_type": "stream",
     "text": [
      "State updated to 1: FBC\n",
      " Removing force on base 1. Jack,\n",
      " Removing force on base 2. \n",
      " Removing force on base 3. \n",
      " Removing force on base 4. \n"
     ]
    },
    {
     "ename": "TypeError",
     "evalue": "'NoneType' object does not support item deletion",
     "output_type": "error",
     "traceback": [
      "\u001b[1;31m---------------------------------------------------------------------------\u001b[0m",
      "\u001b[1;31mTypeError\u001b[0m                                 Traceback (most recent call last)",
      "Input \u001b[1;32mIn [335]\u001b[0m, in \u001b[0;36m<cell line: 2>\u001b[1;34m()\u001b[0m\n\u001b[0;32m      1\u001b[0m li \u001b[38;5;241m=\u001b[39m [\u001b[38;5;124m'\u001b[39m\u001b[38;5;124mstate\u001b[39m\u001b[38;5;124m'\u001b[39m, \u001b[38;5;241m1\u001b[39m, \u001b[38;5;124m'\u001b[39m\u001b[38;5;124mfbc\u001b[39m\u001b[38;5;124m'\u001b[39m]\n\u001b[1;32m----> 2\u001b[0m \u001b[43mru\u001b[49m\u001b[38;5;241;43m.\u001b[39;49m\u001b[43mmaster_do\u001b[49m\u001b[43m(\u001b[49m\u001b[43m \u001b[49m\u001b[43mli\u001b[49m\u001b[43m \u001b[49m\u001b[43m)\u001b[49m\n",
      "Input \u001b[1;32mIn [333]\u001b[0m, in \u001b[0;36mRuEg.master_do\u001b[1;34m(self, li)\u001b[0m\n\u001b[0;32m     15\u001b[0m key \u001b[38;5;241m=\u001b[39m li[\u001b[38;5;241m0\u001b[39m]\n\u001b[0;32m     17\u001b[0m func_map \u001b[38;5;241m=\u001b[39m {\u001b[38;5;124m'\u001b[39m\u001b[38;5;124mtag r\u001b[39m\u001b[38;5;124m'\u001b[39m: \u001b[38;5;28mself\u001b[39m\u001b[38;5;241m.\u001b[39mfielder_tags_runner, \u001b[38;5;124m'\u001b[39m\u001b[38;5;124mtag b\u001b[39m\u001b[38;5;124m'\u001b[39m: \u001b[38;5;28mself\u001b[39m\u001b[38;5;241m.\u001b[39mfielder_tags_base,\n\u001b[0;32m     18\u001b[0m            \u001b[38;5;124m'\u001b[39m\u001b[38;5;124moccupy\u001b[39m\u001b[38;5;124m'\u001b[39m: \u001b[38;5;28mself\u001b[39m\u001b[38;5;241m.\u001b[39moccupy_attain_base, \u001b[38;5;124m'\u001b[39m\u001b[38;5;124mstate\u001b[39m\u001b[38;5;124m'\u001b[39m: \u001b[38;5;28mself\u001b[39m\u001b[38;5;241m.\u001b[39mchange_state}\n\u001b[1;32m---> 20\u001b[0m \u001b[43mfunc_map\u001b[49m\u001b[43m[\u001b[49m\u001b[43m \u001b[49m\u001b[43mkey\u001b[49m\u001b[43m \u001b[49m\u001b[43m]\u001b[49m\u001b[43m(\u001b[49m\u001b[43m \u001b[49m\u001b[43mli\u001b[49m\u001b[43m \u001b[49m\u001b[43m)\u001b[49m\n",
      "Input \u001b[1;32mIn [333]\u001b[0m, in \u001b[0;36mRuEg.change_state\u001b[1;34m(self, li)\u001b[0m\n\u001b[0;32m     47\u001b[0m \u001b[38;5;28;01mfor\u001b[39;00m name, runner \u001b[38;5;129;01min\u001b[39;00m temp_runners\u001b[38;5;241m.\u001b[39mitems():\n\u001b[0;32m     48\u001b[0m     \u001b[38;5;28;01mif\u001b[39;00m runner\u001b[38;5;241m.\u001b[39mattained_base \u001b[38;5;241m==\u001b[39m \u001b[38;5;241m0\u001b[39m:\n\u001b[1;32m---> 49\u001b[0m         \u001b[38;5;28;43mself\u001b[39;49m\u001b[38;5;241;43m.\u001b[39;49m\u001b[43mput_out\u001b[49m\u001b[43m(\u001b[49m\u001b[43mname\u001b[49m\u001b[43m)\u001b[49m\n\u001b[0;32m     50\u001b[0m     \u001b[38;5;28;01melse\u001b[39;00m: \n\u001b[0;32m     51\u001b[0m         runner\u001b[38;5;241m.\u001b[39mf2_base \u001b[38;5;241m=\u001b[39m runner\u001b[38;5;241m.\u001b[39mattained_base\n",
      "Input \u001b[1;32mIn [333]\u001b[0m, in \u001b[0;36mRuEg.put_out\u001b[1;34m(self, name)\u001b[0m\n\u001b[0;32m    129\u001b[0m \u001b[38;5;28mself\u001b[39m\u001b[38;5;241m.\u001b[39mnames\u001b[38;5;241m.\u001b[39mappend(name) \u001b[38;5;66;03m# Recycle the name        \u001b[39;00m\n\u001b[0;32m    130\u001b[0m \u001b[38;5;28mself\u001b[39m\u001b[38;5;241m.\u001b[39mrunners \u001b[38;5;241m=\u001b[39m \u001b[38;5;28mself\u001b[39m\u001b[38;5;241m.\u001b[39mrf\u001b[38;5;241m.\u001b[39mremove_forces(runner_out, \u001b[38;5;28mself\u001b[39m\u001b[38;5;241m.\u001b[39mrunners)\n\u001b[1;32m--> 131\u001b[0m \u001b[38;5;28;01mdel\u001b[39;00m \u001b[38;5;28mself\u001b[39m\u001b[38;5;241m.\u001b[39mrunners[name]\n",
      "\u001b[1;31mTypeError\u001b[0m: 'NoneType' object does not support item deletion"
     ]
    }
   ],
   "source": [
    "li = ['state', 1, 'fbc']\n",
    "ru.master_do( li )"
   ]
  },
  {
   "cell_type": "code",
   "execution_count": 329,
   "id": "e3a70bb0",
   "metadata": {},
   "outputs": [
    {
     "name": "stdout",
     "output_type": "stream",
     "text": [
      " Isaac, on 2 occupies None | He is forced to None or must tag-up at None\n",
      " Jack, on 0 occupies None | He is forced to 1 or must tag-up at None\n"
     ]
    }
   ],
   "source": [
    "ru.print_status()"
   ]
  },
  {
   "cell_type": "code",
   "execution_count": null,
   "id": "1bbcf646",
   "metadata": {},
   "outputs": [],
   "source": []
  },
  {
   "cell_type": "code",
   "execution_count": null,
   "id": "615ef545",
   "metadata": {},
   "outputs": [],
   "source": []
  },
  {
   "cell_type": "code",
   "execution_count": null,
   "id": "ef99f3d3",
   "metadata": {},
   "outputs": [],
   "source": []
  },
  {
   "cell_type": "code",
   "execution_count": 343,
   "id": "b0a41883",
   "metadata": {},
   "outputs": [],
   "source": [
    "\"\"\"!!! OTHER STUFF BELOW -- CURRENT STUFF ABOVE !!! \"\"\"\n",
    "\n",
    "                        \n",
    "def fielder_tags_runner(self, li):\n",
    "    print(f\"I think *{li[0]}* is complete\")\n",
    "\n",
    "    name = li[1]\n",
    "    runner = runners[name]\n",
    "    if not(runner.occupied_base):\n",
    "        self.put_out(name)\n",
    "\n",
    "\n",
    "def fielder_tags_base(self, li):\n",
    "    print(f\"I think *{li[0]}* is complete\")\n",
    "    base = li[1]\n",
    "\n",
    "    for name, runner in self.runners.items:\n",
    "        if runner.f2_base == base or runner.tagup_base == base:\n",
    "            self.put_out(name)\n",
    "            return\n",
    "\n",
    "\n",
    "def occupy_attain_base(self, li):\n",
    "    print(f\"I think *{li[0]}* is complete\")\n",
    "\n",
    "    base = li[2]\n",
    "\n",
    "    ## Check occupied bases\n",
    "    for name, runner in self.runners:\n",
    "        if runner.occupied_base == base:\n",
    "            return\n",
    "\n",
    "    name = li[1]\n",
    "    runner = self.runners[name]\n",
    "\n",
    "    runner.attained_base = runner.occupied_base = base\n",
    "\n",
    "    ## Clear taggable bases\n",
    "    if runner.f2_base == base:\n",
    "        runner.f2_base = None\n",
    "\n",
    "    if runner.tagup_base == base:\n",
    "        runner.tagup_base = None\n",
    "\n",
    "\n"
   ]
  },
  {
   "cell_type": "code",
   "execution_count": null,
   "id": "37e1c34b",
   "metadata": {},
   "outputs": [],
   "source": []
  }
 ],
 "metadata": {
  "kernelspec": {
   "display_name": "Python 3 (ipykernel)",
   "language": "python",
   "name": "python3"
  },
  "language_info": {
   "codemirror_mode": {
    "name": "ipython",
    "version": 3
   },
   "file_extension": ".py",
   "mimetype": "text/x-python",
   "name": "python",
   "nbconvert_exporter": "python",
   "pygments_lexer": "ipython3",
   "version": "3.10.5"
  }
 },
 "nbformat": 4,
 "nbformat_minor": 5
}
