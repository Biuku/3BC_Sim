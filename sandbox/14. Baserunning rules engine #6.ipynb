{
 "cells": [
  {
   "cell_type": "markdown",
   "id": "7ae3d48f",
   "metadata": {},
   "source": [
    "# Baseball rules engine VI\n",
    "\n",
    "May 21, 2024"
   ]
  },
  {
   "cell_type": "markdown",
   "id": "fc95ac51",
   "metadata": {},
   "source": [
    "Version V is my first pygame rules engine, which is text based. That got a bit heavy before I had all the functionality in place.\n",
    "\n",
    "Returning to Jupyter to try to build the leanest possible foundation in order to layer on additional requirements."
   ]
  },
  {
   "cell_type": "code",
   "execution_count": null,
   "id": "b489d772",
   "metadata": {},
   "outputs": [],
   "source": []
  }
 ],
 "metadata": {
  "kernelspec": {
   "display_name": "Python 3 (ipykernel)",
   "language": "python",
   "name": "python3"
  },
  "language_info": {
   "codemirror_mode": {
    "name": "ipython",
    "version": 3
   },
   "file_extension": ".py",
   "mimetype": "text/x-python",
   "name": "python",
   "nbconvert_exporter": "python",
   "pygments_lexer": "ipython3",
   "version": "3.10.5"
  }
 },
 "nbformat": 4,
 "nbformat_minor": 5
}
