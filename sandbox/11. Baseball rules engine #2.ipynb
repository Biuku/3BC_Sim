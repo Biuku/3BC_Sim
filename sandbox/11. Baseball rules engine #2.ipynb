{
 "cells": [
  {
   "cell_type": "markdown",
   "id": "a89cadbc",
   "metadata": {},
   "source": [
    "# Baseball rules engine II\n",
    "\n",
    "May 17, 2024"
   ]
  },
  {
   "cell_type": "markdown",
   "id": "22530283",
   "metadata": {},
   "source": [
    "I just want to clean up what I did this morning"
   ]
  },
  {
   "cell_type": "markdown",
   "id": "dcb69515",
   "metadata": {},
   "source": [
    "## 1. Make the baserunner class"
   ]
  },
  {
   "cell_type": "code",
   "execution_count": 184,
   "id": "dd946fab",
   "metadata": {},
   "outputs": [],
   "source": [
    "class Baserunner:\n",
    "    \n",
    "    def __init__(self, name, curr_base = 0):\n",
    "        \n",
    "        self.name = name\n",
    "        self.forced_status = False\n",
    "        \n",
    "        self.master_status = {'curr_obtained': curr_base, 'next_obtainable': None, \n",
    "                              'preceding_obtainable': None, 'last_obtained': curr_base, 'forced_to': None \n",
    "                             } \n",
    "        \n",
    "        \n",
    "    def set_master_status_unforced(self):\n",
    "        curr = self.master_status['curr_obtained']\n",
    "        \n",
    "        self.master_status['next_obtainable'] = curr + 1\n",
    "        self.master_status['preceding_obtainable'] = curr -1\n",
    "    \n",
    "    \n",
    "    def set_master_status_forced(self):\n",
    "        self.master_status['forced_to'] = self.master_status['last_obtained'] + 1\n",
    "        self.master_status['last_obtained'] = None\n",
    "        self.master_status['preceding_obtainable'] = None\n",
    "\n",
    "        \n",
    "    def get_base_view(self):\n",
    "        base_view = {1: None, 2: None, 3: None, 4: None}\n",
    "        \n",
    "        for base in range(1, 5):\n",
    "            for key, value in self.master_status.items():\n",
    "                if value == base:\n",
    "                    base_view[base] = key\n",
    "        \n",
    "        return base_view\n",
    "                 \n",
    "        \n",
    "    def print_status(self):\n",
    "        \n",
    "        base_view = self.get_base_view()\n",
    "        \n",
    "        print(f\"{self.name}: \", end = \"\")\n",
    "        \n",
    "        for base, status in base_view.items():\n",
    "            print(f\"{base}B: {status} \", end = \" | \")"
   ]
  },
  {
   "cell_type": "markdown",
   "id": "fe6c5a72",
   "metadata": {},
   "source": [
    "## 2. Instantiate 4 runners"
   ]
  },
  {
   "cell_type": "code",
   "execution_count": 166,
   "id": "a022cfc2",
   "metadata": {},
   "outputs": [],
   "source": [
    "def make_runners():\n",
    "    dudes = {'Isaac': 2, 'Jack': 1, 'Josh': 3, 'Romo': 0}\n",
    "    \n",
    "    runners = []\n",
    "    \n",
    "    for name, base in dudes.items():\n",
    "        runner = Baserunner(name, base)\n",
    "        runner.set_master_status_unforced()\n",
    "        \n",
    "        runners.append(runner)\n",
    "        \n",
    "    return runners"
   ]
  },
  {
   "cell_type": "code",
   "execution_count": 27,
   "id": "7459e115",
   "metadata": {},
   "outputs": [],
   "source": [
    "def print_runners(runners):\n",
    "    \n",
    "    for runner in runners:\n",
    "        print(f\"\\n{runner.name}: | \", end = \"\")\n",
    "        \n",
    "        for key, value in runner.master_status.items():\n",
    "            print(f\"{key}: {value}\", end = \" | \")"
   ]
  },
  {
   "cell_type": "code",
   "execution_count": 34,
   "id": "4afda7e8",
   "metadata": {},
   "outputs": [
    {
     "name": "stdout",
     "output_type": "stream",
     "text": [
      "\n",
      "Isaac: | last_obtained: 2 | next_obtainable: 3 | preceding_obtainable: 1 | \n",
      "Jack: | last_obtained: 1 | next_obtainable: 2 | preceding_obtainable: 0 | \n",
      "Josh: | last_obtained: 0 | next_obtainable: 1 | preceding_obtainable: -1 | \n",
      "Romo: | last_obtained: 0 | next_obtainable: 1 | preceding_obtainable: -1 | "
     ]
    }
   ],
   "source": [
    "runners = make_runners()\n",
    "\n",
    "print_runners(runners)"
   ]
  },
  {
   "cell_type": "markdown",
   "id": "1a4b36fd",
   "metadata": {},
   "source": [
    "## 3. Review all runners to determine who is forced\n",
    "\n",
    "#### Define terms \n",
    "\n",
    "Runner R is forced to base \"B + 1\" if:\n",
    "- R occupies B, and\n",
    "- B-1 is occupied, and\n",
    "- B-1 is forced"
   ]
  },
  {
   "cell_type": "markdown",
   "id": "c6423457",
   "metadata": {},
   "source": [
    "### Step 3.1 -- unpack bases occupied\n",
    "- For this rules engine, I want to have a single source of truth (SSoT), and then unpack from that as needed.\n",
    "- Here, the SSoT for which runners occupy which base is the runner objects.  "
   ]
  },
  {
   "cell_type": "code",
   "execution_count": 77,
   "id": "a4939e21",
   "metadata": {},
   "outputs": [],
   "source": [
    "def unpack_runners_on(runners):\n",
    "\n",
    "    bases = {0: True, 1: False, 2: False, 3: False}\n",
    "    \n",
    "    for runner in runners:\n",
    "        \n",
    "        R = runner.master_status['last_obtained']\n",
    "        \n",
    "        if R in [1, 2, 3]:\n",
    "            bases[R] = runner.name\n",
    "            \n",
    "    return bases"
   ]
  },
  {
   "cell_type": "markdown",
   "id": "f60e6466",
   "metadata": {},
   "source": [
    "### Step 3.2 Determine which bases are forced\n",
    "- Go in order from 1B\n",
    "- R1 is always forced\n",
    "- R2 is forced to 3B if:\n",
    "    - R2 occupies 2B, and\n",
    "    - 1B is occupied, and\n",
    "    - 1B is forced\n",
    "- R3 is forced ... in a similar way"
   ]
  },
  {
   "cell_type": "code",
   "execution_count": 113,
   "id": "8767ba21",
   "metadata": {},
   "outputs": [],
   "source": [
    "def print_tracer_1(bases, runners_on, bases_forced_to):\n",
    "    \n",
    "    for base in bases:\n",
    "        print(f\"Runner on {base}B: {runners_on[base]}\", end = \" | \")\n",
    "        print(f\"{base - 1}B is occupied: {runners_on[base - 1]}\", end = \" | \")\n",
    "        print(f\"{base - 1}B is forced to: {bases_forced_to[base - 1]}\", end = \" | \")\n",
    "        print(f\"So, {base + 1}B is forced: {bases_forced_to[base + 1]} \")"
   ]
  },
  {
   "cell_type": "code",
   "execution_count": 171,
   "id": "5f34e3b0",
   "metadata": {},
   "outputs": [],
   "source": [
    "def set_forced_bases(runners_on):\n",
    "    \n",
    "    ## Initially define bases that a preceding runner is forced to\n",
    "    \n",
    "    bases_forced_to = {0: True, 1: True, 2: False, 3: False, 4: False}\n",
    "    \n",
    "    if runners_on[1]:\n",
    "        bases_forced_to[2] = True\n",
    "\n",
    "    #print_tracer_1( [1], runners_on, bases_forced_to)\n",
    "\n",
    "        \n",
    "    for base in [2, 3]:\n",
    "        if runners_on[base]:\n",
    "            if runners_on[base - 1]:\n",
    "                if bases_forced_to[base - 1]:\n",
    "                    bases_forced_to[base + 1] = True\n",
    "                    \n",
    "    #print_tracer_1( [2, 3], runners_on, bases_forced_to )\n",
    "                        \n",
    "    return bases_forced_to    "
   ]
  },
  {
   "cell_type": "markdown",
   "id": "dcc537c9",
   "metadata": {},
   "source": [
    "### Step 3.3 Assign an applicable forced base to each runner object "
   ]
  },
  {
   "cell_type": "code",
   "execution_count": 169,
   "id": "429c03f9",
   "metadata": {},
   "outputs": [],
   "source": [
    "def update_runner_bases(runners, bases_forced_to):\n",
    "    \n",
    "    for base in [2, 3, 4]: ## View as potential bases forced to\n",
    "        \n",
    "        if bases_forced_to[base]: ## If the potential is actually forced to\n",
    "            \n",
    "            for runner in runners: ## Find the runner occupying the preceding base and update their source of truth\n",
    "                \n",
    "                if runner.master_status['last_obtained'] == base - 1:\n",
    "\n",
    "                    #print(f\"\\n{runner.name} forced to {base}\\n\")\n",
    "                    \n",
    "                    runner.set_master_status_forced()\n",
    "    \n",
    "    return runners"
   ]
  },
  {
   "cell_type": "code",
   "execution_count": 188,
   "id": "16b13a70",
   "metadata": {},
   "outputs": [
    {
     "name": "stdout",
     "output_type": "stream",
     "text": [
      "\n",
      "\n",
      "*******\n",
      " Runners on:  {0: True, 1: 'Jack', 2: 'Isaac', 3: 'Josh'} \n",
      "\n",
      "*******\n",
      "\n"
     ]
    }
   ],
   "source": [
    "def set_forced(runners):\n",
    "    \n",
    "    #print_runners(runners) \n",
    "    #print(\"\\n\\n*******\\n\")\n",
    "\n",
    "    runners_on = unpack_runners_on(runners)\n",
    "\n",
    "    print(\"\\n\\n*******\\n\", \"Runners on: \", runners_on, \"\\n\\n*******\\n\")\n",
    "    \n",
    "    bases_forced_to = set_forced_bases(runners_on)\n",
    "\n",
    "    \n",
    "    runners = update_runner_bases(runners, bases_forced_to)\n",
    "    \n",
    "    #print(\"\\nBases forced to: \", bases_forced_to)\n",
    "    #print(\"\\n*******\")\n",
    "\n",
    "    #print_runners(runners) \n",
    "    \n",
    "    \n",
    "runners = make_runners()\n",
    "\n",
    "set_forced(runners)"
   ]
  },
  {
   "cell_type": "markdown",
   "id": "9f4c256a",
   "metadata": {},
   "source": [
    "### Does it work if I remove the force?\n",
    "- No, not as is... because I remove the 'last obtained' "
   ]
  },
  {
   "cell_type": "code",
   "execution_count": 189,
   "id": "05fb6427",
   "metadata": {},
   "outputs": [
    {
     "name": "stdout",
     "output_type": "stream",
     "text": [
      "Isaac: 1B: preceding_obtainable  | 2B: last_obtained  | 3B: next_obtainable  | 4B: None  | \n",
      "Jack: 1B: last_obtained  | 2B: next_obtainable  | 3B: None  | 4B: None  | \n",
      "Josh: 1B: None  | 2B: preceding_obtainable  | 3B: last_obtained  | 4B: next_obtainable  | \n",
      "Romo: 1B: next_obtainable  | 2B: None  | 3B: None  | 4B: None  | \n",
      "\n",
      "\n",
      "*******\n",
      " Runners on:  {0: True, 1: 'Jack', 2: 'Isaac', 3: 'Josh'} \n",
      "\n",
      "*******\n",
      "\n",
      "\n",
      "\n",
      "\n",
      "Isaac: 1B: None  | 2B: None  | 3B: forced_to  | 4B: None  | \n",
      "Jack: 1B: None  | 2B: forced_to  | 3B: None  | 4B: None  | \n",
      "Josh: 1B: None  | 2B: None  | 3B: None  | 4B: forced_to  | \n",
      "Romo: 1B: next_obtainable  | 2B: None  | 3B: None  | 4B: None  | \n"
     ]
    }
   ],
   "source": [
    "runners = make_runners()\n",
    "\n",
    "for runner in runners:\n",
    "    runner.print_status()\n",
    "    print()\n",
    "\n",
    "set_forced(runners)\n",
    "\n",
    "print(\"\\n\\n\")\n",
    "\n",
    "for runner in runners:\n",
    "    runner.print_status()\n",
    "    print()"
   ]
  },
  {
   "cell_type": "code",
   "execution_count": null,
   "id": "d7c401d5",
   "metadata": {},
   "outputs": [],
   "source": []
  }
 ],
 "metadata": {
  "kernelspec": {
   "display_name": "Python 3 (ipykernel)",
   "language": "python",
   "name": "python3"
  },
  "language_info": {
   "codemirror_mode": {
    "name": "ipython",
    "version": 3
   },
   "file_extension": ".py",
   "mimetype": "text/x-python",
   "name": "python",
   "nbconvert_exporter": "python",
   "pygments_lexer": "ipython3",
   "version": "3.10.5"
  }
 },
 "nbformat": 4,
 "nbformat_minor": 5
}
