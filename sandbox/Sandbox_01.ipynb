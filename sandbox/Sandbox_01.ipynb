{
 "cells": [
  {
   "cell_type": "markdown",
   "id": "f41dea42",
   "metadata": {},
   "source": [
    "# Sandbox for 3B-C\n",
    "April 11, 2024"
   ]
  },
  {
   "cell_type": "markdown",
   "id": "89fbe35a",
   "metadata": {},
   "source": [
    "## Dict refresher"
   ]
  },
  {
   "cell_type": "code",
   "execution_count": 4,
   "id": "6007e579",
   "metadata": {},
   "outputs": [],
   "source": [
    "x_centre_line = 950"
   ]
  },
  {
   "cell_type": "code",
   "execution_count": 5,
   "id": "89c43c28",
   "metadata": {},
   "outputs": [],
   "source": [
    "boundaries = {\"lf_corner\": (103, 390), \"cf_wall\": (x_centre_line, 35), \"rf_corner\": (1780, 410), \"four_B_tip\": (x_centre_line, 1245)}"
   ]
  },
  {
   "cell_type": "code",
   "execution_count": 9,
   "id": "84378375",
   "metadata": {},
   "outputs": [
    {
     "data": {
      "text/plain": [
       "{'lf_corner': (103, 390),\n",
       " 'cf_wall': (950, 35),\n",
       " 'rf_corner': (1780, 410),\n",
       " 'four_B_tip': (950, 1245)}"
      ]
     },
     "execution_count": 9,
     "metadata": {},
     "output_type": "execute_result"
    }
   ],
   "source": [
    "boundaries"
   ]
  },
  {
   "cell_type": "code",
   "execution_count": 6,
   "id": "8596671b",
   "metadata": {},
   "outputs": [
    {
     "name": "stdout",
     "output_type": "stream",
     "text": [
      "lf_corner\n",
      "cf_wall\n",
      "rf_corner\n",
      "four_B_tip\n"
     ]
    }
   ],
   "source": [
    "for b in boundaries: \n",
    "    print(b)"
   ]
  },
  {
   "cell_type": "code",
   "execution_count": 12,
   "id": "d1730757",
   "metadata": {},
   "outputs": [
    {
     "data": {
      "text/plain": [
       "dict_items([('lf_corner', (103, 390)), ('cf_wall', (950, 35)), ('rf_corner', (1780, 410)), ('four_B_tip', (950, 1245))])"
      ]
     },
     "execution_count": 12,
     "metadata": {},
     "output_type": "execute_result"
    }
   ],
   "source": [
    "boundaries.items()"
   ]
  },
  {
   "cell_type": "code",
   "execution_count": 13,
   "id": "38e77dfc",
   "metadata": {},
   "outputs": [
    {
     "name": "stdout",
     "output_type": "stream",
     "text": [
      "('lf_corner', (103, 390))\n",
      "('cf_wall', (950, 35))\n",
      "('rf_corner', (1780, 410))\n",
      "('four_B_tip', (950, 1245))\n"
     ]
    }
   ],
   "source": [
    "for item in boundaries.items():\n",
    "    print(item)"
   ]
  },
  {
   "cell_type": "code",
   "execution_count": 15,
   "id": "e28c4769",
   "metadata": {},
   "outputs": [
    {
     "data": {
      "text/plain": [
       "(103, 390)"
      ]
     },
     "execution_count": 15,
     "metadata": {},
     "output_type": "execute_result"
    }
   ],
   "source": [
    "boundaries['lf_corner']"
   ]
  },
  {
   "cell_type": "code",
   "execution_count": 16,
   "id": "4e070683",
   "metadata": {},
   "outputs": [
    {
     "name": "stdout",
     "output_type": "stream",
     "text": [
      "(103, 390)\n",
      "(950, 35)\n",
      "(1780, 410)\n",
      "(950, 1245)\n"
     ]
    }
   ],
   "source": [
    "for value in boundaries.values():\n",
    "    print(value)"
   ]
  },
  {
   "cell_type": "code",
   "execution_count": 18,
   "id": "2263cd4a",
   "metadata": {},
   "outputs": [
    {
     "name": "stdout",
     "output_type": "stream",
     "text": [
      "lf_corner --> (103, 390)\n",
      "cf_wall --> (950, 35)\n",
      "rf_corner --> (1780, 410)\n",
      "four_B_tip --> (950, 1245)\n"
     ]
    }
   ],
   "source": [
    "for key, value in boundaries.items():\n",
    "    print(key, \"-->\", value)"
   ]
  },
  {
   "cell_type": "markdown",
   "id": "d28f61b2",
   "metadata": {},
   "source": [
    "### Remember how to compose a list with the same values"
   ]
  },
  {
   "cell_type": "code",
   "execution_count": 2,
   "id": "adfca29e",
   "metadata": {},
   "outputs": [
    {
     "data": {
      "text/plain": [
       "[False, False, False, False, False, False, False, False, False, False]"
      ]
     },
     "execution_count": 2,
     "metadata": {},
     "output_type": "execute_result"
    }
   ],
   "source": [
    "li = [False] * 10\n",
    "li"
   ]
  },
  {
   "cell_type": "code",
   "execution_count": 3,
   "id": "57f21e43",
   "metadata": {},
   "outputs": [
    {
     "name": "stdout",
     "output_type": "stream",
     "text": [
      "0 False\n",
      "1 False\n",
      "2 False\n",
      "3 False\n",
      "4 False\n",
      "5 False\n",
      "6 False\n",
      "7 False\n",
      "8 False\n",
      "9 False\n"
     ]
    }
   ],
   "source": [
    "for i, val in enumerate(li):\n",
    "    print(i, val)"
   ]
  },
  {
   "cell_type": "code",
   "execution_count": 4,
   "id": "292aecb7",
   "metadata": {},
   "outputs": [
    {
     "data": {
      "text/plain": [
       "[False, False, False, False, False, True, False, False, False, False]"
      ]
     },
     "execution_count": 4,
     "metadata": {},
     "output_type": "execute_result"
    }
   ],
   "source": [
    "li[5] = True\n",
    "li"
   ]
  },
  {
   "cell_type": "code",
   "execution_count": 5,
   "id": "7dc33f1f",
   "metadata": {},
   "outputs": [
    {
     "data": {
      "text/plain": [
       "['f1', 'f2', 'f3', 'f4', 'f5', 'f6', 'f7', 'f8', 'f9']"
      ]
     },
     "execution_count": 5,
     "metadata": {},
     "output_type": "execute_result"
    }
   ],
   "source": [
    "a = \"f1, f2, f3, f4, f5, f6, f7, f8, f9\"\n",
    "b = a.split(\", \")\n",
    "b"
   ]
  },
  {
   "cell_type": "code",
   "execution_count": 6,
   "id": "c2bb74b7",
   "metadata": {},
   "outputs": [
    {
     "data": {
      "text/plain": [
       "['f1', 'f2', 'f3', 'f4', 'f5', 'f6', 'f7', 'f8', 'f9']"
      ]
     },
     "execution_count": 6,
     "metadata": {},
     "output_type": "execute_result"
    }
   ],
   "source": [
    "a = \"f1, f2, f3, f4, f5, f6, f7, f8, f9\"\n",
    "b = a.split(\", \")\n",
    "b"
   ]
  },
  {
   "cell_type": "code",
   "execution_count": 7,
   "id": "b95de1de",
   "metadata": {},
   "outputs": [
    {
     "data": {
      "text/plain": [
       "('f1', 'f2', 'f3', 'f4', 'f5', 'f6', 'f7', 'f8', 'f9')"
      ]
     },
     "execution_count": 7,
     "metadata": {},
     "output_type": "execute_result"
    }
   ],
   "source": [
    "d = tuple(b)\n",
    "d"
   ]
  },
  {
   "cell_type": "code",
   "execution_count": 8,
   "id": "f2786eca",
   "metadata": {},
   "outputs": [
    {
     "data": {
      "text/plain": [
       "tuple"
      ]
     },
     "execution_count": 8,
     "metadata": {},
     "output_type": "execute_result"
    }
   ],
   "source": [
    "type(d)"
   ]
  },
  {
   "cell_type": "code",
   "execution_count": 10,
   "id": "3c0bc863",
   "metadata": {},
   "outputs": [
    {
     "name": "stdout",
     "output_type": "stream",
     "text": [
      "hello \n"
     ]
    }
   ],
   "source": [
    "a = [\"hello\", \"\"]\n",
    "print(a[0], str(a[1]))"
   ]
  },
  {
   "cell_type": "code",
   "execution_count": 11,
   "id": "e0fd621b",
   "metadata": {},
   "outputs": [
    {
     "data": {
      "text/plain": [
       "['hello', '']"
      ]
     },
     "execution_count": 11,
     "metadata": {},
     "output_type": "execute_result"
    }
   ],
   "source": [
    "a"
   ]
  },
  {
   "cell_type": "code",
   "execution_count": 12,
   "id": "9731784b",
   "metadata": {},
   "outputs": [
    {
     "data": {
      "text/plain": [
       "('hello', '')"
      ]
     },
     "execution_count": 12,
     "metadata": {},
     "output_type": "execute_result"
    }
   ],
   "source": [
    "b = tuple(a)\n",
    "b"
   ]
  },
  {
   "cell_type": "markdown",
   "id": "c43f0c38",
   "metadata": {},
   "source": [
    "# May 8"
   ]
  },
  {
   "cell_type": "code",
   "execution_count": 3,
   "id": "5f65f5ba",
   "metadata": {},
   "outputs": [],
   "source": [
    "launch_metrics = {\"launch_angle\": 0,\n",
    "                  \"launch_velo\": 0,\n",
    "                  \"launch_direction\": 0}"
   ]
  },
  {
   "cell_type": "code",
   "execution_count": 4,
   "id": "44b01ace",
   "metadata": {},
   "outputs": [
    {
     "name": "stdout",
     "output_type": "stream",
     "text": [
      "launch_angle 0\n",
      "launch_velo 0\n",
      "launch_direction 0\n"
     ]
    }
   ],
   "source": [
    "for k, v in launch_metrics.items():\n",
    "    print(k, v)"
   ]
  },
  {
   "cell_type": "markdown",
   "id": "22aaadb8",
   "metadata": {},
   "source": [
    "# May 10"
   ]
  },
  {
   "cell_type": "code",
   "execution_count": 1,
   "id": "bc6474c7",
   "metadata": {},
   "outputs": [
    {
     "data": {
      "text/plain": [
       "[1, 2, 3, 4, 5, 6, 7, 8, 9]"
      ]
     },
     "execution_count": 1,
     "metadata": {},
     "output_type": "execute_result"
    }
   ],
   "source": [
    "a = [x for x in range(1, 10)]\n",
    "a"
   ]
  },
  {
   "cell_type": "code",
   "execution_count": 2,
   "id": "0a65e43b",
   "metadata": {},
   "outputs": [
    {
     "data": {
      "text/plain": [
       "(21, 31, 41)"
      ]
     },
     "execution_count": 2,
     "metadata": {},
     "output_type": "execute_result"
    }
   ],
   "source": [
    "a = (21, 31, 41)\n",
    "a"
   ]
  },
  {
   "cell_type": "code",
   "execution_count": 3,
   "id": "be3a7fdf",
   "metadata": {},
   "outputs": [
    {
     "data": {
      "text/plain": [
       "(21, 31)"
      ]
     },
     "execution_count": 3,
     "metadata": {},
     "output_type": "execute_result"
    }
   ],
   "source": [
    "a[:2]"
   ]
  },
  {
   "cell_type": "markdown",
   "id": "f6253c27",
   "metadata": {},
   "source": [
    "# May 11"
   ]
  },
  {
   "cell_type": "code",
   "execution_count": 4,
   "id": "c4602397",
   "metadata": {},
   "outputs": [],
   "source": [
    "li1 = [\"Nobody on, single to LF\", 100, 101, 102, 107, 104, 109, 1, 2, 115]\n",
    "li2 = [\"R2, single to RF\", 116, 111, 118, 112, 104, 105, 121, 2, 1]"
   ]
  },
  {
   "cell_type": "code",
   "execution_count": 5,
   "id": "2c59f64d",
   "metadata": {},
   "outputs": [
    {
     "data": {
      "text/plain": [
       "7"
      ]
     },
     "execution_count": 5,
     "metadata": {},
     "output_type": "execute_result"
    }
   ],
   "source": [
    "li1.index(1)"
   ]
  },
  {
   "cell_type": "code",
   "execution_count": 6,
   "id": "c2f47cc6",
   "metadata": {},
   "outputs": [
    {
     "data": {
      "text/plain": [
       "9"
      ]
     },
     "execution_count": 6,
     "metadata": {},
     "output_type": "execute_result"
    }
   ],
   "source": [
    "li2.index(1)"
   ]
  },
  {
   "cell_type": "markdown",
   "id": "e3f820fe",
   "metadata": {},
   "source": [
    "### Check type"
   ]
  },
  {
   "cell_type": "code",
   "execution_count": 7,
   "id": "799da6b7",
   "metadata": {},
   "outputs": [],
   "source": [
    "a = \"hi\"\n",
    "b = 21"
   ]
  },
  {
   "cell_type": "code",
   "execution_count": 8,
   "id": "91a3becc",
   "metadata": {},
   "outputs": [
    {
     "data": {
      "text/plain": [
       "True"
      ]
     },
     "execution_count": 8,
     "metadata": {},
     "output_type": "execute_result"
    }
   ],
   "source": [
    "isinstance(a, str)"
   ]
  },
  {
   "cell_type": "code",
   "execution_count": 9,
   "id": "e8f35213",
   "metadata": {},
   "outputs": [
    {
     "data": {
      "text/plain": [
       "False"
      ]
     },
     "execution_count": 9,
     "metadata": {},
     "output_type": "execute_result"
    }
   ],
   "source": [
    "isinstance(a, int)"
   ]
  },
  {
   "cell_type": "code",
   "execution_count": 10,
   "id": "70067b74",
   "metadata": {},
   "outputs": [
    {
     "data": {
      "text/plain": [
       "True"
      ]
     },
     "execution_count": 10,
     "metadata": {},
     "output_type": "execute_result"
    }
   ],
   "source": [
    "isinstance(b, int)"
   ]
  },
  {
   "cell_type": "markdown",
   "id": "fbd508d8",
   "metadata": {},
   "source": [
    "### base_attained"
   ]
  },
  {
   "cell_type": "code",
   "execution_count": 11,
   "id": "9e1cdd75",
   "metadata": {},
   "outputs": [],
   "source": [
    "base_attained = False"
   ]
  },
  {
   "cell_type": "code",
   "execution_count": 16,
   "id": "b85e66c4",
   "metadata": {},
   "outputs": [
    {
     "name": "stdout",
     "output_type": "stream",
     "text": [
      "hi 23809839\n"
     ]
    }
   ],
   "source": [
    "if base_attained:\n",
    "    print(\"hi\", base_attained)"
   ]
  },
  {
   "cell_type": "code",
   "execution_count": 15,
   "id": "548b24a4",
   "metadata": {},
   "outputs": [],
   "source": [
    "base_attained = 23809839"
   ]
  },
  {
   "cell_type": "code",
   "execution_count": 17,
   "id": "aa73f8d7",
   "metadata": {},
   "outputs": [],
   "source": [
    "x = None\n",
    "y = 6\n",
    "\n",
    "def tst(z):\n",
    "    if z:\n",
    "        print(\"Yo yo\")"
   ]
  },
  {
   "cell_type": "code",
   "execution_count": 18,
   "id": "85908d1e",
   "metadata": {},
   "outputs": [
    {
     "name": "stdout",
     "output_type": "stream",
     "text": [
      "Yo yo\n"
     ]
    }
   ],
   "source": [
    "tst(y)"
   ]
  },
  {
   "cell_type": "code",
   "execution_count": 19,
   "id": "92478a24",
   "metadata": {},
   "outputs": [],
   "source": [
    "tst(x)"
   ]
  },
  {
   "cell_type": "code",
   "execution_count": 21,
   "id": "63cbe1ee",
   "metadata": {},
   "outputs": [
    {
     "name": "stdout",
     "output_type": "stream",
     "text": [
      "Nothing\n"
     ]
    }
   ],
   "source": [
    "base_attained = 0\n",
    "\n",
    "if base_attained:\n",
    "    print(\"hi\")\n",
    "else:\n",
    "    print(\"Nothing\")"
   ]
  },
  {
   "cell_type": "markdown",
   "id": "133388a4",
   "metadata": {},
   "source": [
    "# May 12"
   ]
  },
  {
   "cell_type": "code",
   "execution_count": 22,
   "id": "9932e0ba",
   "metadata": {},
   "outputs": [],
   "source": [
    "class Fielder:\n",
    "    def __init__(self, id):\n",
    "        self.id = id\n",
    "    \n",
    "    def print_id(self):\n",
    "        print(self.id)"
   ]
  },
  {
   "cell_type": "code",
   "execution_count": 23,
   "id": "0d0f12ce",
   "metadata": {},
   "outputs": [],
   "source": [
    "fielders = {}\n",
    "\n",
    "for i in range(1, 10):\n",
    "    new_fielder = Fielder(i)\n",
    "    fielders[i] = new_fielder"
   ]
  },
  {
   "cell_type": "code",
   "execution_count": 24,
   "id": "8cbff4df",
   "metadata": {},
   "outputs": [
    {
     "data": {
      "text/plain": [
       "{1: <__main__.Fielder at 0x1b3a49f0220>,\n",
       " 2: <__main__.Fielder at 0x1b3a49f3d00>,\n",
       " 3: <__main__.Fielder at 0x1b3a49a44c0>,\n",
       " 4: <__main__.Fielder at 0x1b3a49a7130>,\n",
       " 5: <__main__.Fielder at 0x1b3a49a7400>,\n",
       " 6: <__main__.Fielder at 0x1b3a4871450>,\n",
       " 7: <__main__.Fielder at 0x1b3a4870b80>,\n",
       " 8: <__main__.Fielder at 0x1b3a4872080>,\n",
       " 9: <__main__.Fielder at 0x1b3a4873310>}"
      ]
     },
     "execution_count": 24,
     "metadata": {},
     "output_type": "execute_result"
    }
   ],
   "source": [
    "fielders"
   ]
  },
  {
   "cell_type": "markdown",
   "id": "53c8d5d2",
   "metadata": {},
   "source": [
    "# May 13"
   ]
  },
  {
   "cell_type": "code",
   "execution_count": 25,
   "id": "f4f5b4b9",
   "metadata": {},
   "outputs": [],
   "source": [
    "dict = {1: 1000, 2: 2000, 3: 3000, 4: 4000}"
   ]
  },
  {
   "cell_type": "code",
   "execution_count": 26,
   "id": "5a37670c",
   "metadata": {},
   "outputs": [
    {
     "name": "stdout",
     "output_type": "stream",
     "text": [
      "1\n",
      "2\n",
      "3\n",
      "4\n"
     ]
    }
   ],
   "source": [
    "for key in dict:\n",
    "    print(key)"
   ]
  },
  {
   "cell_type": "code",
   "execution_count": 38,
   "id": "07a1510f",
   "metadata": {},
   "outputs": [
    {
     "name": "stdout",
     "output_type": "stream",
     "text": [
      "1 1000\n",
      "\n",
      "2 2000\n",
      "\n",
      "3 3000\n",
      "\n",
      "4 4000\n",
      "\n"
     ]
    }
   ],
   "source": [
    "for k, v in dict.items():\n",
    "    print(k, v)\n",
    "    print()"
   ]
  },
  {
   "cell_type": "markdown",
   "id": "db82b74d",
   "metadata": {},
   "source": [
    "# May 16"
   ]
  },
  {
   "cell_type": "code",
   "execution_count": 2,
   "id": "1c823400",
   "metadata": {},
   "outputs": [
    {
     "name": "stdout",
     "output_type": "stream",
     "text": [
      "No\n"
     ]
    }
   ],
   "source": [
    "a = [1, 2, 3, 4, 5]\n",
    "\n",
    "if 3 not in a:\n",
    "    print(\"yes\")\n",
    "else:\n",
    "    print(\"No\")"
   ]
  },
  {
   "cell_type": "markdown",
   "id": "3e55f6f5",
   "metadata": {},
   "source": [
    "## May 19"
   ]
  },
  {
   "cell_type": "code",
   "execution_count": 5,
   "id": "f8a07dda",
   "metadata": {},
   "outputs": [
    {
     "name": "stdout",
     "output_type": "stream",
     "text": [
      "Hi\n"
     ]
    }
   ],
   "source": [
    "a = 'yo'\n",
    "b = 54\n",
    "\n",
    "if type(b) == int: #str\n",
    "    print('Hi')"
   ]
  },
  {
   "cell_type": "code",
   "execution_count": 6,
   "id": "8617dc1a",
   "metadata": {},
   "outputs": [
    {
     "data": {
      "text/plain": [
       "['a', 'b', 'c', 'd', 'e']"
      ]
     },
     "execution_count": 6,
     "metadata": {},
     "output_type": "execute_result"
    }
   ],
   "source": [
    "a = list('abcdefghijklmnopqrstuvwxyz')\n",
    "a[:5]"
   ]
  },
  {
   "cell_type": "code",
   "execution_count": 9,
   "id": "b488f1cb",
   "metadata": {},
   "outputs": [
    {
     "data": {
      "text/plain": [
       "{97: 'a',\n",
       " 98: 'b',\n",
       " 99: 'c',\n",
       " 100: 'd',\n",
       " 101: 'e',\n",
       " 102: 'f',\n",
       " 103: 'g',\n",
       " 104: 'h',\n",
       " 105: 'i',\n",
       " 106: 'j',\n",
       " 107: 'k',\n",
       " 108: 'l',\n",
       " 109: 'm',\n",
       " 110: 'n',\n",
       " 111: 'o',\n",
       " 112: 'p',\n",
       " 113: 'q',\n",
       " 114: 'r',\n",
       " 115: 's',\n",
       " 116: 't',\n",
       " 117: 'u',\n",
       " 118: 'v',\n",
       " 119: 'w',\n",
       " 120: 'x',\n",
       " 121: 'y',\n",
       " 122: 'z'}"
      ]
     },
     "execution_count": 9,
     "metadata": {},
     "output_type": "execute_result"
    }
   ],
   "source": [
    "dict = {}\n",
    "\n",
    "for i in range(1, 27):\n",
    "    pygame_chr = i + 96\n",
    "    dict[pygame_chr] = a[i - 1]\n",
    "    \n",
    "dict"
   ]
  },
  {
   "cell_type": "code",
   "execution_count": 10,
   "id": "921f3f5c",
   "metadata": {},
   "outputs": [
    {
     "name": "stdout",
     "output_type": "stream",
     "text": [
      "1 Isaac\n",
      "2 Jack\n"
     ]
    }
   ],
   "source": [
    "b = {1: 'Isaac', 2: 'Jack'}\n",
    "\n",
    "for i in range(5):\n",
    "    if i in b:\n",
    "        print(i, b[i])"
   ]
  },
  {
   "cell_type": "code",
   "execution_count": 11,
   "id": "c61cb9b0",
   "metadata": {},
   "outputs": [],
   "source": [
    "c = []\n",
    "\n",
    "if c:\n",
    "    print('hi')"
   ]
  },
  {
   "cell_type": "markdown",
   "id": "f0aa7c62",
   "metadata": {},
   "source": [
    "## May 20"
   ]
  },
  {
   "cell_type": "markdown",
   "id": "965aba10",
   "metadata": {},
   "source": [
    "### join()"
   ]
  },
  {
   "cell_type": "code",
   "execution_count": 13,
   "id": "2848ab9b",
   "metadata": {},
   "outputs": [
    {
     "data": {
      "text/plain": [
       "['i', 'j', 'd']"
      ]
     },
     "execution_count": 13,
     "metadata": {},
     "output_type": "execute_result"
    }
   ],
   "source": [
    "d = list('ijd')\n",
    "d"
   ]
  },
  {
   "cell_type": "code",
   "execution_count": 14,
   "id": "0d8f7007",
   "metadata": {},
   "outputs": [
    {
     "data": {
      "text/plain": [
       "'i j d'"
      ]
     },
     "execution_count": 14,
     "metadata": {},
     "output_type": "execute_result"
    }
   ],
   "source": [
    "\" \".join(d)"
   ]
  },
  {
   "cell_type": "markdown",
   "id": "007e3e29",
   "metadata": {},
   "source": [
    "### Sort a list in reverse"
   ]
  },
  {
   "cell_type": "code",
   "execution_count": 20,
   "id": "1c5772df",
   "metadata": {},
   "outputs": [
    {
     "data": {
      "text/plain": [
       "[5, 3, 3, 2, 1]"
      ]
     },
     "execution_count": 20,
     "metadata": {},
     "output_type": "execute_result"
    }
   ],
   "source": [
    "a = [3, 2, 5, 1, 3]\n",
    "a.sort(reverse = True)\n",
    "a"
   ]
  },
  {
   "cell_type": "code",
   "execution_count": 21,
   "id": "f5b9f37f",
   "metadata": {},
   "outputs": [
    {
     "data": {
      "text/plain": [
       "[5, 3, 3, 2, 1]"
      ]
     },
     "execution_count": 21,
     "metadata": {},
     "output_type": "execute_result"
    }
   ],
   "source": [
    "a"
   ]
  },
  {
   "cell_type": "markdown",
   "id": "259bfc02",
   "metadata": {},
   "source": [
    "### Remove item from dict by key"
   ]
  },
  {
   "cell_type": "code",
   "execution_count": 22,
   "id": "0ad2220a",
   "metadata": {},
   "outputs": [
    {
     "data": {
      "text/plain": [
       "{1: 'Isaac', 2: 'Jack'}"
      ]
     },
     "execution_count": 22,
     "metadata": {},
     "output_type": "execute_result"
    }
   ],
   "source": [
    "b"
   ]
  },
  {
   "cell_type": "code",
   "execution_count": 25,
   "id": "4eb12d7a",
   "metadata": {},
   "outputs": [
    {
     "data": {
      "text/plain": [
       "{1: 'Isaac'}"
      ]
     },
     "execution_count": 25,
     "metadata": {},
     "output_type": "execute_result"
    }
   ],
   "source": [
    "del b[2]\n",
    "b"
   ]
  },
  {
   "cell_type": "code",
   "execution_count": 27,
   "id": "f777f862",
   "metadata": {},
   "outputs": [
    {
     "data": {
      "text/plain": [
       "{1: 'Isaac', 2: 'Jack'}"
      ]
     },
     "execution_count": 27,
     "metadata": {},
     "output_type": "execute_result"
    }
   ],
   "source": [
    "b = {1: 'Isaac', 2: 'Jack'}\n",
    "b"
   ]
  },
  {
   "cell_type": "markdown",
   "id": "ab22b1a6",
   "metadata": {},
   "source": [
    "## May 22\n",
    "Can a key call of a dict handle keys of different types?"
   ]
  },
  {
   "cell_type": "code",
   "execution_count": 28,
   "id": "1caa49be",
   "metadata": {},
   "outputs": [],
   "source": [
    "dict = {'a': 1, 'b': 1, 2000: 'year'}"
   ]
  },
  {
   "cell_type": "code",
   "execution_count": 29,
   "id": "387c758e",
   "metadata": {},
   "outputs": [
    {
     "data": {
      "text/plain": [
       "1"
      ]
     },
     "execution_count": 29,
     "metadata": {},
     "output_type": "execute_result"
    }
   ],
   "source": [
    "dict['a']"
   ]
  },
  {
   "cell_type": "code",
   "execution_count": 30,
   "id": "4d55e893",
   "metadata": {},
   "outputs": [
    {
     "data": {
      "text/plain": [
       "'year'"
      ]
     },
     "execution_count": 30,
     "metadata": {},
     "output_type": "execute_result"
    }
   ],
   "source": [
    "dict[2000]"
   ]
  },
  {
   "cell_type": "markdown",
   "id": "6bc1bbd9",
   "metadata": {},
   "source": [
    "## June 7"
   ]
  },
  {
   "cell_type": "code",
   "execution_count": 1,
   "id": "c3e64ec1",
   "metadata": {},
   "outputs": [
    {
     "data": {
      "text/plain": [
       "2"
      ]
     },
     "execution_count": 1,
     "metadata": {},
     "output_type": "execute_result"
    }
   ],
   "source": [
    "int(2.3)"
   ]
  },
  {
   "cell_type": "code",
   "execution_count": 5,
   "id": "18caf627",
   "metadata": {},
   "outputs": [
    {
     "data": {
      "text/plain": [
       "22.0"
      ]
     },
     "execution_count": 5,
     "metadata": {},
     "output_type": "execute_result"
    }
   ],
   "source": [
    "round(22.3, 0)"
   ]
  },
  {
   "cell_type": "code",
   "execution_count": null,
   "id": "17685316",
   "metadata": {},
   "outputs": [],
   "source": []
  }
 ],
 "metadata": {
  "kernelspec": {
   "display_name": "Python 3 (ipykernel)",
   "language": "python",
   "name": "python3"
  },
  "language_info": {
   "codemirror_mode": {
    "name": "ipython",
    "version": 3
   },
   "file_extension": ".py",
   "mimetype": "text/x-python",
   "name": "python",
   "nbconvert_exporter": "python",
   "pygments_lexer": "ipython3",
   "version": "3.10.5"
  }
 },
 "nbformat": 4,
 "nbformat_minor": 5
}
