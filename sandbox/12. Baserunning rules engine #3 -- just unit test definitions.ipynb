{
 "cells": [
  {
   "cell_type": "markdown",
   "id": "e7da8030",
   "metadata": {},
   "source": [
    "# Baseball rules engine III\n",
    "\n",
    "May 18, 2024"
   ]
  },
  {
   "cell_type": "markdown",
   "id": "bc9d9027",
   "metadata": {},
   "source": [
    "## Baseball unit tests\n",
    "### At contact -- GB\n",
    "- R1 is forced to 2B\n",
    "- R1 + R2 > R1 is forced to 2B | R2 is forced to 3B\n",
    "- R1 + R3 > R1 is forced to 2B\n",
    "\n",
    "### Removal of force mid-play\n",
    "\n",
    "At contact, R1 is forced to 2B and has no right to 1B:\n",
    "- UPDATE: R0 becomes out on a dribbler, doesn't run, R2 tags \n",
    "- NOW: R1 is not forced to any base, and has a right to 2B and 1B\n",
    "\n",
    "### Obtain another base mid-play\n",
    "\n",
    "R2 only -- at contact, R2 has a right to 1B, 2B or 3B:\n",
    "- UPDATE: R2 occupies 3B\n",
    "- NOW, R2 has a right to 2B, 3B, 4B\n",
    "\n",
    "R2 only -- at contact, R2 has a right to 1B, 2B or 3B:\n",
    "- UPDATE: R2 occupies 3B, Batter-runner occupies 2B\n",
    "- NOW, R2 has a right to 3B and 4B only\n",
    "\n",
    "R1 only -- at contact R1 is forced to 2B and has no right to 1B:\n",
    "- UPDATE: R1 occupies 2B, Batter-runner becomes out\n",
    "- NOW: R1 regains the right to 1B\n",
    "\n",
    "\n",
    "### Fly ball / tagging-up\n",
    "#### Situation 1: R1 only -- caught FB\n",
    "- Before the pitch:\n",
    "    - R1 has the right to 1B, 2B \n",
    "- At contact, before the ball is caught or bounces/rolls:\n",
    "    - R1 loses all rights, is forced to 1B\n",
    "- Once the ball is caught AND R1 tags 1B:\n",
    "    - R1's force to 1B is removed\n",
    "    - R1 gains the right to 1B and 2B\n",
    "\n",
    "#### Situation 2: R1 only -- dropped FB\n",
    "- Before the pitch: same\n",
    "- At contact, before the ball is caught or bounces/rolls: same\n",
    "- Once the ball is dropped:\n",
    "    - R1's force to 1B is removed\n",
    "    - R1 acquires a force to 2B\n",
    "\n",
    "#### Situation 3: R2 only -- caught FB\n",
    "- Before the pitch:\n",
    "    - R2 has the right to 1B, 2B, 3B \n",
    "- At contact, before the ball is caught or bounces/rolls:\n",
    "    - R2 loses all rights, is forced to 2B\n",
    "- Once the ball is caught AND R2 tags 2B:\n",
    "    - R2's force to 2B is removed\n",
    "    - R2 gains the right to 1B, 2B, 3B\n",
    "    \n",
    "    \n",
    "#### Situation 4: R2 only -- dropped FB\n",
    "- Before the pitch: same\n",
    "- At contact, before the ball is caught or bounces/rolls: same\n",
    "- R0 obtains 1B \n",
    "- Once the ball is dropped:\n",
    "    - R2's force to 2B is removed\n",
    "    - R2 gains the right to 2B, 3B"
   ]
  },
  {
   "cell_type": "code",
   "execution_count": null,
   "id": "70f655aa",
   "metadata": {},
   "outputs": [],
   "source": []
  }
 ],
 "metadata": {
  "kernelspec": {
   "display_name": "Python 3 (ipykernel)",
   "language": "python",
   "name": "python3"
  },
  "language_info": {
   "codemirror_mode": {
    "name": "ipython",
    "version": 3
   },
   "file_extension": ".py",
   "mimetype": "text/x-python",
   "name": "python",
   "nbconvert_exporter": "python",
   "pygments_lexer": "ipython3",
   "version": "3.10.5"
  }
 },
 "nbformat": 4,
 "nbformat_minor": 5
}
