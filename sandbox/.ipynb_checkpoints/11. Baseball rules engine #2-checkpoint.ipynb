{
 "cells": [
  {
   "cell_type": "markdown",
   "id": "ea5c7dfb",
   "metadata": {},
   "source": [
    "# Baseball rules engine II\n",
    "\n",
    "May 17, 2024"
   ]
  },
  {
   "cell_type": "markdown",
   "id": "8790da5b",
   "metadata": {},
   "source": [
    "I just want to clean up what I did this morning"
   ]
  },
  {
   "cell_type": "markdown",
   "id": "f81f06e6",
   "metadata": {},
   "source": [
    "## Baseball unit tests:\n",
    "At contact: \n",
    "- R1 is forced to 2B\n",
    "- R1 + R2 > R1 is forced to 2B | R2 is forced to 3B\n",
    "- R1 + R3 > R1 is forced to 2B\n",
    "\n",
    "On a Fly ball:\n",
    "- No bases may be occupied except the last occupied base\n",
    "- All runners must tag up at their last occupied base after the ball is caught, and this requirement is liften when they do "
   ]
  },
  {
   "cell_type": "markdown",
   "id": "b91526d0",
   "metadata": {},
   "source": [
    "## 1. Make the baserunner class"
   ]
  },
  {
   "cell_type": "code",
   "execution_count": 173,
   "id": "30359bf1",
   "metadata": {},
   "outputs": [],
   "source": [
    "class Baserunner:\n",
    "    \n",
    "    def __init__(self, name, curr_base = 0):\n",
    "        \n",
    "        self.name = name\n",
    "        self.forced_status = False\n",
    "        \n",
    "        self.master_status = {'last_obtained': curr_base, 'next_obtainable': None, \n",
    "                              'preceding_obtainable': None, 'forced_to': None \n",
    "                             } \n",
    "        \n",
    "        \n",
    "    def set_master_status_unforced(self):\n",
    "        curr = self.master_status['last_obtained']\n",
    "        \n",
    "        self.master_status['next_obtainable'] = curr + 1\n",
    "        self.master_status['preceding_obtainable'] = curr -1\n",
    "    \n",
    "    \n",
    "    def set_master_status_forced(self):\n",
    "        self.master_status['forced_to'] = self.master_status['last_obtained'] + 1\n",
    "        self.master_status['last_obtained'] = None\n",
    "        self.master_status['preceding_obtainable'] = None\n",
    "\n",
    "        \n",
    "    def get_base_view(self):\n",
    "        base_view = {1: None, 2: None, 3: None, 4: None}\n",
    "        \n",
    "        for base in range(1, 5):\n",
    "            for key, value in self.master_status():\n",
    "                if value == base:\n",
    "                    base_view[base] = value\n",
    "\n",
    "       \n",
    "        \"\"\"\n",
    "        for key, value in self.master_status.items():\n",
    "            for base in range(1, 4):\n",
    "                if base == value:\n",
    "                    base_view[base] = key\n",
    "        \"\"\"\n",
    "        \n",
    "        return base_view\n",
    "                 \n",
    "        \n",
    "    def print_status(self):\n",
    "        \n",
    "        base_view = self.get_base_view()\n",
    "        \n",
    "        print(f\"{self.name}: \", end = \"\")\n",
    "        \n",
    "        for base, status in base_view.items():\n",
    "            print(f\"{base}B: {status} \", end = \" | \")"
   ]
  },
  {
   "cell_type": "markdown",
   "id": "44b10839",
   "metadata": {},
   "source": [
    "## 2. Instantiate 4 runners"
   ]
  },
  {
   "cell_type": "code",
   "execution_count": 166,
   "id": "f928f861",
   "metadata": {},
   "outputs": [],
   "source": [
    "def make_runners():\n",
    "    dudes = {'Isaac': 2, 'Jack': 1, 'Josh': 3, 'Romo': 0}\n",
    "    \n",
    "    runners = []\n",
    "    \n",
    "    for name, base in dudes.items():\n",
    "        runner = Baserunner(name, base)\n",
    "        runner.set_master_status_unforced()\n",
    "        \n",
    "        runners.append(runner)\n",
    "        \n",
    "    return runners"
   ]
  },
  {
   "cell_type": "code",
   "execution_count": 27,
   "id": "ee0a55c9",
   "metadata": {},
   "outputs": [],
   "source": [
    "def print_runners(runners):\n",
    "    \n",
    "    for runner in runners:\n",
    "        print(f\"\\n{runner.name}: | \", end = \"\")\n",
    "        \n",
    "        for key, value in runner.master_status.items():\n",
    "            print(f\"{key}: {value}\", end = \" | \")"
   ]
  },
  {
   "cell_type": "code",
   "execution_count": 34,
   "id": "a60adf22",
   "metadata": {},
   "outputs": [
    {
     "name": "stdout",
     "output_type": "stream",
     "text": [
      "\n",
      "Isaac: | last_obtained: 2 | next_obtainable: 3 | preceding_obtainable: 1 | \n",
      "Jack: | last_obtained: 1 | next_obtainable: 2 | preceding_obtainable: 0 | \n",
      "Josh: | last_obtained: 0 | next_obtainable: 1 | preceding_obtainable: -1 | \n",
      "Romo: | last_obtained: 0 | next_obtainable: 1 | preceding_obtainable: -1 | "
     ]
    }
   ],
   "source": [
    "runners = make_runners()\n",
    "\n",
    "print_runners(runners)"
   ]
  },
  {
   "cell_type": "markdown",
   "id": "3a569b83",
   "metadata": {},
   "source": [
    "## 3. Review all runners to determine who is forced\n",
    "\n",
    "#### Define terms \n",
    "\n",
    "Runner R is forced to base \"B + 1\" if:\n",
    "- R occupies B, and\n",
    "- B-1 is occupied, and\n",
    "- B-1 is forced"
   ]
  },
  {
   "cell_type": "markdown",
   "id": "c83ca3f6",
   "metadata": {},
   "source": [
    "### Step 3.1 -- unpack bases occupied\n",
    "- For this rules engine, I want to have a single source of truth (SSoT), and then unpack from that as needed.\n",
    "- Here, the SSoT for which runners occupy which base is the runner objects.  "
   ]
  },
  {
   "cell_type": "code",
   "execution_count": 77,
   "id": "3b962b40",
   "metadata": {},
   "outputs": [],
   "source": [
    "def unpack_runners_on(runners):\n",
    "\n",
    "    bases = {0: True, 1: False, 2: False, 3: False}\n",
    "    \n",
    "    for runner in runners:\n",
    "        \n",
    "        R = runner.master_status['last_obtained']\n",
    "        \n",
    "        if R in [1, 2, 3]:\n",
    "            bases[R] = runner.name\n",
    "            \n",
    "    return bases"
   ]
  },
  {
   "cell_type": "markdown",
   "id": "59d96457",
   "metadata": {},
   "source": [
    "### Step 3.2 Determine which bases are forced\n",
    "- Go in order from 1B\n",
    "- R1 is always forced\n",
    "- R2 is forced to 3B if:\n",
    "    - R2 occupies 2B, and\n",
    "    - 1B is occupied, and\n",
    "    - 1B is forced\n",
    "- R3 is forced ... in a similar way"
   ]
  },
  {
   "cell_type": "code",
   "execution_count": 113,
   "id": "1ba62781",
   "metadata": {},
   "outputs": [],
   "source": [
    "def print_tracer_1(bases, runners_on, bases_forced_to):\n",
    "    \n",
    "    for base in bases:\n",
    "        print(f\"Runner on {base}B: {runners_on[base]}\", end = \" | \")\n",
    "        print(f\"{base - 1}B is occupied: {runners_on[base - 1]}\", end = \" | \")\n",
    "        print(f\"{base - 1}B is forced to: {bases_forced_to[base - 1]}\", end = \" | \")\n",
    "        print(f\"So, {base + 1}B is forced: {bases_forced_to[base + 1]} \")"
   ]
  },
  {
   "cell_type": "code",
   "execution_count": 171,
   "id": "84996aec",
   "metadata": {},
   "outputs": [],
   "source": [
    "def set_forced_bases(runners_on):\n",
    "    \n",
    "    ## Initially define bases that a preceding runner is forced to\n",
    "    \n",
    "    bases_forced_to = {0: True, 1: True, 2: False, 3: False, 4: False}\n",
    "    \n",
    "    if runners_on[1]:\n",
    "        bases_forced_to[2] = True\n",
    "\n",
    "    #print_tracer_1( [1], runners_on, bases_forced_to)\n",
    "\n",
    "        \n",
    "    for base in [2, 3]:\n",
    "        if runners_on[base]:\n",
    "            if runners_on[base - 1]:\n",
    "                if bases_forced_to[base - 1]:\n",
    "                    bases_forced_to[base + 1] = True\n",
    "                    \n",
    "    #print_tracer_1( [2, 3], runners_on, bases_forced_to )\n",
    "                        \n",
    "    return bases_forced_to    "
   ]
  },
  {
   "cell_type": "markdown",
   "id": "68743db1",
   "metadata": {},
   "source": [
    "### Step 3.3 Assign an applicable forced base to each runner object "
   ]
  },
  {
   "cell_type": "code",
   "execution_count": 169,
   "id": "ef8b4c71",
   "metadata": {},
   "outputs": [],
   "source": [
    "def update_runner_bases(runners, bases_forced_to):\n",
    "    \n",
    "    for base in [2, 3, 4]: ## View as potential bases forced to\n",
    "        \n",
    "        if bases_forced_to[base]: ## If the potential is actually forced to\n",
    "            \n",
    "            for runner in runners: ## Find the runner occupying the preceding base and update their source of truth\n",
    "                \n",
    "                if runner.master_status['last_obtained'] == base - 1:\n",
    "\n",
    "                    #print(f\"\\n{runner.name} forced to {base}\\n\")\n",
    "                    \n",
    "                    runner.set_master_status_forced()\n",
    "    \n",
    "    return runners"
   ]
  },
  {
   "cell_type": "code",
   "execution_count": 176,
   "id": "6a7b21ad",
   "metadata": {},
   "outputs": [],
   "source": [
    "def set_forced(runners):\n",
    "    \n",
    "    #print_runners(runners) \n",
    "    #print(\"\\n\\n*******\\n\")\n",
    "\n",
    "    runners_on = unpack_runners_on(runners)\n",
    "\n",
    "    #print(\"Runners on: \", runners_on, \"\\n\\n*******\\n\")\n",
    "    \n",
    "    bases_forced_to = set_forced_bases(runners_on)\n",
    "\n",
    "    \n",
    "    runners = update_runner_bases(runners, bases_forced_to)\n",
    "    \n",
    "    #print(\"\\nBases forced to: \", bases_forced_to)\n",
    "    #print(\"\\n*******\")\n",
    "\n",
    "    #print_runners(runners) \n",
    "    \n",
    "    \n",
    "runners = make_runners()\n",
    "\n",
    "set_forced(runners)"
   ]
  },
  {
   "cell_type": "markdown",
   "id": "cf4788fe",
   "metadata": {},
   "source": [
    "### Does it work if I remove the force?\n",
    "- No, not as is... because I remove the 'last obtained' "
   ]
  },
  {
   "cell_type": "code",
   "execution_count": 179,
   "id": "90b417a9",
   "metadata": {},
   "outputs": [
    {
     "name": "stdout",
     "output_type": "stream",
     "text": [
      "Isaac: 2B: last_obtained  | 3B: next_obtainable  | 1B: preceding_obtainable  | \n",
      "Jack: 1B: last_obtained  | 2B: next_obtainable  | \n",
      "Josh: 3B: last_obtained  | 2B: preceding_obtainable  | \n",
      "Romo: 1B: next_obtainable  | \n",
      "\n",
      "\n",
      "\n",
      "Isaac: 3B: forced_to  | \n",
      "Jack: 2B: forced_to  | \n",
      "Josh: \n",
      "Romo: 1B: next_obtainable  | \n"
     ]
    }
   ],
   "source": [
    "runners = make_runners()\n",
    "\n",
    "for runner in runners:\n",
    "    runner.print_status()\n",
    "    print()\n",
    "\n",
    "set_forced(runners)\n",
    "\n",
    "print(\"\\n\\n\")\n",
    "\n",
    "for runner in runners:\n",
    "    runner.print_status()\n",
    "    print()"
   ]
  },
  {
   "cell_type": "code",
   "execution_count": null,
   "id": "0d787acd",
   "metadata": {},
   "outputs": [],
   "source": []
  }
 ],
 "metadata": {
  "kernelspec": {
   "display_name": "Python 3 (ipykernel)",
   "language": "python",
   "name": "python3"
  },
  "language_info": {
   "codemirror_mode": {
    "name": "ipython",
    "version": 3
   },
   "file_extension": ".py",
   "mimetype": "text/x-python",
   "name": "python",
   "nbconvert_exporter": "python",
   "pygments_lexer": "ipython3",
   "version": "3.10.5"
  }
 },
 "nbformat": 4,
 "nbformat_minor": 5
}
