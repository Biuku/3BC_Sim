{
 "cells": [
  {
   "cell_type": "markdown",
   "id": "f41dea42",
   "metadata": {},
   "source": [
    "# Sandbox for 3B-C\n",
    "April 11, 2024"
   ]
  },
  {
   "cell_type": "markdown",
   "id": "89fbe35a",
   "metadata": {},
   "source": [
    "## Dict refresher"
   ]
  },
  {
   "cell_type": "code",
   "execution_count": 4,
   "id": "6007e579",
   "metadata": {},
   "outputs": [],
   "source": [
    "x_centre_line = 950"
   ]
  },
  {
   "cell_type": "code",
   "execution_count": 5,
   "id": "89c43c28",
   "metadata": {},
   "outputs": [],
   "source": [
    "boundaries = {\"lf_corner\": (103, 390), \"cf_wall\": (x_centre_line, 35), \"rf_corner\": (1780, 410), \"four_B_tip\": (x_centre_line, 1245)}"
   ]
  },
  {
   "cell_type": "code",
   "execution_count": 9,
   "id": "84378375",
   "metadata": {},
   "outputs": [
    {
     "data": {
      "text/plain": [
       "{'lf_corner': (103, 390),\n",
       " 'cf_wall': (950, 35),\n",
       " 'rf_corner': (1780, 410),\n",
       " 'four_B_tip': (950, 1245)}"
      ]
     },
     "execution_count": 9,
     "metadata": {},
     "output_type": "execute_result"
    }
   ],
   "source": [
    "boundaries"
   ]
  },
  {
   "cell_type": "code",
   "execution_count": 6,
   "id": "8596671b",
   "metadata": {},
   "outputs": [
    {
     "name": "stdout",
     "output_type": "stream",
     "text": [
      "lf_corner\n",
      "cf_wall\n",
      "rf_corner\n",
      "four_B_tip\n"
     ]
    }
   ],
   "source": [
    "for b in boundaries: \n",
    "    print(b)"
   ]
  },
  {
   "cell_type": "code",
   "execution_count": 12,
   "id": "d1730757",
   "metadata": {},
   "outputs": [
    {
     "data": {
      "text/plain": [
       "dict_items([('lf_corner', (103, 390)), ('cf_wall', (950, 35)), ('rf_corner', (1780, 410)), ('four_B_tip', (950, 1245))])"
      ]
     },
     "execution_count": 12,
     "metadata": {},
     "output_type": "execute_result"
    }
   ],
   "source": [
    "boundaries.items()"
   ]
  },
  {
   "cell_type": "code",
   "execution_count": 13,
   "id": "38e77dfc",
   "metadata": {},
   "outputs": [
    {
     "name": "stdout",
     "output_type": "stream",
     "text": [
      "('lf_corner', (103, 390))\n",
      "('cf_wall', (950, 35))\n",
      "('rf_corner', (1780, 410))\n",
      "('four_B_tip', (950, 1245))\n"
     ]
    }
   ],
   "source": [
    "for item in boundaries.items():\n",
    "    print(item)"
   ]
  },
  {
   "cell_type": "code",
   "execution_count": 15,
   "id": "e28c4769",
   "metadata": {},
   "outputs": [
    {
     "data": {
      "text/plain": [
       "(103, 390)"
      ]
     },
     "execution_count": 15,
     "metadata": {},
     "output_type": "execute_result"
    }
   ],
   "source": [
    "boundaries['lf_corner']"
   ]
  },
  {
   "cell_type": "code",
   "execution_count": 16,
   "id": "4e070683",
   "metadata": {},
   "outputs": [
    {
     "name": "stdout",
     "output_type": "stream",
     "text": [
      "(103, 390)\n",
      "(950, 35)\n",
      "(1780, 410)\n",
      "(950, 1245)\n"
     ]
    }
   ],
   "source": [
    "for value in boundaries.values():\n",
    "    print(value)"
   ]
  },
  {
   "cell_type": "code",
   "execution_count": 18,
   "id": "2263cd4a",
   "metadata": {},
   "outputs": [
    {
     "name": "stdout",
     "output_type": "stream",
     "text": [
      "lf_corner --> (103, 390)\n",
      "cf_wall --> (950, 35)\n",
      "rf_corner --> (1780, 410)\n",
      "four_B_tip --> (950, 1245)\n"
     ]
    }
   ],
   "source": [
    "for key, value in boundaries.items():\n",
    "    print(key, \"-->\", value)"
   ]
  },
  {
   "cell_type": "markdown",
   "id": "d28f61b2",
   "metadata": {},
   "source": [
    "### Remember how to compose a list with the same values"
   ]
  },
  {
   "cell_type": "code",
   "execution_count": 2,
   "id": "adfca29e",
   "metadata": {},
   "outputs": [
    {
     "data": {
      "text/plain": [
       "[False, False, False, False, False, False, False, False, False, False]"
      ]
     },
     "execution_count": 2,
     "metadata": {},
     "output_type": "execute_result"
    }
   ],
   "source": [
    "li = [False] * 10\n",
    "li"
   ]
  },
  {
   "cell_type": "code",
   "execution_count": 3,
   "id": "57f21e43",
   "metadata": {},
   "outputs": [
    {
     "name": "stdout",
     "output_type": "stream",
     "text": [
      "0 False\n",
      "1 False\n",
      "2 False\n",
      "3 False\n",
      "4 False\n",
      "5 False\n",
      "6 False\n",
      "7 False\n",
      "8 False\n",
      "9 False\n"
     ]
    }
   ],
   "source": [
    "for i, val in enumerate(li):\n",
    "    print(i, val)"
   ]
  },
  {
   "cell_type": "code",
   "execution_count": 4,
   "id": "292aecb7",
   "metadata": {},
   "outputs": [
    {
     "data": {
      "text/plain": [
       "[False, False, False, False, False, True, False, False, False, False]"
      ]
     },
     "execution_count": 4,
     "metadata": {},
     "output_type": "execute_result"
    }
   ],
   "source": [
    "li[5] = True\n",
    "li"
   ]
  },
  {
   "cell_type": "code",
   "execution_count": 5,
   "id": "7dc33f1f",
   "metadata": {},
   "outputs": [
    {
     "data": {
      "text/plain": [
       "['f1', 'f2', 'f3', 'f4', 'f5', 'f6', 'f7', 'f8', 'f9']"
      ]
     },
     "execution_count": 5,
     "metadata": {},
     "output_type": "execute_result"
    }
   ],
   "source": [
    "a = \"f1, f2, f3, f4, f5, f6, f7, f8, f9\"\n",
    "b = a.split(\", \")\n",
    "b"
   ]
  },
  {
   "cell_type": "code",
   "execution_count": 6,
   "id": "c2bb74b7",
   "metadata": {},
   "outputs": [
    {
     "data": {
      "text/plain": [
       "['f1', 'f2', 'f3', 'f4', 'f5', 'f6', 'f7', 'f8', 'f9']"
      ]
     },
     "execution_count": 6,
     "metadata": {},
     "output_type": "execute_result"
    }
   ],
   "source": [
    "a = \"f1, f2, f3, f4, f5, f6, f7, f8, f9\"\n",
    "b = a.split(\", \")\n",
    "b"
   ]
  },
  {
   "cell_type": "code",
   "execution_count": 7,
   "id": "b95de1de",
   "metadata": {},
   "outputs": [
    {
     "data": {
      "text/plain": [
       "('f1', 'f2', 'f3', 'f4', 'f5', 'f6', 'f7', 'f8', 'f9')"
      ]
     },
     "execution_count": 7,
     "metadata": {},
     "output_type": "execute_result"
    }
   ],
   "source": [
    "d = tuple(b)\n",
    "d"
   ]
  },
  {
   "cell_type": "code",
   "execution_count": 8,
   "id": "f2786eca",
   "metadata": {},
   "outputs": [
    {
     "data": {
      "text/plain": [
       "tuple"
      ]
     },
     "execution_count": 8,
     "metadata": {},
     "output_type": "execute_result"
    }
   ],
   "source": [
    "type(d)"
   ]
  },
  {
   "cell_type": "code",
   "execution_count": 10,
   "id": "3c0bc863",
   "metadata": {},
   "outputs": [
    {
     "name": "stdout",
     "output_type": "stream",
     "text": [
      "hello \n"
     ]
    }
   ],
   "source": [
    "a = [\"hello\", \"\"]\n",
    "print(a[0], str(a[1]))"
   ]
  },
  {
   "cell_type": "code",
   "execution_count": 11,
   "id": "e0fd621b",
   "metadata": {},
   "outputs": [
    {
     "data": {
      "text/plain": [
       "['hello', '']"
      ]
     },
     "execution_count": 11,
     "metadata": {},
     "output_type": "execute_result"
    }
   ],
   "source": [
    "a"
   ]
  },
  {
   "cell_type": "code",
   "execution_count": 12,
   "id": "9731784b",
   "metadata": {},
   "outputs": [
    {
     "data": {
      "text/plain": [
       "('hello', '')"
      ]
     },
     "execution_count": 12,
     "metadata": {},
     "output_type": "execute_result"
    }
   ],
   "source": [
    "b = tuple(a)\n",
    "b"
   ]
  },
  {
   "cell_type": "markdown",
   "id": "c43f0c38",
   "metadata": {},
   "source": [
    "# May 8"
   ]
  },
  {
   "cell_type": "code",
   "execution_count": 3,
   "id": "5f65f5ba",
   "metadata": {},
   "outputs": [],
   "source": [
    "launch_metrics = {\"launch_angle\": 0,\n",
    "                  \"launch_velo\": 0,\n",
    "                  \"launch_direction\": 0}"
   ]
  },
  {
   "cell_type": "code",
   "execution_count": 4,
   "id": "44b01ace",
   "metadata": {},
   "outputs": [
    {
     "name": "stdout",
     "output_type": "stream",
     "text": [
      "launch_angle 0\n",
      "launch_velo 0\n",
      "launch_direction 0\n"
     ]
    }
   ],
   "source": [
    "for k, v in launch_metrics.items():\n",
    "    print(k, v)"
   ]
  },
  {
   "cell_type": "markdown",
   "id": "22aaadb8",
   "metadata": {},
   "source": [
    "# May 10"
   ]
  },
  {
   "cell_type": "code",
   "execution_count": 1,
   "id": "bc6474c7",
   "metadata": {},
   "outputs": [
    {
     "data": {
      "text/plain": [
       "[1, 2, 3, 4, 5, 6, 7, 8, 9]"
      ]
     },
     "execution_count": 1,
     "metadata": {},
     "output_type": "execute_result"
    }
   ],
   "source": [
    "a = [x for x in range(1, 10)]\n",
    "a"
   ]
  },
  {
   "cell_type": "code",
   "execution_count": 2,
   "id": "0a65e43b",
   "metadata": {},
   "outputs": [
    {
     "data": {
      "text/plain": [
       "(21, 31, 41)"
      ]
     },
     "execution_count": 2,
     "metadata": {},
     "output_type": "execute_result"
    }
   ],
   "source": [
    "a = (21, 31, 41)\n",
    "a"
   ]
  },
  {
   "cell_type": "code",
   "execution_count": 3,
   "id": "be3a7fdf",
   "metadata": {},
   "outputs": [
    {
     "data": {
      "text/plain": [
       "(21, 31)"
      ]
     },
     "execution_count": 3,
     "metadata": {},
     "output_type": "execute_result"
    }
   ],
   "source": [
    "a[:2]"
   ]
  },
  {
   "cell_type": "markdown",
   "id": "9831026a",
   "metadata": {},
   "source": [
    "# May 11"
   ]
  },
  {
   "cell_type": "code",
   "execution_count": 4,
   "id": "49f30982",
   "metadata": {},
   "outputs": [],
   "source": [
    "li1 = [\"Nobody on, single to LF\", 100, 101, 102, 107, 104, 109, 1, 2, 115]\n",
    "li2 = [\"R2, single to RF\", 116, 111, 118, 112, 104, 105, 121, 2, 1]"
   ]
  },
  {
   "cell_type": "code",
   "execution_count": 5,
   "id": "b586b21e",
   "metadata": {},
   "outputs": [
    {
     "data": {
      "text/plain": [
       "7"
      ]
     },
     "execution_count": 5,
     "metadata": {},
     "output_type": "execute_result"
    }
   ],
   "source": [
    "li1.index(1)"
   ]
  },
  {
   "cell_type": "code",
   "execution_count": 6,
   "id": "36c98d96",
   "metadata": {},
   "outputs": [
    {
     "data": {
      "text/plain": [
       "9"
      ]
     },
     "execution_count": 6,
     "metadata": {},
     "output_type": "execute_result"
    }
   ],
   "source": [
    "li2.index(1)"
   ]
  },
  {
   "cell_type": "markdown",
   "id": "67ab1c2b",
   "metadata": {},
   "source": [
    "### Check type"
   ]
  },
  {
   "cell_type": "code",
   "execution_count": 7,
   "id": "549e3175",
   "metadata": {},
   "outputs": [],
   "source": [
    "a = \"hi\"\n",
    "b = 21"
   ]
  },
  {
   "cell_type": "code",
   "execution_count": 8,
   "id": "575698b1",
   "metadata": {},
   "outputs": [
    {
     "data": {
      "text/plain": [
       "True"
      ]
     },
     "execution_count": 8,
     "metadata": {},
     "output_type": "execute_result"
    }
   ],
   "source": [
    "isinstance(a, str)"
   ]
  },
  {
   "cell_type": "code",
   "execution_count": 9,
   "id": "70593287",
   "metadata": {},
   "outputs": [
    {
     "data": {
      "text/plain": [
       "False"
      ]
     },
     "execution_count": 9,
     "metadata": {},
     "output_type": "execute_result"
    }
   ],
   "source": [
    "isinstance(a, int)"
   ]
  },
  {
   "cell_type": "code",
   "execution_count": 10,
   "id": "29ce0a5e",
   "metadata": {},
   "outputs": [
    {
     "data": {
      "text/plain": [
       "True"
      ]
     },
     "execution_count": 10,
     "metadata": {},
     "output_type": "execute_result"
    }
   ],
   "source": [
    "isinstance(b, int)"
   ]
  },
  {
   "cell_type": "markdown",
   "id": "adf585bc",
   "metadata": {},
   "source": [
    "### base_attained"
   ]
  },
  {
   "cell_type": "code",
   "execution_count": 11,
   "id": "69846ab4",
   "metadata": {},
   "outputs": [],
   "source": [
    "base_attained = False"
   ]
  },
  {
   "cell_type": "code",
   "execution_count": 16,
   "id": "6817c876",
   "metadata": {},
   "outputs": [
    {
     "name": "stdout",
     "output_type": "stream",
     "text": [
      "hi 23809839\n"
     ]
    }
   ],
   "source": [
    "if base_attained:\n",
    "    print(\"hi\", base_attained)"
   ]
  },
  {
   "cell_type": "code",
   "execution_count": 15,
   "id": "740e3815",
   "metadata": {},
   "outputs": [],
   "source": [
    "base_attained = 23809839"
   ]
  },
  {
   "cell_type": "code",
   "execution_count": 17,
   "id": "ff3499bc",
   "metadata": {},
   "outputs": [],
   "source": [
    "x = None\n",
    "y = 6\n",
    "\n",
    "def tst(z):\n",
    "    if z:\n",
    "        print(\"Yo yo\")"
   ]
  },
  {
   "cell_type": "code",
   "execution_count": 18,
   "id": "40487698",
   "metadata": {},
   "outputs": [
    {
     "name": "stdout",
     "output_type": "stream",
     "text": [
      "Yo yo\n"
     ]
    }
   ],
   "source": [
    "tst(y)"
   ]
  },
  {
   "cell_type": "code",
   "execution_count": 19,
   "id": "1d4c9389",
   "metadata": {},
   "outputs": [],
   "source": [
    "tst(x)"
   ]
  },
  {
   "cell_type": "code",
   "execution_count": 20,
   "id": "d29d8dbf",
   "metadata": {},
   "outputs": [
    {
     "ename": "NameError",
     "evalue": "name 'base_attaineed' is not defined",
     "output_type": "error",
     "traceback": [
      "\u001b[1;31m---------------------------------------------------------------------------\u001b[0m",
      "\u001b[1;31mNameError\u001b[0m                                 Traceback (most recent call last)",
      "Input \u001b[1;32mIn [20]\u001b[0m, in \u001b[0;36m<cell line: 3>\u001b[1;34m()\u001b[0m\n\u001b[0;32m      1\u001b[0m base_attained \u001b[38;5;241m=\u001b[39m \u001b[38;5;241m0\u001b[39m\n\u001b[1;32m----> 3\u001b[0m \u001b[38;5;28;01mif\u001b[39;00m \u001b[43mbase_attaineed\u001b[49m:\n\u001b[0;32m      4\u001b[0m     \u001b[38;5;28mprint\u001b[39m(\u001b[38;5;124m\"\u001b[39m\u001b[38;5;124mhi\u001b[39m\u001b[38;5;124m\"\u001b[39m)\n\u001b[0;32m      5\u001b[0m \u001b[38;5;28;01melse\u001b[39;00m:\n",
      "\u001b[1;31mNameError\u001b[0m: name 'base_attaineed' is not defined"
     ]
    }
   ],
   "source": [
    "base_attained = 0\n",
    "\n",
    "if base_attaineed:\n",
    "    print(\"hi\")\n",
    "else:\n",
    "    print(\"Nothing\")"
   ]
  },
  {
   "cell_type": "code",
   "execution_count": null,
   "id": "a762bd41",
   "metadata": {},
   "outputs": [],
   "source": []
  }
 ],
 "metadata": {
  "kernelspec": {
   "display_name": "Python 3 (ipykernel)",
   "language": "python",
   "name": "python3"
  },
  "language_info": {
   "codemirror_mode": {
    "name": "ipython",
    "version": 3
   },
   "file_extension": ".py",
   "mimetype": "text/x-python",
   "name": "python",
   "nbconvert_exporter": "python",
   "pygments_lexer": "ipython3",
   "version": "3.10.5"
  }
 },
 "nbformat": 4,
 "nbformat_minor": 5
}
