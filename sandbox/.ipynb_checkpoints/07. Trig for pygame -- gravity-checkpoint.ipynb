{
 "cells": [
  {
   "cell_type": "markdown",
   "id": "46510815",
   "metadata": {},
   "source": [
    "# Trig for pygame -- gravity\n",
    "April 27, 2024"
   ]
  },
  {
   "cell_type": "markdown",
   "id": "c768aab3",
   "metadata": {},
   "source": [
    "## Problem statement\n",
    "- In my AngryBats sidebar project, I've calibrated gravity to closely mimic reality -- i.e., within that world I know how many feet above the ground the ball is, and I can drop it from a height and it will accelerate down and hit the ground in the time that physics predicts it will take.\n",
    "- But when I launch the ball -- mimicking contact with a bat -- everything is weird:\n",
    "    - Gravity has very little effect on the ball unless I reduce its launch velow a lot. I.e., it's like being on the moon -- the ball travels up 30', across 30', down 30' ... in like half a minute!\n",
    "#### I want to understand why. \n",
    "- First hypothesis -- it has to do with how I track time. Time is the exponential variable in acceleration, and I am tracking it in full seconds. Whereas Pygame uses miliseconds... so maybe other developers default to miliseconds."
   ]
  },
  {
   "cell_type": "code",
   "execution_count": 6,
   "id": "bc0d4398",
   "metadata": {},
   "outputs": [
    {
     "data": {
      "text/plain": [
       "0.7071067811865476"
      ]
     },
     "execution_count": 6,
     "metadata": {},
     "output_type": "execute_result"
    }
   ],
   "source": [
    "import math\n",
    "\n"
   ]
  },
  {
   "cell_type": "code",
   "execution_count": 25,
   "id": "93ec7b25",
   "metadata": {},
   "outputs": [],
   "source": [
    "gravity_constant = 1.7\n",
    "\n",
    "velo = 20\n",
    "\n",
    "angle_deg = 135\n",
    "rad = math.radians(angle_deg)"
   ]
  },
  {
   "cell_type": "code",
   "execution_count": 23,
   "id": "93a952fa",
   "metadata": {},
   "outputs": [
    {
     "data": {
      "text/plain": [
       "3.4"
      ]
     },
     "execution_count": 23,
     "metadata": {},
     "output_type": "execute_result"
    }
   ],
   "source": [
    "def launch_delta_y(t):    \n",
    "    vector_y = (math.sin(rad) * velo)\n",
    "    delta_y = vector_y * t\n",
    "    \n",
    "    return delta_y\n",
    "\n",
    "def gravity_delta_y(t):\n",
    "    delta_y = -1 * 0.5 * gravity_constant * t**2\n",
    "    \n",
    "    return delta_y\n",
    "\n",
    "gravity_delta_y(2)"
   ]
  },
  {
   "cell_type": "markdown",
   "id": "849dae3a",
   "metadata": {},
   "source": [
    "### So, let's try a realistic ratio of gravity to exit velo\n",
    "- gravity accelerates at -32 fps\n",
    "- 60 mph velo = 88 fps\n",
    "\n",
    "So for the first unit of time, a 60 mph hit at 45 degrees is going up 2.7x more than gravity is pulling it down. Does this mean I should set these variables in this ratio?"
   ]
  },
  {
   "cell_type": "code",
   "execution_count": 30,
   "id": "26e5d09b",
   "metadata": {},
   "outputs": [
    {
     "name": "stdout",
     "output_type": "stream",
     "text": [
      "0 seconds | launch = -0.0 | gravity = 0.0) | power of launch = 0.0\n",
      "2 seconds | launch = -84.9 | gravity = 64.0) | power of launch = -20.9\n",
      "4 seconds | launch = -169.7 | gravity = 256.0) | power of launch = 86.3\n",
      "6 seconds | launch = -254.6 | gravity = 576.0) | power of launch = 321.4\n",
      "8 seconds | launch = -339.4 | gravity = 1024.0) | power of launch = 684.6\n",
      "10 seconds | launch = -424.3 | gravity = 1600.0) | power of launch = 1175.7\n",
      "12 seconds | launch = -509.1 | gravity = 2304.0) | power of launch = 1794.9\n",
      "14 seconds | launch = -594.0 | gravity = 3136.0) | power of launch = 2542.0\n",
      "16 seconds | launch = -678.8 | gravity = 4096.0) | power of launch = 3417.2\n",
      "18 seconds | launch = -763.7 | gravity = 5184.0) | power of launch = 4420.3\n"
     ]
    }
   ],
   "source": [
    "gravity_constant = 32\n",
    "velo = 60\n",
    "\n",
    "for i in range(0, 20, 2):\n",
    "    launch = round(launch_delta_y(i), 1)\n",
    "    gravity = round(gravity_delta_y(i), 1)\n",
    "    power_of_launch = round(-(launch) - gravity, 1)\n",
    "    print(f\"{i} seconds | launch = {launch} | gravity = {gravity}) | power of launch = {power_of_launch}\")"
   ]
  },
  {
   "cell_type": "code",
   "execution_count": null,
   "id": "df163be1",
   "metadata": {},
   "outputs": [],
   "source": []
  }
 ],
 "metadata": {
  "kernelspec": {
   "display_name": "Python 3 (ipykernel)",
   "language": "python",
   "name": "python3"
  },
  "language_info": {
   "codemirror_mode": {
    "name": "ipython",
    "version": 3
   },
   "file_extension": ".py",
   "mimetype": "text/x-python",
   "name": "python",
   "nbconvert_exporter": "python",
   "pygments_lexer": "ipython3",
   "version": "3.10.5"
  }
 },
 "nbformat": 4,
 "nbformat_minor": 5
}
