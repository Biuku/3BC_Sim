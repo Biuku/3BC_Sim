{
 "cells": [
  {
   "cell_type": "markdown",
   "id": "7ae3d48f",
   "metadata": {},
   "source": [
    "# Baseball rules engine VI\n",
    "\n",
    "May 24, 2024"
   ]
  },
  {
   "cell_type": "markdown",
   "id": "fc95ac51",
   "metadata": {},
   "source": [
    "Version V is my first pygame rules engine, which is text based. That got a bit heavy before I had all the functionality in place.\n",
    "Spent May 21-24 re-designing this in other documents.\n",
    "\n",
    "Now, want to implement the leanest possible foundation in Jupyter in order to layer on additional requirements."
   ]
  },
  {
   "cell_type": "markdown",
   "id": "e0f512de",
   "metadata": {},
   "source": [
    "## User input\n",
    "I think I just call user_input( [item 1, item 2... ])\n",
    "\n",
    "#### Type 1\n",
    "- FBC: *['fbc']* >>>>> len = 1 | str\n",
    "\n",
    "#### Type 2\n",
    "- Runner tag out: *['tag r', 'isaac']* >>>>> len = 2 | str, str\n",
    "- Base tag out: *['tag b', 1 or 2 or 3]* >>>>> len = 2 | str, int\n",
    "- Change state: *['state', 0 or 1]* >>>>> len = 2 | str, int\n",
    "\n",
    "#### Type 3\n",
    "- Set goal: *['goal', 'isaac', 1 or 2 or 3 or 4]* >>>>> len = 3 | str, str, int\n",
    "- Occupy base: *['occupy', 'isaac', 1 or 2 or 3 or 4]* >>>>> len = 3 | str, str, int"
   ]
  },
  {
   "cell_type": "code",
   "execution_count": 60,
   "id": "b489d772",
   "metadata": {},
   "outputs": [],
   "source": [
    "class RuEg:\n",
    "    \n",
    "    def __init__(self, runners):\n",
    "        self.runners = runners # dict: {name: object}\n",
    "        self.runners_out = []\n",
    "        self.state = 0\n",
    "    \n",
    "    def do_fbc(self):\n",
    "        print(\"hi\", self.runners)\n",
    "\n",
    "    def funcB(self):\n",
    "        print(self.runners)\n",
    "    \n",
    "    def master_do(self, li):\n",
    "        \n",
    "        \n",
    "        \n",
    "        func_map = {'fbc': self.do_fbc, 'tag r': self.fielder_tags_runner, 'tag b': self.fielder_tags_base,\n",
    "                   'state': self.change_state, 'goal': self.set_goal, 'occupy': self.occupy_attain_base}\n",
    "        \n",
    "        func_map[ li[0]]()\n",
    "       \n",
    "        \"\"\"\n",
    "        \n",
    "        if li[0] == 'fbc':\n",
    "            print(\"WTF!\")\n",
    "            funcB()\n",
    "            #do_fbc()\n",
    "        \n",
    "        if li[0] == 'tag r' :\n",
    "            fielder_tags_runner(li)\n",
    "\n",
    "        if li[0] == 'tag b':\n",
    "            fielder_tags_base(li)\n",
    "        \n",
    "        if li[0] == 'state':\n",
    "            change_state(li)\n",
    "        \n",
    "        if li[0] == 'goal':\n",
    "            set_goal(li)\n",
    "        \n",
    "        if li[0] == 'occupy':\n",
    "            occupy_attain_base(li)\n",
    "\n",
    "\n",
    "        \n",
    "\n",
    "        if li[0] not in func_map:\n",
    "            print('Bad input')\n",
    "            return\n",
    "        \"\"\"\n",
    "        \n"
   ]
  },
  {
   "cell_type": "code",
   "execution_count": 61,
   "id": "e4c38030",
   "metadata": {},
   "outputs": [
    {
     "name": "stdout",
     "output_type": "stream",
     "text": [
      "WTF!\n"
     ]
    },
    {
     "ename": "NameError",
     "evalue": "name 'funcB' is not defined",
     "output_type": "error",
     "traceback": [
      "\u001b[1;31m---------------------------------------------------------------------------\u001b[0m",
      "\u001b[1;31mNameError\u001b[0m                                 Traceback (most recent call last)",
      "Input \u001b[1;32mIn [61]\u001b[0m, in \u001b[0;36m<cell line: 6>\u001b[1;34m()\u001b[0m\n\u001b[0;32m      3\u001b[0m \u001b[38;5;66;03m#ru.do_fbc()\u001b[39;00m\n\u001b[0;32m      5\u001b[0m li \u001b[38;5;241m=\u001b[39m [\u001b[38;5;124m'\u001b[39m\u001b[38;5;124mfbc\u001b[39m\u001b[38;5;124m'\u001b[39m, \u001b[38;5;124m'\u001b[39m\u001b[38;5;124myo you ma\u001b[39m\u001b[38;5;124m'\u001b[39m]\n\u001b[1;32m----> 6\u001b[0m \u001b[43mru\u001b[49m\u001b[38;5;241;43m.\u001b[39;49m\u001b[43mmaster_do\u001b[49m\u001b[43m(\u001b[49m\u001b[43mli\u001b[49m\u001b[43m)\u001b[49m\n",
      "Input \u001b[1;32mIn [60]\u001b[0m, in \u001b[0;36mRuEg.master_do\u001b[1;34m(self, li)\u001b[0m\n\u001b[0;32m     16\u001b[0m \u001b[38;5;28;01mif\u001b[39;00m li[\u001b[38;5;241m0\u001b[39m] \u001b[38;5;241m==\u001b[39m \u001b[38;5;124m'\u001b[39m\u001b[38;5;124mfbc\u001b[39m\u001b[38;5;124m'\u001b[39m:\n\u001b[0;32m     17\u001b[0m     \u001b[38;5;28mprint\u001b[39m(\u001b[38;5;124m\"\u001b[39m\u001b[38;5;124mWTF!\u001b[39m\u001b[38;5;124m\"\u001b[39m)\n\u001b[1;32m---> 18\u001b[0m     \u001b[43mfuncB\u001b[49m()\n\u001b[0;32m     19\u001b[0m     \u001b[38;5;66;03m#do_fbc()\u001b[39;00m\n\u001b[0;32m     21\u001b[0m \u001b[38;5;124;03m\"\"\"\u001b[39;00m\n\u001b[0;32m     22\u001b[0m \u001b[38;5;124;03m\u001b[39;00m\n\u001b[0;32m     23\u001b[0m \u001b[38;5;124;03mif li[0] == 'tag r' :\u001b[39;00m\n\u001b[1;32m   (...)\u001b[0m\n\u001b[0;32m     43\u001b[0m \u001b[38;5;124;03m    return\u001b[39;00m\n\u001b[0;32m     44\u001b[0m \u001b[38;5;124;03m\"\"\"\u001b[39;00m\n",
      "\u001b[1;31mNameError\u001b[0m: name 'funcB' is not defined"
     ]
    }
   ],
   "source": [
    "ru = RuEg('runners')\n",
    "\n",
    "#ru.do_fbc()\n",
    "\n",
    "li = ['fbc', 'yo you ma']\n",
    "ru.master_do(li)"
   ]
  },
  {
   "cell_type": "code",
   "execution_count": null,
   "id": "d90be193",
   "metadata": {},
   "outputs": [],
   "source": []
  },
  {
   "cell_type": "code",
   "execution_count": null,
   "id": "d62d488f",
   "metadata": {},
   "outputs": [],
   "source": []
  },
  {
   "cell_type": "code",
   "execution_count": 33,
   "id": "7c94ee3f",
   "metadata": {},
   "outputs": [
    {
     "ename": "NameError",
     "evalue": "name 'do_fbc' is not defined",
     "output_type": "error",
     "traceback": [
      "\u001b[1;31m---------------------------------------------------------------------------\u001b[0m",
      "\u001b[1;31mNameError\u001b[0m                                 Traceback (most recent call last)",
      "Input \u001b[1;32mIn [33]\u001b[0m, in \u001b[0;36m<cell line: 3>\u001b[1;34m()\u001b[0m\n\u001b[0;32m      1\u001b[0m ru \u001b[38;5;241m=\u001b[39m RuEg(\u001b[38;5;124m'\u001b[39m\u001b[38;5;124misaac\u001b[39m\u001b[38;5;124m'\u001b[39m)\n\u001b[1;32m----> 3\u001b[0m \u001b[43mru\u001b[49m\u001b[38;5;241;43m.\u001b[39;49m\u001b[43mmaster_do\u001b[49m\u001b[43m(\u001b[49m\u001b[38;5;124;43m'\u001b[39;49m\u001b[38;5;124;43mduh\u001b[39;49m\u001b[38;5;124;43m'\u001b[39;49m\u001b[43m)\u001b[49m\n",
      "Input \u001b[1;32mIn [32]\u001b[0m, in \u001b[0;36mRuEg.master_do\u001b[1;34m(self, li)\u001b[0m\n\u001b[0;32m      9\u001b[0m \u001b[38;5;28;01mdef\u001b[39;00m \u001b[38;5;21mmaster_do\u001b[39m(\u001b[38;5;28mself\u001b[39m, li):\n\u001b[1;32m---> 11\u001b[0m     func_map \u001b[38;5;241m=\u001b[39m {\u001b[38;5;124m'\u001b[39m\u001b[38;5;124mfbc\u001b[39m\u001b[38;5;124m'\u001b[39m: \u001b[43mdo_fbc\u001b[49m(), \u001b[38;5;124m'\u001b[39m\u001b[38;5;124mtag r\u001b[39m\u001b[38;5;124m'\u001b[39m: fielder_tags_runner, \u001b[38;5;124m'\u001b[39m\u001b[38;5;124mtag b\u001b[39m\u001b[38;5;124m'\u001b[39m: fielder_tags_base,\n\u001b[0;32m     12\u001b[0m                \u001b[38;5;124m'\u001b[39m\u001b[38;5;124mstate\u001b[39m\u001b[38;5;124m'\u001b[39m: change_state, \u001b[38;5;124m'\u001b[39m\u001b[38;5;124mgoal\u001b[39m\u001b[38;5;124m'\u001b[39m: set_goal, \u001b[38;5;124m'\u001b[39m\u001b[38;5;124moccupy\u001b[39m\u001b[38;5;124m'\u001b[39m: occupy_attain_base}\n\u001b[0;32m     14\u001b[0m     \u001b[38;5;124;03m\"\"\"\u001b[39;00m\n\u001b[0;32m     15\u001b[0m \u001b[38;5;124;03m    if li[0] not in func_map:\u001b[39;00m\n\u001b[0;32m     16\u001b[0m \u001b[38;5;124;03m        print('Bad input')\u001b[39;00m\n\u001b[0;32m     17\u001b[0m \u001b[38;5;124;03m        return\u001b[39;00m\n\u001b[0;32m     18\u001b[0m \u001b[38;5;124;03m    \"\"\"\u001b[39;00m\n\u001b[0;32m     20\u001b[0m     func_map[ \u001b[38;5;124m'\u001b[39m\u001b[38;5;124mfbc\u001b[39m\u001b[38;5;124m'\u001b[39m ](\u001b[38;5;124m'\u001b[39m\u001b[38;5;124myoyo\u001b[39m\u001b[38;5;124m'\u001b[39m)\n",
      "\u001b[1;31mNameError\u001b[0m: name 'do_fbc' is not defined"
     ]
    }
   ],
   "source": [
    "\n",
    "                func_map = {'fbc': do_fbc, 'tag r': fielder_tags_runner, 'tag b': fielder_tags_base,\n",
    "                   'state': change_state, 'goal': set_goal, 'occupy': occupy_attain_base}\n",
    "        \n",
    "        func_map['fbc']('hi')\n"
   ]
  },
  {
   "cell_type": "code",
   "execution_count": null,
   "id": "a62dfad1",
   "metadata": {},
   "outputs": [],
   "source": []
  },
  {
   "cell_type": "code",
   "execution_count": null,
   "id": "65931fdf",
   "metadata": {},
   "outputs": [],
   "source": []
  },
  {
   "cell_type": "code",
   "execution_count": 27,
   "id": "fa09444f",
   "metadata": {},
   "outputs": [],
   "source": [
    "def do_d(x):\n",
    "    print(x)"
   ]
  },
  {
   "cell_type": "code",
   "execution_count": 19,
   "id": "37987dda",
   "metadata": {},
   "outputs": [],
   "source": [
    "dict = {1: do_d, 2: 'nope'}"
   ]
  },
  {
   "cell_type": "code",
   "execution_count": 29,
   "id": "0a677f26",
   "metadata": {},
   "outputs": [
    {
     "name": "stdout",
     "output_type": "stream",
     "text": [
      "hi\n"
     ]
    }
   ],
   "source": [
    "dict[1]('hi')"
   ]
  },
  {
   "cell_type": "code",
   "execution_count": null,
   "id": "a992e911",
   "metadata": {},
   "outputs": [],
   "source": []
  }
 ],
 "metadata": {
  "kernelspec": {
   "display_name": "Python 3 (ipykernel)",
   "language": "python",
   "name": "python3"
  },
  "language_info": {
   "codemirror_mode": {
    "name": "ipython",
    "version": 3
   },
   "file_extension": ".py",
   "mimetype": "text/x-python",
   "name": "python",
   "nbconvert_exporter": "python",
   "pygments_lexer": "ipython3",
   "version": "3.10.5"
  }
 },
 "nbformat": 4,
 "nbformat_minor": 5
}
