{
 "cells": [
  {
   "cell_type": "markdown",
   "id": "7ae3d48f",
   "metadata": {},
   "source": [
    "# Baseball rules engine VI\n",
    "\n",
    "May 24, 2024"
   ]
  },
  {
   "cell_type": "markdown",
   "id": "fc95ac51",
   "metadata": {},
   "source": [
    "Version V is my first pygame rules engine, which is text based. That got a bit heavy before I had all the functionality in place.\n",
    "Spent May 21-24 re-designing this in other documents.\n",
    "\n",
    "Now, want to implement the leanest possible foundation in Jupyter in order to layer on additional requirements."
   ]
  },
  {
   "cell_type": "code",
   "execution_count": 1,
   "id": "6961c6a6",
   "metadata": {},
   "outputs": [],
   "source": [
    "class Baserunner:\n",
    "    \n",
    "    def __init__(self, base):\n",
    "        self.occupied_base = base\n",
    "        self.attained_base = base\n",
    "        self.f2_base = None\n",
    "        self.tagup_base = None\n",
    "        \n",
    "    def apply_force(self, base):\n",
    "        self.attained = self.occupied = None\n",
    "        self.forced_to_base = base "
   ]
  },
  {
   "cell_type": "markdown",
   "id": "997bee8f",
   "metadata": {},
   "source": [
    "## User input\n",
    "I think I just call user_input( [item 1, item 2... ])\n",
    "\n",
    "- Runner tag out: *['tag r', 'isaac']* >>>>> len = 2 | str, str\n",
    "- Base tag out: *['tag b', 1 or 2 or 3]* >>>>> len = 2 | str, int\n",
    "\n",
    "- Occupy base: *['occupy', 'isaac', 1 or 2 or 3 or 4]* >>>>> len = 3 | str, str, int\n",
    "\n",
    "- Change state: *['state', 0 or 1, '' or 'fbc' or 'bip']* >>>>> len = 3 | str, int, str"
   ]
  },
  {
   "cell_type": "code",
   "execution_count": null,
   "id": "5765443b",
   "metadata": {},
   "outputs": [],
   "source": []
  },
  {
   "cell_type": "code",
   "execution_count": 40,
   "id": "b489d772",
   "metadata": {},
   "outputs": [],
   "source": [
    "class RuEg:\n",
    "    \n",
    "    def __init__(self, runners):\n",
    "        self.names = ['Isaac,', 'Jack,', 'JD', 'Romo', 'Casey', 'Sam', 'Pasma', 'Bradey', 'Kemper', 'Liam']\n",
    "        self.runners = {} # dict: {name: object}\n",
    "        self.f2_runners = []\n",
    "        self.runners_out = []\n",
    "        self.state = 0 \n",
    "\n",
    " \n",
    "    ### Commanded functions     \n",
    "    def master_do(self, li):\n",
    "        print(f\"I think {li[0]} is complete\")\n",
    "        key = li[0]\n",
    "                \n",
    "        func_map = {'tag r': self.fielder_tags_runner, 'tag b': self.fielder_tags_base,\n",
    "                   'occupy': self.occupy_attain_base, 'state': self.change_state}\n",
    "       \n",
    "        if key not in func_map:\n",
    "            print('Bad input')\n",
    "            return\n",
    "        \n",
    "        # Call the function associated with the key and pass the rest of the list.\n",
    "        func_map[ key ]( li )\n",
    "        \n",
    "\n",
    "    def change_state(self, li):\n",
    "        print(f\"I think {li[0]} is complete\")\n",
    "        new_state = li[1]\n",
    "\n",
    "        ## Reject changes to the current state\n",
    "        if new_state == self.state:\n",
    "            return\n",
    "        \n",
    "        if new_state == 0:\n",
    "\n",
    "            ## Determine if any base needs to be tagged up\n",
    "            for runner in self.runners:\n",
    "                if runner.f2_base or runner.tagup_base:\n",
    "                    print(\"Forced runner(s) needs to tag_base before changing to State 0\")\n",
    "                    return\n",
    "\n",
    "            else:\n",
    "                print(\"State updated to 0: Pre-pitch\")\n",
    "                self.state = 0\n",
    "                self.f2_runners = [] \n",
    "                self.create_runner(0) ## Instantiate a new runner at base 0\n",
    "\n",
    "        elif new_state == 1:\n",
    "            \n",
    "            print(\"State updated to 1: BIP\")\n",
    "            self.state = 1\n",
    "            \n",
    "            for name, runner_obj in self.runners.items():\n",
    "                runner_obj.occupied_base = None\n",
    "            \n",
    "            if li[2] == 'bip':\n",
    "                self.discover_and_apply_forces()\n",
    "            \n",
    "            elif li[2] == 'fbc':\n",
    "                for runner in self.runners:\n",
    "                    if runner.attained_base != 0:\n",
    "                        runner.f2_base = runner.attained_base\n",
    "\n",
    "\n",
    "\n",
    "    def fielder_tags_runner(self, li):\n",
    "        print(f\"I think {li[0]} is complete\")\n",
    "        \n",
    "        name = li[1]\n",
    "        runner = runners[name]\n",
    "        if not(runner.occupied_base):\n",
    "            self.put_out(name)\n",
    "\n",
    "\n",
    "    def fielder_tags_base(self, li):\n",
    "        print(li[0])\n",
    "\n",
    "    def occupy_attain_base(self, li):\n",
    "        pass\n",
    "    \n",
    "    \n",
    "    \n",
    "    ### Support functions\n",
    "    \n",
    "    def apply_forces(self):\n",
    "        f2bases = self.discover_forces() ## False if base is not forced-to; else, value = runner object\n",
    "        \n",
    "        for base, runner in f2bases.items():\n",
    "            if base:\n",
    "                if runner.f2_base:\n",
    "                    return        ## Do not override an existing force\n",
    "                runner.apply_force( base + 1 )\n",
    "                \n",
    "        return f2bases\n",
    "    \n",
    "    \n",
    "    def discover_forces(self):\n",
    "        attained_bases = self.get_attained_bases()\n",
    "        f2bases = {1: True, 2: False, 3: False, 4: False}\n",
    "        \n",
    "        for base in [1, 2, 3, 4]:\n",
    "            if base in attained_bases and f2bases[base]:\n",
    "                f2bases[ base + 1 ] = attained_bases[base] # Assign runner object as value for base forced to: 1, 2, 3\n",
    "                \n",
    "        return f2bases\n",
    "    \n",
    "     \n",
    "    \n",
    "    def put_out(self, name):\n",
    "        runner = self.runners[name]\n",
    "        \n",
    "        del self.runners[name]\n",
    "        self.runners_out.append(runner)\n",
    "        self.names.append(name)\n",
    "        \n",
    "        self.remove_forces(name)\n",
    "    \n",
    "                        \n",
    "    def create_runner(self, base):\n",
    "        name = self.names.pop(0)\n",
    "        runner = Baserunner(base)\n",
    "\n",
    "        if base == 0:\n",
    "            runner.f2_base = 1\n",
    "        \n",
    "        self.runners[name] = runner\n",
    "\n",
    "        \n",
    "        \n",
    "    ### DO I NEED THIS??\n",
    "    def get_attained_bases(self):\n",
    "        \n",
    "        for name, runner_obj in self.runners.items():\n",
    "            base = runner_obj.attained_base\n",
    "            if base:\n",
    "                attained_bases[base] = runner_obj\n",
    "                \n",
    "        return attained_bases\n"
   ]
  },
  {
   "cell_type": "code",
   "execution_count": 51,
   "id": "89d9f188",
   "metadata": {},
   "outputs": [
    {
     "name": "stdout",
     "output_type": "stream",
     "text": [
      "isaac <__main__.Baserunner object at 0x0000022AFBE75BA0>\n",
      "jack <__main__.Baserunner object at 0x0000022AFBE75AB0>\n"
     ]
    }
   ],
   "source": [
    "runner_ids = ( ( 'isaac', 2 ), ( 'jack', 1 ) )\n",
    "runners = {}\n",
    "\n",
    "def make_baserunners(runner_ids):\n",
    "    for runner in runner_ids:\n",
    "        name = runner[0]\n",
    "        base = runner[1]\n",
    "        \n",
    "        runners[name] = Baserunner(base)\n",
    "\n",
    "make_baserunners(runner_ids)\n",
    "        \n",
    "for k, v in runners.items():\n",
    "    print(k, v)"
   ]
  },
  {
   "cell_type": "code",
   "execution_count": 52,
   "id": "dbc16ab8",
   "metadata": {},
   "outputs": [
    {
     "name": "stdout",
     "output_type": "stream",
     "text": [
      "fbc\n",
      "tag r\n",
      "tag b\n",
      "goal\n"
     ]
    }
   ],
   "source": [
    "li = ['fbc', 'tag r', 'tag b', 'state', 'goal', 'occupy']\n",
    "\n",
    "runners = ['isaac', 'jack']\n",
    "\n",
    "ru = RuEg( runners )\n",
    "\n",
    "for item in li:\n",
    "    passable = [item, item]\n",
    "\n",
    "    ru.master_do(passable)"
   ]
  },
  {
   "cell_type": "code",
   "execution_count": 5,
   "id": "3b250c39",
   "metadata": {},
   "outputs": [
    {
     "data": {
      "text/plain": [
       "['Isaac,', 'Jack,', 'JD', 'Romo', 'Casey', 'Sam']"
      ]
     },
     "execution_count": 5,
     "metadata": {},
     "output_type": "execute_result"
    }
   ],
   "source": [
    "txt = \"Isaac, Jack, JD Romo Casey Sam\"\n",
    "txt.split(\" \")"
   ]
  },
  {
   "cell_type": "code",
   "execution_count": 7,
   "id": "94c7d732",
   "metadata": {},
   "outputs": [
    {
     "data": {
      "text/plain": [
       "['Pasma', 'Bradey', 'Kemper', 'Liam']"
      ]
     },
     "execution_count": 7,
     "metadata": {},
     "output_type": "execute_result"
    }
   ],
   "source": [
    "txt = \"Pasma Bradey Kemper Liam\"\n",
    "txt.split(\" \")"
   ]
  },
  {
   "cell_type": "code",
   "execution_count": 9,
   "id": "29dc717a",
   "metadata": {},
   "outputs": [
    {
     "data": {
      "text/plain": [
       "{1: 1000, 2: 2000, 3: 3000}"
      ]
     },
     "execution_count": 9,
     "metadata": {},
     "output_type": "execute_result"
    }
   ],
   "source": [
    "dict = {1: 1000, 2: 2000, 3: 3000}\n",
    "dict"
   ]
  },
  {
   "cell_type": "code",
   "execution_count": 10,
   "id": "c2af5f9e",
   "metadata": {},
   "outputs": [
    {
     "data": {
      "text/plain": [
       "{1: 1000, 3: 3000}"
      ]
     },
     "execution_count": 10,
     "metadata": {},
     "output_type": "execute_result"
    }
   ],
   "source": [
    "del dict[2]\n",
    "dict"
   ]
  },
  {
   "cell_type": "code",
   "execution_count": null,
   "id": "2e87dbad",
   "metadata": {},
   "outputs": [],
   "source": []
  }
 ],
 "metadata": {
  "kernelspec": {
   "display_name": "Python 3 (ipykernel)",
   "language": "python",
   "name": "python3"
  },
  "language_info": {
   "codemirror_mode": {
    "name": "ipython",
    "version": 3
   },
   "file_extension": ".py",
   "mimetype": "text/x-python",
   "name": "python",
   "nbconvert_exporter": "python",
   "pygments_lexer": "ipython3",
   "version": "3.10.5"
  }
 },
 "nbformat": 4,
 "nbformat_minor": 5
}
