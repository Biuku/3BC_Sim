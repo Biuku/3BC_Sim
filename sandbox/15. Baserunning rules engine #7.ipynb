{
 "cells": [
  {
   "cell_type": "markdown",
   "id": "bf06abd5",
   "metadata": {},
   "source": [
    "# Baseball rules engine VII\n",
    "\n",
    "May 28, 2024"
   ]
  },
  {
   "cell_type": "markdown",
   "id": "4a2c438e",
   "metadata": {},
   "source": [
    "Got it somewhat working in the previous version, but then it got cluttered with unit tests.\n",
    "\n",
    "Going to re-implement clean."
   ]
  },
  {
   "cell_type": "markdown",
   "id": "15851616",
   "metadata": {},
   "source": [
    "## 0. Utilities "
   ]
  },
  {
   "cell_type": "markdown",
   "id": "e045f179",
   "metadata": {},
   "source": [
    "### 0.2 Print status and print options"
   ]
  },
  {
   "cell_type": "code",
   "execution_count": 25,
   "id": "9f458906",
   "metadata": {},
   "outputs": [],
   "source": [
    "def print_status(runners):\n",
    "    print(\"\\nStatus of runners:\")\n",
    "    for name, runner in runners.items():\n",
    "        print(f\" > {name} on {runner.attained_base} occupies {runner.occupied_base}\", end = \" | \")\n",
    "        print(f\"He is forced to: {runner.f2_base}. He must tag-up at: {runner.tagup_base}\")\n",
    "\n",
    "def print_options():\n",
    "    print(\"HOW TO MAKE RuEg GO.\\nCall ru.master_do() and pass a list:\")\n",
    "    print(f\"  > Tag runner: ['tag r', name = str]\")\n",
    "    print(f\"  > Tag base: ['tag b', base = int]\")\n",
    "    print(f\"  > Runner occupy a base: ['occupy', name = str, base = int]\")\n",
    "    print(f\"  > Change state: ['state', 'zero', fbc' or 'bip' = str]\")\n",
    "    print(f\"  > Create runner: ['create', start_base = int]\\n\")\n",
    "    print(\"*******************\\n\")"
   ]
  },
  {
   "cell_type": "markdown",
   "id": "2d926c6b",
   "metadata": {},
   "source": [
    "## 1. Baserunner class"
   ]
  },
  {
   "cell_type": "code",
   "execution_count": 6,
   "id": "a419b21f",
   "metadata": {},
   "outputs": [],
   "source": [
    "class Baserunner:\n",
    "    \n",
    "    def __init__(self, name, base):\n",
    "        self.name = name\n",
    "        \n",
    "        self.occupied_base = base\n",
    "        self.attained_base = base\n",
    "        \n",
    "        self.f2_base = None\n",
    "        self.tagup_base = None"
   ]
  },
  {
   "cell_type": "markdown",
   "id": "3ac7000d",
   "metadata": {},
   "source": [
    "***"
   ]
  },
  {
   "cell_type": "markdown",
   "id": "1026d2bc",
   "metadata": {},
   "source": [
    "## 2. Apply and remove Forces\n",
    "#### 2.1 Apply Forces\n",
    "- Triggered by user input. \n",
    "- Called by Main > change_state() > state_bip()\n",
    "- Takes in: \n",
    "    - **Baserunner object (the Batter)**\n",
    "        - occupied = attained = 0B\n",
    "        - f2_base = 1B\n",
    "    - **The dict of BR's = {name: Baserunner object}**\n",
    "- *Starting from Batter, identifies Forces and applies to each BR object*\n",
    "\n",
    "Returns the dict of runners -- runners may be changed."
   ]
  },
  {
   "cell_type": "code",
   "execution_count": 7,
   "id": "691f239d",
   "metadata": {},
   "outputs": [],
   "source": [
    "class ApplyForces:\n",
    "\n",
    "    def apply_forces(self, batter, runners):\n",
    "        \n",
    "        f2bases = {1: batter, 2: False, 3: False, 4: False}\n",
    "        \n",
    "        for base in [1, 2, 3]:\n",
    "        \n",
    "            for runner in runners.values():\n",
    "                attained = runner.attained_base\n",
    "            \n",
    "                if base == attained and f2bases[base]:\n",
    "                    f2bases[ base + 1 ] = runner\n",
    "                    runner.f2_base = base + 1\n",
    "        \n",
    "        return runners"
   ]
  },
  {
   "cell_type": "markdown",
   "id": "bc93088b",
   "metadata": {},
   "source": [
    "#### 2.2 Remove Forces\n",
    "- Triggered by FBC or fielder tag (base or BR)\n",
    "- Called by Main > ?(several paths)? > put_out()\n",
    "- Takes in:\n",
    "    - **Baserunner object being put OUT**\n",
    "    - **The dict of BR's = {name: Baserunner object}**\n",
    "- *Starting from base of runner being put out, removes Forces for all preceding BR (e.g., out = 1B, 2B = remove force)*\n",
    "\n",
    "Returns the dict of runners -- runners may be changed "
   ]
  },
  {
   "cell_type": "code",
   "execution_count": 8,
   "id": "9623dd91",
   "metadata": {},
   "outputs": [],
   "source": [
    "class RemoveForces:\n",
    "    \n",
    "    def remove_forces(self, runner_out, runners):\n",
    "        kill_force_base = runner_out.f2_base ## This is the base the 'runner_out' is forced to\n",
    "        \n",
    "        if kill_force_base:\n",
    "        \n",
    "            for base in range(kill_force_base, 5):\n",
    "\n",
    "                for runner in runners.values():\n",
    "\n",
    "                    if base == runner.f2_base:\n",
    "                        runner.f2_base = None\n",
    "            \n",
    "        return runners"
   ]
  },
  {
   "cell_type": "markdown",
   "id": "53152253",
   "metadata": {},
   "source": [
    "***"
   ]
  },
  {
   "cell_type": "markdown",
   "id": "a61e6538",
   "metadata": {},
   "source": [
    "## 3. Create new BR"
   ]
  },
  {
   "cell_type": "code",
   "execution_count": 9,
   "id": "1c8c0a7a",
   "metadata": {},
   "outputs": [],
   "source": [
    "class CreateRunner:\n",
    "\n",
    "    def create_batter(self, name):\n",
    "        batter = self.create_runner(name, 0)\n",
    "        batter.f2_base = 1\n",
    "        \n",
    "        return batter\n",
    "        \n",
    "        \n",
    "    def create_runner(self, name, base):\n",
    "        runner = Baserunner(name, base)\n",
    "        print(f\"Created {name} on {base}B\")\n",
    "        \n",
    "        return runner"
   ]
  },
  {
   "cell_type": "markdown",
   "id": "883cbe73",
   "metadata": {},
   "source": [
    "***"
   ]
  },
  {
   "cell_type": "markdown",
   "id": "23d56f8a",
   "metadata": {},
   "source": [
    "## 4. Occupy & attain base\n",
    "\n",
    "- Pass ['occupy', name = str, target base = int]"
   ]
  },
  {
   "cell_type": "code",
   "execution_count": 10,
   "id": "1a2cec25",
   "metadata": {},
   "outputs": [],
   "source": [
    "class Occupy:\n",
    "    \n",
    "    def occupy_attain_base(self, li, runners):\n",
    "        name = li[1]\n",
    "        base = li[2]\n",
    "        runner = runners[name]\n",
    "\n",
    "        print(f\"\\n{name} is attempting to occupy {base}B\")\n",
    "\n",
    "        ## Reject if base is too far away\n",
    "        attained = runner.attained_base\n",
    "        if abs(attained - base) > 1:\n",
    "            print(f\"{name} has attained {attained} and cannot occupy {base} because it's too far away\")\n",
    "            return runners\n",
    "\n",
    "        ## Reject if base is occupied\n",
    "        for br in runners.values():\n",
    "            if br.occupied_base == base:\n",
    "                print(f\"Sorry, {base}B is occupied\")\n",
    "                return runners\n",
    "\n",
    "        print(f\"Woo hoo! {base}B is free.\")\n",
    "\n",
    "        ## Else, occupy & attain base \n",
    "        runner.attained_base = runner.occupied_base = base\n",
    "\n",
    "        ## Clear taggable bases\n",
    "        if runner.f2_base == base:\n",
    "            runner.f2_base = None\n",
    "\n",
    "        if runner.tagup_base == base:\n",
    "            runner.tagup_base = None\n",
    "\n",
    "        return runners"
   ]
  },
  {
   "cell_type": "markdown",
   "id": "44e14b25",
   "metadata": {},
   "source": [
    "***"
   ]
  },
  {
   "cell_type": "markdown",
   "id": "061d674d",
   "metadata": {},
   "source": [
    "## 99. Main"
   ]
  },
  {
   "cell_type": "markdown",
   "id": "366e660f",
   "metadata": {},
   "source": [
    "#### User input\n",
    "- Tag runner out: **['tag r', 'isaac']** ______ len = 2 | str, str\n",
    "- Tag base out: **['tag b', 1 or 2 or 3]** ______ len = 2 | str, int\n",
    "- Occupy & attain a base: **['occupy', 'isaac', 1 or 2 or 3 or 4]** ______ len = 3 | str, str, int\n",
    "- Change state: **['state', 'zero' or 'fbc' or 'bip']** ______ len = 3 | str, str"
   ]
  },
  {
   "cell_type": "code",
   "execution_count": 11,
   "id": "5f95a04d",
   "metadata": {},
   "outputs": [],
   "source": [
    "class RuEg:\n",
    "    \n",
    "    def __init__(self):\n",
    "        self.af = ApplyForces()\n",
    "        self.rf = RemoveForces()\n",
    "        self.cr = CreateRunner()\n",
    "        self.oc = Occupy()\n",
    "        \n",
    "        self.state = -1 ## Initial state\n",
    "\n",
    "        self.names = ['Isaac', 'Jack', 'JD', 'Romo', 'Casey', 'Sam', 'Pasma', 'Bradey', 'Kemper', 'Liam']\n",
    "        self.runners = {} # {name: object}\n",
    "        self.batter = None\n",
    "\n",
    "\n",
    "    ### Commanded functions ###\n",
    "    \n",
    "    def master_do(self, li):\n",
    "        func_map = {'tag r': self.fielder_tags_runner, 'tag b': self.fielder_tags_base,\n",
    "                   'occupy': self.occupy_attain_base, 'state': self.change_state,\n",
    "                   'create': self.create_runner}\n",
    "        \n",
    "        key = li[0]\n",
    "        func_map[ key ]( li )  # Call the function associated with the key and pass the rest of the list.\n",
    "    \n",
    "    \n",
    "    def change_state(self, li):\n",
    "        new_state = li[1]\n",
    "        \n",
    "        if new_state == 'zero':\n",
    "            print(\"\\nState updated to 0: Pre-pitch \\n\")\n",
    "            self.state = 0\n",
    "            \n",
    "        elif new_state in ['bip', 'fbc']:\n",
    "            \n",
    "            self.state_1()\n",
    "                \n",
    "            if new_state == 'bip':\n",
    "                print(\"\\nSub-state updated to: BIP \\n\")\n",
    "                self.runners = self.af.apply_forces(self.batter, self.runners)\n",
    "\n",
    "            elif new_state == 'fbc':\n",
    "                self.state_fbc()\n",
    "    \n",
    "    \n",
    "    def state_1(self):\n",
    "        print(\"\\nState updated to 1\", end = \" | \")\n",
    "        self.state = 1\n",
    "        \n",
    "        ## All BR de-occupy their base\n",
    "        for name, runner in self.runners.items():\n",
    "            runner.occupied_base = None\n",
    "\n",
    "        ## Instantiate a batter at base 0\n",
    "        name = self.names.pop(0)\n",
    "        self.batter = self.cr.create_batter(name)\n",
    "        self.runners[name] = self.batter\n",
    "\n",
    "        \n",
    "    def state_fbc(self):\n",
    "        print(\"\\nSub-state updated to: FBC\", end = \" | \")\n",
    "\n",
    "        self.put_out(self.batter)\n",
    "        \n",
    "        for runner in self.runners.values():\n",
    "            runner.tagup_base = runner.attained_base\n",
    "         \n",
    "    \n",
    "    \"\"\" TAGGING RUNNER, BASE \"\"\"\n",
    "    \n",
    "    def fielder_tags_runner(self, li):\n",
    "        name = li[1]\n",
    "        runner = self.runners[name]\n",
    "\n",
    "        out_tracer = False\n",
    "\n",
    "        if not(runner.occupied_base):\n",
    "            self.put_out(runner)\n",
    "            out_tracer = True\n",
    "\n",
    "        print(f\"\\nFielder tagged {name} for Out = {out_tracer}\")\n",
    "    \n",
    "    \n",
    "    def fielder_tags_base(self, li):\n",
    "        tagged_base = li[1]\n",
    "        \n",
    "        for runner in self.runners.values():\n",
    "            if runner.f2_base == tagged_base or runner.tagup_base == tagged_base:\n",
    "                self.put_out(runner)\n",
    "                print(f\"Fielder tagged {tagged_base} to put {runner.name} out.\")\n",
    "                return\n",
    "       \n",
    "        print(f\"Fielder tagged {tagged_base} -- everybody safe\")\n",
    "        \n",
    "\n",
    "    def occupy_attain_base(self, li):\n",
    "        if self.runners:\n",
    "            self.runners = self.oc.occupy_attain_base(li, self.runners)\n",
    "\n",
    "            \n",
    "    def create_runner(self, li):\n",
    "        start_base = li[1]\n",
    "        name = self.names.pop(0)\n",
    "        runner = self.cr.create_runner(name, start_base)\n",
    "        self.runners[name] = runner\n",
    "    \n",
    "    \n",
    "    \n",
    "    \"\"\" PUT OUT \"\"\"\n",
    "    \n",
    "    def put_out(self, runner_out):\n",
    "        \"\"\" Pass the runner object being put out \"\"\"\n",
    "                \n",
    "        self.runners = self.rf.remove_forces(runner_out, self.runners) # Remove forces for preceding BR        \n",
    "        del self.runners[runner_out.name] # Delete runner from list of runners\n",
    "        self.names.append(runner_out.name) # Recycle the name\n",
    "\n",
    "        print(f\"{runner_out.name} is Out.\\n\")\n",
    "    \n",
    "    \"\"\" UTILITIES \"\"\"\n",
    "        \n",
    "\n",
    "    def print_status(self):\n",
    "        print_status(self.runners)\n",
    "        "
   ]
  },
  {
   "cell_type": "code",
   "execution_count": 30,
   "id": "bded9faf",
   "metadata": {},
   "outputs": [],
   "source": [
    "state_0 = ['state', 'zero']\n",
    "fbc = ['state', 'fbc']\n",
    "bip = ['state', 'bip']\n",
    "\n",
    "runner = 'Isaac'\n",
    "\n",
    "tag_r = ['tag r', runner]\n",
    "tag_1 = ['tag b', 1]\n",
    "tag_2 = ['tag b', 2]\n",
    "tag_3 = ['tag b', 3]\n",
    "\n",
    "occupy_i = ['occupy', 'Isaac', 1]\n",
    "occupy_j = ['occupy', 'Jack', 3]\n",
    "\n",
    "create3 = ['create', 3]\n",
    "create2 = ['create', 2]\n",
    "create1 = ['create', 1]"
   ]
  },
  {
   "cell_type": "code",
   "execution_count": 40,
   "id": "1fa47c20",
   "metadata": {},
   "outputs": [
    {
     "name": "stdout",
     "output_type": "stream",
     "text": [
      "Created Isaac on 3B\n",
      "Created Jack on 1B\n",
      "\n",
      "Status of runners:\n",
      " > Isaac on 3 occupies 3 | He is forced to: None. He must tag-up at: None\n",
      " > Jack on 1 occupies 1 | He is forced to: None. He must tag-up at: None\n",
      "\n",
      "State updated to 0: Pre-pitch \n",
      "\n",
      "\n",
      "State updated to 1 | Created JD on 0B\n",
      "\n",
      "Sub-state updated to: BIP \n",
      "\n",
      "JD is Out.\n",
      "\n",
      "Fielder tagged 1 to put JD out.\n",
      "\n",
      "Status of runners:\n",
      " > Isaac on 3 occupies None | He is forced to: None. He must tag-up at: None\n",
      " > Jack on 1 occupies None | He is forced to: None. He must tag-up at: None\n"
     ]
    }
   ],
   "source": [
    "ru = RuEg()\n",
    "#print_options()\n",
    "\n",
    "ru.master_do(create3)\n",
    "#ru.master_do(create2)\n",
    "ru.master_do(create1)\n",
    "\n",
    "ru.print_status()\n",
    "\n",
    "ru.master_do(state_0)\n",
    "ru.master_do(bip)\n",
    "#ru.master_do(fbc)\n",
    "\n",
    "#ru.print_status()\n",
    "\n",
    "#ru.master_do(tag_r)\n",
    "ru.master_do(tag_1)\n",
    "\n",
    "#ru.master_do(occupy_i)\n",
    "#ru.master_do(occupy_j)\n",
    "\n",
    "ru.print_status()"
   ]
  },
  {
   "cell_type": "code",
   "execution_count": 6,
   "id": "0e297bd6",
   "metadata": {},
   "outputs": [
    {
     "name": "stdout",
     "output_type": "stream",
     "text": [
      "A is a string\n",
      "3902 is an int\n"
     ]
    }
   ],
   "source": [
    "a = 'A'\n",
    "b = 3902\n",
    "if type(a) == str:\n",
    "    print(a, 'is a string')\n",
    "if type(b) == int:\n",
    "    print(b, 'is an int')"
   ]
  },
  {
   "cell_type": "code",
   "execution_count": null,
   "id": "d770cac0",
   "metadata": {},
   "outputs": [],
   "source": []
  }
 ],
 "metadata": {
  "kernelspec": {
   "display_name": "Python 3 (ipykernel)",
   "language": "python",
   "name": "python3"
  },
  "language_info": {
   "codemirror_mode": {
    "name": "ipython",
    "version": 3
   },
   "file_extension": ".py",
   "mimetype": "text/x-python",
   "name": "python",
   "nbconvert_exporter": "python",
   "pygments_lexer": "ipython3",
   "version": "3.10.5"
  }
 },
 "nbformat": 4,
 "nbformat_minor": 5
}
