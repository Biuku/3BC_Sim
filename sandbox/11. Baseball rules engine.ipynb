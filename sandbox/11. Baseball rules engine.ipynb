{
 "cells": [
  {
   "cell_type": "markdown",
   "id": "0978cc2f",
   "metadata": {},
   "source": [
    "# Baseball rules engine\n",
    "\n",
    "May 17, 2024"
   ]
  },
  {
   "cell_type": "markdown",
   "id": "17712a38",
   "metadata": {},
   "source": [
    "## Objective of this Jupyter notebook\n",
    "Problem scope: I need to convert baseball rules into code for how Outs are obtained in baserunning, including:\n",
    "- Force plays\n",
    "- Tag plays\n",
    "- Tagging up on FB\n",
    "- Scoring a run\n",
    "\n",
    "I'll ignore tertiary rules for now (e.g., time plays).\n",
    "\n",
    "My instinct is that force plays and tag plays are States... but a force can be removed, and it can apply to R1 but not R3... so maybe not.\n",
    "\n",
    "### Outside the scope of this notebook\n",
    "- Advancing runners -- but maybe I can remove a force and get it to tell me what happens.\n",
    "- Real time / real defense -- I can set up an initial state, then a notional 'ball in play' state. But I'll assume there is only 1 fielder with the ball and he can tag any runner and any base. Time doesn't pass, just situational increments.\n",
    "- Number of Outs -- 2 outs vs 1 out is not in-scope "
   ]
  },
  {
   "cell_type": "markdown",
   "id": "f0af9efc",
   "metadata": {},
   "source": [
    "## 1. Create baserunner object"
   ]
  },
  {
   "cell_type": "code",
   "execution_count": 120,
   "id": "14a06e34",
   "metadata": {},
   "outputs": [
    {
     "data": {
      "text/plain": [
       "6"
      ]
     },
     "execution_count": 120,
     "metadata": {},
     "output_type": "execute_result"
    }
   ],
   "source": [
    "last_obtained = 6\n",
    "next_obtainable = 1\n",
    "preceding_obtainable = 0\n",
    "\n",
    "statuses = [last_obtained, next_obtainable, preceding_obtainable]\n",
    "\n",
    "statuses[0]"
   ]
  },
  {
   "cell_type": "code",
   "execution_count": 205,
   "id": "f3c0b76d",
   "metadata": {},
   "outputs": [],
   "source": [
    "class Baserunner:\n",
    "    \n",
    "    def __init__(self, name, curr_base = 0):\n",
    "        \n",
    "        self.name = name\n",
    "                \n",
    "        self.master_status = {'last_obtained': curr_base, 'next_obtainable': None, 'preceding_obtainable': None}        \n",
    "        self.bases_centric_status = {1: None, 2: None, 3: None, 4: None}\n",
    "        \n",
    "        self.out_status = False\n",
    "        self.force_status = False\n",
    "        \n",
    "        \n",
    "    def get_name(self):\n",
    "        return self.name\n",
    "    \n",
    "    def update_base_attained(self, new_base_attained):\n",
    "        self.master_status['last_obtained'] = new_base_attained\n",
    "    \n",
    "    \n",
    "    ### Force-play status\n",
    "    \n",
    "    def get_force_status(self):\n",
    "        return self.force_status\n",
    "        \n",
    "    def update_force_status(self, force_status):\n",
    "        self.force_status = force_status\n",
    "    \n",
    "    \n",
    "    ### Apply master status to what each base is to this runner \n",
    "    \n",
    "    def cascade_bases_status_noForce(self):\n",
    "        for base_b, _ in self.bases_centric_status.items():\n",
    "            for status_r, base_r in self.master_status.items():\n",
    "                \n",
    "                if base_b == base_r:\n",
    "                    self.bases_centric_status[base_b] = status_r\n",
    "    \n",
    "    def cascade_bases_status_Force(self):\n",
    "        self.master_status['last_obtained'] = None\n",
    "        self.master_status['preceding_obtainable'] = None\n",
    "        \n",
    "        \n",
    "    def update_master_status(self):\n",
    "        curr_base = self.master_status['last_obtained']\n",
    "        \n",
    "        self.master_status['next_obtainable'] = curr_base + 1\n",
    "        self.master_status['preceding_obtainable'] = curr_base -1\n",
    "        \n",
    "                    \n",
    "    ### Tracer / print the meat of this\n",
    "    def print_bases_status(self):\n",
    "\n",
    "        #self.cascade_bases_status_noForce()\n",
    "        \n",
    "        if self.force_status:\n",
    "            self.cascade_bases_status_Force()\n",
    "            \n",
    "        self.cascade_bases_status_noForce()\n",
    "                   \n",
    "        print(f\"{self.name}: \", end = \"\")\n",
    "\n",
    "        for base_b, status_b in self.bases_centric_status.items():\n",
    "            print(f\"{base_b}B: {status_b} \", end = \" | \")\n",
    "                  "
   ]
  },
  {
   "cell_type": "markdown",
   "id": "10f0c939",
   "metadata": {},
   "source": [
    "## 1.1 Helper func to instantiate 4 baserunners"
   ]
  },
  {
   "cell_type": "code",
   "execution_count": 111,
   "id": "7ea7167d",
   "metadata": {},
   "outputs": [],
   "source": [
    "def make_runners():\n",
    "    names = ['Isaac', 'Jack', 'Josh', 'Romo']\n",
    "    \n",
    "    return [Baserunner(name) for name in names]"
   ]
  },
  {
   "cell_type": "markdown",
   "id": "41d047f9",
   "metadata": {},
   "source": [
    "### 1.2 Helper func to show who's on what base"
   ]
  },
  {
   "cell_type": "code",
   "execution_count": 190,
   "id": "d71b2d39",
   "metadata": {},
   "outputs": [],
   "source": [
    "def whosOnFirst(bases):\n",
    "            \n",
    "    for base_id, base_object in bases.items():\n",
    "        \n",
    "        if base_object:\n",
    "            name = base_object.get_name()\n",
    "            print(f\"{base_id}B: {name}\", end = \"  \")\n",
    "            \n",
    "        else:\n",
    "            print(f\"{base_id}B: -\", end = \"  \")\n",
    "        \n",
    "        print()"
   ]
  },
  {
   "cell_type": "markdown",
   "id": "a46d7536",
   "metadata": {},
   "source": [
    "## 2. Manually place runners on base"
   ]
  },
  {
   "cell_type": "code",
   "execution_count": 200,
   "id": "e8504a3e",
   "metadata": {},
   "outputs": [],
   "source": [
    "def manually_place_runners(bases):\n",
    "    \n",
    "    runners = make_runners()\n",
    "    \n",
    "    for base in range(3, 0, -1):\n",
    "\n",
    "        if bases[base]:\n",
    "            bases[base] = runners.pop(0)\n",
    "            #bases[base].\n",
    "\n",
    "    return bases"
   ]
  },
  {
   "cell_type": "markdown",
   "id": "16f58e91",
   "metadata": {},
   "source": [
    "#### Test it"
   ]
  },
  {
   "cell_type": "code",
   "execution_count": 210,
   "id": "8656d0f9",
   "metadata": {},
   "outputs": [
    {
     "name": "stdout",
     "output_type": "stream",
     "text": [
      "1B: Jack  \n",
      "2B: -  \n",
      "3B: Isaac  \n",
      "4B: -  \n"
     ]
    }
   ],
   "source": [
    "bases = {1: True, 2: False, 3: True, 4: False}\n",
    "\n",
    "bases = manually_place_runners(bases)\n",
    "\n",
    "whosOnFirst(bases)"
   ]
  },
  {
   "cell_type": "markdown",
   "id": "2e0af633",
   "metadata": {},
   "source": [
    "## 2.1. Place runners on base even more manually\n",
    "- Manually set the last, next and preceding bases "
   ]
  },
  {
   "cell_type": "code",
   "execution_count": 220,
   "id": "4a82a6ff",
   "metadata": {},
   "outputs": [
    {
     "name": "stdout",
     "output_type": "stream",
     "text": [
      "\n",
      "1B: Jack  \n",
      "2B: -  \n",
      "3B: Isaac  \n",
      "4B: -  \n",
      "\n",
      "************************** \n",
      "\n",
      "Jack: 1B: None  | 2B: next_obtainable  | 3B: None  | 4B: None  | \n",
      "Isaac: 1B: None  | 2B: preceding_obtainable  | 3B: last_obtained  | 4B: next_obtainable  | \n"
     ]
    }
   ],
   "source": [
    "isaac = Baserunner('Isaac')\n",
    "jack = Baserunner('Jack')\n",
    "\n",
    "isaac.update_base_attained(3)\n",
    "jack.update_base_attained(1)\n",
    "\n",
    "#isaac.update_force_status(True)\n",
    "jack.update_force_status(True)\n",
    "\n",
    "isaac.update_master_status()\n",
    "jack.update_master_status()\n",
    "\n",
    "bases = {1: jack, 2: False, 3: isaac, 4: False}\n",
    "\n",
    "\n",
    "if 1 == 1:\n",
    "\n",
    "    print()\n",
    "    whosOnFirst(bases)\n",
    "    print(\"\\n************************** \\n\")\n",
    "\n",
    "    for base, runner in bases.items():\n",
    "\n",
    "        if runner:\n",
    "            \n",
    "            runner.print_bases_status()\n",
    "            print()"
   ]
  },
  {
   "cell_type": "markdown",
   "id": "3c379118",
   "metadata": {},
   "source": [
    "## 3. Identify forces\n",
    "Just need to check 1B and 2B:\n",
    "- If a runner is on 1B, then if there is an R2 he would be forced\n",
    "- "
   ]
  },
  {
   "cell_type": "code",
   "execution_count": null,
   "id": "79595b8c",
   "metadata": {},
   "outputs": [],
   "source": []
  }
 ],
 "metadata": {
  "kernelspec": {
   "display_name": "Python 3 (ipykernel)",
   "language": "python",
   "name": "python3"
  },
  "language_info": {
   "codemirror_mode": {
    "name": "ipython",
    "version": 3
   },
   "file_extension": ".py",
   "mimetype": "text/x-python",
   "name": "python",
   "nbconvert_exporter": "python",
   "pygments_lexer": "ipython3",
   "version": "3.10.5"
  }
 },
 "nbformat": 4,
 "nbformat_minor": 5
}
