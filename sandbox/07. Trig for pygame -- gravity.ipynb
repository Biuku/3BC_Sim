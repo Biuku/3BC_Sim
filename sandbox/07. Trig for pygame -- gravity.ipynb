{
 "cells": [
  {
   "cell_type": "markdown",
   "id": "a1c84b61",
   "metadata": {},
   "source": [
    "# Trig for pygame -- gravity\n",
    "April 27, 2024"
   ]
  },
  {
   "cell_type": "markdown",
   "id": "86f18cc7",
   "metadata": {},
   "source": [
    "## Problem statement\n",
    "- In my AngryBats sidebar project, I've calibrated gravity to closely mimic reality -- i.e., within that world I know how many feet above the ground the ball is, and I can drop it from a height and it will accelerate down and hit the ground in the time that physics predicts it will take.\n",
    "- But when I launch the ball -- mimicking contact with a bat -- everything is weird:\n",
    "    - Gravity has very little effect on the ball unless I reduce its launch velow a lot. I.e., it's like being on the moon -- the ball travels up 30', across 30', down 30' ... in like half a minute!\n",
    "#### I want to understand why. \n",
    "- First hypothesis -- it has to do with how I track time. Time is the exponential variable in acceleration, and I am tracking it in full seconds. Whereas Pygame uses miliseconds... so maybe other developers default to miliseconds."
   ]
  },
  {
   "cell_type": "code",
   "execution_count": 6,
   "id": "209b4765",
   "metadata": {},
   "outputs": [
    {
     "data": {
      "text/plain": [
       "0.7071067811865476"
      ]
     },
     "execution_count": 6,
     "metadata": {},
     "output_type": "execute_result"
    }
   ],
   "source": [
    "import math\n",
    "\n"
   ]
  },
  {
   "cell_type": "code",
   "execution_count": 33,
   "id": "0e97ad2b",
   "metadata": {},
   "outputs": [],
   "source": [
    "gravity_constant = 1.7\n",
    "\n",
    "velo = 20\n",
    "\n",
    "angle_deg = 135\n",
    "rad = math.radians(angle_deg)"
   ]
  },
  {
   "cell_type": "code",
   "execution_count": 38,
   "id": "d2bcf495",
   "metadata": {},
   "outputs": [
    {
     "data": {
      "text/plain": [
       "-16.0"
      ]
     },
     "execution_count": 38,
     "metadata": {},
     "output_type": "execute_result"
    }
   ],
   "source": [
    "def launch_delta_y(t):    \n",
    "    vector_y = (math.sin(rad) * velo)\n",
    "    delta_y = vector_y * t\n",
    "    \n",
    "    return delta_y\n",
    "\n",
    "def gravity_delta_y(t):\n",
    "    delta_y = (-1 * 0.5 * gravity_constant) * t**2\n",
    "    \n",
    "    return delta_y\n",
    "\n",
    "gravity_delta_y(1)"
   ]
  },
  {
   "cell_type": "markdown",
   "id": "e4104d92",
   "metadata": {},
   "source": [
    "### So, let's try a realistic ratio of gravity to exit velo\n",
    "- gravity accelerates at -32 fps\n",
    "- 60 mph velo = 88 fps\n",
    "\n",
    "So for the first unit of time, a 60 mph hit at 45 degrees is going up 2.7x more than gravity is pulling it down. Does this mean I should set these variables in this ratio?"
   ]
  },
  {
   "cell_type": "code",
   "execution_count": 61,
   "id": "5fe05eaa",
   "metadata": {},
   "outputs": [],
   "source": [
    "def unit_test():\n",
    "    print(gravity_constant, velo)\n",
    "    for i in range(60):\n",
    "        t = i/10\n",
    "        launch = int(launch_delta_y(t))\n",
    "        gravity = int(gravity_delta_y(t))\n",
    "        power_of_launch =int(launch + gravity)\n",
    "        print(f\"{t}s | launch = {launch} | gravity = {gravity}) | power of launch = {power_of_launch}\")\n",
    "        if power_of_launch < -5:\n",
    "            break"
   ]
  },
  {
   "cell_type": "code",
   "execution_count": 62,
   "id": "83658f6e",
   "metadata": {},
   "outputs": [
    {
     "name": "stdout",
     "output_type": "stream",
     "text": [
      "27 95\n",
      "0.0s | launch = 0 | gravity = 0) | power of launch = 0\n",
      "0.1s | launch = 6 | gravity = 0) | power of launch = 6\n",
      "0.2s | launch = 13 | gravity = 0) | power of launch = 13\n",
      "0.3s | launch = 20 | gravity = -1) | power of launch = 19\n",
      "0.4s | launch = 26 | gravity = -2) | power of launch = 24\n",
      "0.5s | launch = 33 | gravity = -3) | power of launch = 30\n",
      "0.6s | launch = 40 | gravity = -4) | power of launch = 36\n",
      "0.7s | launch = 47 | gravity = -6) | power of launch = 41\n",
      "0.8s | launch = 53 | gravity = -8) | power of launch = 45\n",
      "0.9s | launch = 60 | gravity = -10) | power of launch = 50\n",
      "1.0s | launch = 67 | gravity = -13) | power of launch = 54\n",
      "1.1s | launch = 73 | gravity = -16) | power of launch = 57\n",
      "1.2s | launch = 80 | gravity = -19) | power of launch = 61\n",
      "1.3s | launch = 87 | gravity = -22) | power of launch = 65\n",
      "1.4s | launch = 94 | gravity = -26) | power of launch = 68\n",
      "1.5s | launch = 100 | gravity = -30) | power of launch = 70\n",
      "1.6s | launch = 107 | gravity = -34) | power of launch = 73\n",
      "1.7s | launch = 114 | gravity = -39) | power of launch = 75\n",
      "1.8s | launch = 120 | gravity = -43) | power of launch = 77\n",
      "1.9s | launch = 127 | gravity = -48) | power of launch = 79\n",
      "2.0s | launch = 134 | gravity = -54) | power of launch = 80\n",
      "2.1s | launch = 141 | gravity = -59) | power of launch = 82\n",
      "2.2s | launch = 147 | gravity = -65) | power of launch = 82\n",
      "2.3s | launch = 154 | gravity = -71) | power of launch = 83\n",
      "2.4s | launch = 161 | gravity = -77) | power of launch = 84\n",
      "2.5s | launch = 167 | gravity = -84) | power of launch = 83\n",
      "2.6s | launch = 174 | gravity = -91) | power of launch = 83\n",
      "2.7s | launch = 181 | gravity = -98) | power of launch = 83\n",
      "2.8s | launch = 188 | gravity = -105) | power of launch = 83\n",
      "2.9s | launch = 194 | gravity = -113) | power of launch = 81\n",
      "3.0s | launch = 201 | gravity = -121) | power of launch = 80\n",
      "3.1s | launch = 208 | gravity = -129) | power of launch = 79\n",
      "3.2s | launch = 214 | gravity = -138) | power of launch = 76\n",
      "3.3s | launch = 221 | gravity = -147) | power of launch = 74\n",
      "3.4s | launch = 228 | gravity = -156) | power of launch = 72\n",
      "3.5s | launch = 235 | gravity = -165) | power of launch = 70\n",
      "3.6s | launch = 241 | gravity = -174) | power of launch = 67\n",
      "3.7s | launch = 248 | gravity = -184) | power of launch = 64\n",
      "3.8s | launch = 255 | gravity = -194) | power of launch = 61\n",
      "3.9s | launch = 261 | gravity = -205) | power of launch = 56\n",
      "4.0s | launch = 268 | gravity = -216) | power of launch = 52\n",
      "4.1s | launch = 275 | gravity = -226) | power of launch = 49\n",
      "4.2s | launch = 282 | gravity = -238) | power of launch = 44\n",
      "4.3s | launch = 288 | gravity = -249) | power of launch = 39\n",
      "4.4s | launch = 295 | gravity = -261) | power of launch = 34\n",
      "4.5s | launch = 302 | gravity = -273) | power of launch = 29\n",
      "4.6s | launch = 309 | gravity = -285) | power of launch = 24\n",
      "4.7s | launch = 315 | gravity = -298) | power of launch = 17\n",
      "4.8s | launch = 322 | gravity = -311) | power of launch = 11\n",
      "4.9s | launch = 329 | gravity = -324) | power of launch = 5\n",
      "5.0s | launch = 335 | gravity = -337) | power of launch = -2\n",
      "5.1s | launch = 342 | gravity = -351) | power of launch = -9\n"
     ]
    }
   ],
   "source": [
    "gravity_constant = 27\n",
    "velo = 95\n",
    "\n",
    "unit_test()"
   ]
  },
  {
   "cell_type": "markdown",
   "id": "f8002faf",
   "metadata": {},
   "source": [
    "## Okay -- I matched this up to a legit Vladdy hit:\n",
    "<a href = \"https://baseballsavant.mlb.com/sporty-videos?playId=93ce4ff4-4558-41c9-8b40-44087b35ca1a\">URL</a>\n",
    "\n",
    "- 95 mph exit velo\n",
    "- 45 degree launch angle\n",
    "- 5.0s of flight time \n",
    "\n",
    "If I set velo at 95 for 95 mph, then the gravity that gets me 5s is 27.\n",
    "\n",
    "Is this linear? Can I do 48 mph and gravity of 14?"
   ]
  },
  {
   "cell_type": "code",
   "execution_count": 63,
   "id": "5340f915",
   "metadata": {},
   "outputs": [
    {
     "name": "stdout",
     "output_type": "stream",
     "text": [
      "13.5 47.5\n",
      "0.0s | launch = 0 | gravity = 0) | power of launch = 0\n",
      "0.1s | launch = 3 | gravity = 0) | power of launch = 3\n",
      "0.2s | launch = 6 | gravity = 0) | power of launch = 6\n",
      "0.3s | launch = 10 | gravity = 0) | power of launch = 10\n",
      "0.4s | launch = 13 | gravity = -1) | power of launch = 12\n",
      "0.5s | launch = 16 | gravity = -1) | power of launch = 15\n",
      "0.6s | launch = 20 | gravity = -2) | power of launch = 18\n",
      "0.7s | launch = 23 | gravity = -3) | power of launch = 20\n",
      "0.8s | launch = 26 | gravity = -4) | power of launch = 22\n",
      "0.9s | launch = 30 | gravity = -5) | power of launch = 25\n",
      "1.0s | launch = 33 | gravity = -6) | power of launch = 27\n",
      "1.1s | launch = 36 | gravity = -8) | power of launch = 28\n",
      "1.2s | launch = 40 | gravity = -9) | power of launch = 31\n",
      "1.3s | launch = 43 | gravity = -11) | power of launch = 32\n",
      "1.4s | launch = 47 | gravity = -13) | power of launch = 34\n",
      "1.5s | launch = 50 | gravity = -15) | power of launch = 35\n",
      "1.6s | launch = 53 | gravity = -17) | power of launch = 36\n",
      "1.7s | launch = 57 | gravity = -19) | power of launch = 38\n",
      "1.8s | launch = 60 | gravity = -21) | power of launch = 39\n",
      "1.9s | launch = 63 | gravity = -24) | power of launch = 39\n",
      "2.0s | launch = 67 | gravity = -27) | power of launch = 40\n",
      "2.1s | launch = 70 | gravity = -29) | power of launch = 41\n",
      "2.2s | launch = 73 | gravity = -32) | power of launch = 41\n",
      "2.3s | launch = 77 | gravity = -35) | power of launch = 42\n",
      "2.4s | launch = 80 | gravity = -38) | power of launch = 42\n",
      "2.5s | launch = 83 | gravity = -42) | power of launch = 41\n",
      "2.6s | launch = 87 | gravity = -45) | power of launch = 42\n",
      "2.7s | launch = 90 | gravity = -49) | power of launch = 41\n",
      "2.8s | launch = 94 | gravity = -52) | power of launch = 42\n",
      "2.9s | launch = 97 | gravity = -56) | power of launch = 41\n",
      "3.0s | launch = 100 | gravity = -60) | power of launch = 40\n",
      "3.1s | launch = 104 | gravity = -64) | power of launch = 40\n",
      "3.2s | launch = 107 | gravity = -69) | power of launch = 38\n",
      "3.3s | launch = 110 | gravity = -73) | power of launch = 37\n",
      "3.4s | launch = 114 | gravity = -78) | power of launch = 36\n",
      "3.5s | launch = 117 | gravity = -82) | power of launch = 35\n",
      "3.6s | launch = 120 | gravity = -87) | power of launch = 33\n",
      "3.7s | launch = 124 | gravity = -92) | power of launch = 32\n",
      "3.8s | launch = 127 | gravity = -97) | power of launch = 30\n",
      "3.9s | launch = 130 | gravity = -102) | power of launch = 28\n",
      "4.0s | launch = 134 | gravity = -108) | power of launch = 26\n",
      "4.1s | launch = 137 | gravity = -113) | power of launch = 24\n",
      "4.2s | launch = 141 | gravity = -119) | power of launch = 22\n",
      "4.3s | launch = 144 | gravity = -124) | power of launch = 20\n",
      "4.4s | launch = 147 | gravity = -130) | power of launch = 17\n",
      "4.5s | launch = 151 | gravity = -136) | power of launch = 15\n",
      "4.6s | launch = 154 | gravity = -142) | power of launch = 12\n",
      "4.7s | launch = 157 | gravity = -149) | power of launch = 8\n",
      "4.8s | launch = 161 | gravity = -155) | power of launch = 6\n",
      "4.9s | launch = 164 | gravity = -162) | power of launch = 2\n",
      "5.0s | launch = 167 | gravity = -168) | power of launch = -1\n",
      "5.1s | launch = 171 | gravity = -175) | power of launch = -4\n",
      "5.2s | launch = 174 | gravity = -182) | power of launch = -8\n"
     ]
    }
   ],
   "source": [
    "gravity_constant = 27/2\n",
    "velo = 95/2\n",
    "\n",
    "unit_test()"
   ]
  },
  {
   "cell_type": "markdown",
   "id": "ab86896c",
   "metadata": {},
   "source": [
    "## Yes -- it scaled linarly..."
   ]
  },
  {
   "cell_type": "markdown",
   "id": "15097757",
   "metadata": {},
   "source": [
    "## I could also pivot on the velo that produces a realistic line drive -- launch angle of 5 degrees, say\n",
    "\n",
    "Here's a Vladdy hit that's 95 mph and 7 degrees launch angle: https://baseballsavant.mlb.com/sporty-videos?playId=3f43b9b2-a85b-4912-a872-34c5e81083d4\n",
    "- 7 degree launch angle is almost 100% cosine / x axis\n",
    "- It soars past the infield... touching down maybe 150' away in about 0.8s"
   ]
  },
  {
   "cell_type": "code",
   "execution_count": 71,
   "id": "008fa4b7",
   "metadata": {},
   "outputs": [
    {
     "data": {
      "text/plain": [
       "-1.0"
      ]
     },
     "execution_count": 71,
     "metadata": {},
     "output_type": "execute_result"
    }
   ],
   "source": [
    "math.cos(math.radians(180))\n"
   ]
  },
  {
   "cell_type": "code",
   "execution_count": null,
   "id": "f059eec8",
   "metadata": {},
   "outputs": [],
   "source": []
  }
 ],
 "metadata": {
  "kernelspec": {
   "display_name": "Python 3 (ipykernel)",
   "language": "python",
   "name": "python3"
  },
  "language_info": {
   "codemirror_mode": {
    "name": "ipython",
    "version": 3
   },
   "file_extension": ".py",
   "mimetype": "text/x-python",
   "name": "python",
   "nbconvert_exporter": "python",
   "pygments_lexer": "ipython3",
   "version": "3.10.5"
  }
 },
 "nbformat": 4,
 "nbformat_minor": 5
}
